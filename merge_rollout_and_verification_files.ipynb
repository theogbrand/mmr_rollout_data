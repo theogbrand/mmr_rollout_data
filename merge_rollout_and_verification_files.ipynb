{
 "cells": [
  {
   "cell_type": "markdown",
   "id": "307e1645",
   "metadata": {},
   "source": [
    "## Merge \"final verification processed\" files with mutiple subset dataset files into a single \"model-level\" file to be used in the next step\n",
    "* run merge_rollout_and_verification_files.py \"test single\" config to run merge."
   ]
  },
  {
   "cell_type": "code",
   "execution_count": 1,
   "id": "32d07c31",
   "metadata": {},
   "outputs": [],
   "source": [
    "import json\n",
    "import os\n",
    "import glob\n",
    "from pathlib import Path\n",
    "from typing import List, Dict, Any\n",
    "\n",
    "def check_schema_consistency(jsonl_files: List[str]) -> bool:\n",
    "    \"\"\"Check if all JSONL files have identical schema.\"\"\"\n",
    "    if not jsonl_files:\n",
    "        return True\n",
    "    \n",
    "    # Read first file to get reference schema\n",
    "    with open(jsonl_files[0], 'r') as f:\n",
    "        first_line = f.readline().strip()\n",
    "        if not first_line:\n",
    "            return True\n",
    "        reference_schema = set(json.loads(first_line).keys())\n",
    "    \n",
    "    # Check all other files\n",
    "    for file_path in jsonl_files[1:]:\n",
    "        with open(file_path, 'r') as f:\n",
    "            first_line = f.readline().strip()\n",
    "            if not first_line:\n",
    "                continue\n",
    "            current_schema = set(json.loads(first_line).keys())\n",
    "            if current_schema != reference_schema:\n",
    "                print(f\"Schema mismatch in {file_path}\")\n",
    "                print(f\"Expected: {reference_schema}\")\n",
    "                print(f\"Found: {current_schema}\")\n",
    "                return False\n",
    "    \n",
    "    return True\n",
    "\n",
    "def flatten_jsonl_files(input_files: List[str], output_file: str) -> int:\n",
    "    \"\"\"Flatten multiple JSONL files into a single JSONL file.\"\"\"\n",
    "    total_lines = 0\n",
    "    \n",
    "    with open(output_file, 'w') as outfile:\n",
    "        for file_path in input_files:\n",
    "            print(f\"Processing {file_path}...\")\n",
    "            with open(file_path, 'r') as infile:\n",
    "                for line in infile:\n",
    "                    line = line.strip()\n",
    "                    if line:  # Skip empty lines\n",
    "                        outfile.write(line + '\\n')\n",
    "                        total_lines += 1\n",
    "    \n",
    "    return total_lines"
   ]
  },
  {
   "cell_type": "code",
   "execution_count": 2,
   "id": "7b54a0bc",
   "metadata": {},
   "outputs": [
    {
     "name": "stdout",
     "output_type": "stream",
     "text": [
      "Processing dataset: dvqa\n",
      "Subsets: ['dvqa_first_5k', 'dvqa_second_5k', 'dvqa_third_5k']\n",
      "\n",
      "=== Processing model: gpt-4.1-mini ===\n",
      "Found: dvqa_final_verification_processed_gpt-4.1-mini_dvqa_first_5k.jsonl\n",
      "Found: dvqa_final_verification_processed_gpt-4.1-mini_dvqa_second_5k.jsonl\n",
      "Found: dvqa_final_verification_processed_gpt-4.1-mini_dvqa_third_5k.jsonl\n",
      "Files to merge: 3\n",
      "\n",
      "Checking schema consistency...\n",
      "Schema check passed!\n",
      "Merging to /mnt/fast10/brandon/mmr_rollout_data/merged_verification_files/model_level_merged_files/dvqa/dvqa_final_subset_merged_verification_processed_gpt-4.1-mini.jsonl...\n",
      "Processing /mnt/fast10/brandon/mmr_rollout_data/merged_verification_files/dvqa/dvqa_final_verification_processed_gpt-4.1-mini_dvqa_first_5k.jsonl...\n",
      "Processing /mnt/fast10/brandon/mmr_rollout_data/merged_verification_files/dvqa/dvqa_final_verification_processed_gpt-4.1-mini_dvqa_second_5k.jsonl...\n",
      "Processing /mnt/fast10/brandon/mmr_rollout_data/merged_verification_files/dvqa/dvqa_final_verification_processed_gpt-4.1-mini_dvqa_third_5k.jsonl...\n",
      "Successfully merged 89999 lines to /mnt/fast10/brandon/mmr_rollout_data/merged_verification_files/model_level_merged_files/dvqa/dvqa_final_subset_merged_verification_processed_gpt-4.1-mini.jsonl\n",
      "\n",
      "=== Processing model: gpt-4.1-nano ===\n",
      "Found: dvqa_final_verification_processed_gpt-4.1-nano_dvqa_first_5k.jsonl\n",
      "Found: dvqa_final_verification_processed_gpt-4.1-nano_dvqa_second_5k.jsonl\n",
      "Found: dvqa_final_verification_processed_gpt-4.1-nano_dvqa_third_5k.jsonl\n",
      "Files to merge: 3\n",
      "\n",
      "Checking schema consistency...\n",
      "Schema check passed!\n",
      "Merging to /mnt/fast10/brandon/mmr_rollout_data/merged_verification_files/model_level_merged_files/dvqa/dvqa_final_subset_merged_verification_processed_gpt-4.1-nano.jsonl...\n",
      "Processing /mnt/fast10/brandon/mmr_rollout_data/merged_verification_files/dvqa/dvqa_final_verification_processed_gpt-4.1-nano_dvqa_first_5k.jsonl...\n",
      "Processing /mnt/fast10/brandon/mmr_rollout_data/merged_verification_files/dvqa/dvqa_final_verification_processed_gpt-4.1-nano_dvqa_second_5k.jsonl...\n",
      "Processing /mnt/fast10/brandon/mmr_rollout_data/merged_verification_files/dvqa/dvqa_final_verification_processed_gpt-4.1-nano_dvqa_third_5k.jsonl...\n",
      "Successfully merged 89999 lines to /mnt/fast10/brandon/mmr_rollout_data/merged_verification_files/model_level_merged_files/dvqa/dvqa_final_subset_merged_verification_processed_gpt-4.1-nano.jsonl\n",
      "\n",
      "=== Processing model: o4-mini ===\n",
      "Found: dvqa_final_verification_processed_o4-mini_dvqa_first_5k.jsonl\n",
      "Found: dvqa_final_verification_processed_o4-mini_dvqa_second_5k.jsonl\n",
      "Found: dvqa_final_verification_processed_o4-mini_dvqa_third_5k.jsonl\n",
      "Files to merge: 3\n",
      "\n",
      "Checking schema consistency...\n",
      "Schema check passed!\n",
      "Merging to /mnt/fast10/brandon/mmr_rollout_data/merged_verification_files/model_level_merged_files/dvqa/dvqa_final_subset_merged_verification_processed_o4-mini.jsonl...\n",
      "Processing /mnt/fast10/brandon/mmr_rollout_data/merged_verification_files/dvqa/dvqa_final_verification_processed_o4-mini_dvqa_first_5k.jsonl...\n",
      "Processing /mnt/fast10/brandon/mmr_rollout_data/merged_verification_files/dvqa/dvqa_final_verification_processed_o4-mini_dvqa_second_5k.jsonl...\n",
      "Processing /mnt/fast10/brandon/mmr_rollout_data/merged_verification_files/dvqa/dvqa_final_verification_processed_o4-mini_dvqa_third_5k.jsonl...\n",
      "Successfully merged 89965 lines to /mnt/fast10/brandon/mmr_rollout_data/merged_verification_files/model_level_merged_files/dvqa/dvqa_final_subset_merged_verification_processed_o4-mini.jsonl\n",
      "\n",
      "=== All models processed ===\n"
     ]
    }
   ],
   "source": [
    "import os\n",
    "import glob\n",
    "from collections import defaultdict\n",
    "\n",
    "dataset_subset_split_mapping = {\n",
    "    \"CLEVR\": [\"CLEVR_first_5k\", \"CLEVR_second_5k\"],\n",
    "    \"RAVEN\": [\"center_single\", \"distribute_four\", \"distribute_nine\", \"in_center_single_out_center_single_train\", \"in_distribute_four_out_center_single_train\", \"left_center_single_right_center_single_train\", \"up_center_single_down_center_single_train\"],\n",
    "    \"dvqa\": [\"dvqa_first_5k\", \"dvqa_second_5k\", \"dvqa_third_5k\"]\n",
    "}\n",
    "\n",
    "# Configuration\n",
    "dataset_name = \"dvqa\"\n",
    "models = [\"gpt-4.1-mini\", \"gpt-4.1-nano\", \"o4-mini\"]\n",
    "input_dir = f\"/mnt/fast10/brandon/mmr_rollout_data/merged_verification_files/{dataset_name}\" #TODO: Create the folder (it will not exist automatically yet)\n",
    "output_dir = f\"/mnt/fast10/brandon/mmr_rollout_data/merged_verification_files/model_level_merged_files/{dataset_name}\"\n",
    "\n",
    "\n",
    "# Create output directory if it doesn't exist\n",
    "os.makedirs(output_dir, exist_ok=True)\n",
    "\n",
    "# Get subsets for the current dataset\n",
    "subsets = dataset_subset_split_mapping.get(dataset_name, [])\n",
    "print(f\"Processing dataset: {dataset_name}\")\n",
    "print(f\"Subsets: {subsets}\")\n",
    "\n",
    "# Process each model\n",
    "for model in models:\n",
    "    print(f\"\\n=== Processing model: {model} ===\")\n",
    "    \n",
    "    # Find all files for this model across all subsets\n",
    "    model_files = []\n",
    "    for subset in subsets:\n",
    "        filename = f\"{dataset_name}_final_verification_processed_{model}_{subset}.jsonl\"\n",
    "        file_path = os.path.join(input_dir, filename)\n",
    "        \n",
    "        if os.path.exists(file_path):\n",
    "            model_files.append(file_path)\n",
    "            print(f\"Found: {filename}\")\n",
    "        else:\n",
    "            print(f\"Missing: {filename}\")\n",
    "    \n",
    "    if not model_files:\n",
    "        print(f\"No files found for model {model}\")\n",
    "        continue\n",
    "    \n",
    "    print(f\"Files to merge: {len(model_files)}\")\n",
    "    \n",
    "    # Check schema consistency\n",
    "    print(f\"\\nChecking schema consistency...\")\n",
    "    if not check_schema_consistency(model_files):\n",
    "        print(f\"ERROR: Schema mismatch detected in {model}. Skipping flattening.\")\n",
    "        continue\n",
    "    \n",
    "    print(\"Schema check passed!\")\n",
    "\n",
    "    # Flatten files\n",
    "    output_file = f\"{output_dir}/{dataset_name}_final_subset_merged_verification_processed_{model}.jsonl\"\n",
    "    print(f\"Merging to {output_file}...\")\n",
    "    \n",
    "    total_lines = flatten_jsonl_files(model_files, output_file)\n",
    "    print(f\"Successfully merged {total_lines} lines to {output_file}\")\n",
    "\n",
    "print(\"\\n=== All models processed ===\")"
   ]
  },
  {
   "cell_type": "markdown",
   "id": "c187f21e",
   "metadata": {},
   "source": [
    "# Take merged verification files and merge them with the rollout files (use merge_rollout_and_verification_files.py for this)"
   ]
  },
  {
   "cell_type": "code",
   "execution_count": 3,
   "id": "1ee53815",
   "metadata": {},
   "outputs": [
    {
     "name": "stdout",
     "output_type": "stream",
     "text": [
      "Columns: ['image', 'question', 'answer', 'uid', 'image_path', 'response', 'steps_with_score']\n",
      "First row key: value pairs:\n",
      "image: MMPR-v1.2-prompts/correctness_images/dvqa_en_20240402_extracted_int_only/images/bar_train_00093673.png\n",
      "question: You are an expert data analyst specializing in interpreting data visualizations. Your task is to answer questions about charts and graphs presented to you in images. You will be provided with an image containing one or more data visualizations and a specific question about the data presented.\n",
      "\n",
      "I will provide you with an image containing:\n",
      "- Data Visualization: A chart or graph that contains data points and other visual elements.\n",
      "\n",
      "Here's the question you need to answer:\n",
      "\n",
      "<question>\n",
      "How many people prefer the objects bass or figure? Answer the question using a single word or phrase.\n",
      "</question>\n",
      "\n",
      "Please follow these steps to complete the task:\n",
      "\n",
      "1. Carefully examine the image, paying attention to all elements of the data visualization(s) such as titles, labels, axes, legends, and data points.\n",
      "\n",
      "2. Analyze the data presented in the visualization(s), identifying specific data points or trends that relate to the question asked.\n",
      "\n",
      "3. Interpret the data and connect it to the specific question asked. Consider how the data directly relates to answering the question.\n",
      "\n",
      "4. Reason through your analysis and interpretation to determine the answer to the question. The answer must be a single integer.\n",
      "\n",
      "5. Present your answer in a LaTeX-formatted box using this format: `<correct_answer>\\n$\\boxed{integer}$\\n</correct_answer>`.\n",
      "\n",
      "Your task is to: \n",
      "- Under the [Visual Elements] section of your thinking block, list out your step-by-step perception of the visual elements in the chart. Be thorough but concise. Wrap each element in <step> tags and prepend each with a number, counting up.\n",
      "- Under the [Reasoning] section of your thinking block, explain your step-by-step reasoning process. This should include your analysis, interpretation, and how you arrived at the answer. Provide a clear justification of how you derived the answer from the data presented. Wrap each step in <step> tags and prepend each with a number, counting up.\n",
      "- Present your final answer using the LaTeX-formatted box in `<correct_answer>` tags.\n",
      "\n",
      "It is crucial that your solution contains these sections in the exact format described below:\n",
      "\n",
      "```\n",
      "[Visual Elements]\n",
      "<step_1>\n",
      "...(Step 1 of step-by-step perception)...\n",
      "</step_1>\n",
      "<step_2>\n",
      "...(Step 2 of step-by-step perception)...\n",
      "</step_2>\n",
      "...\n",
      "<step_n>\n",
      "...(Step n of step-by-step perception)...\n",
      "</step_n>\n",
      "\n",
      "[Reasoning]\n",
      "<step_1>\n",
      "...(Step 1 of step-by-step reasoning)...\n",
      "</step_1>\n",
      "<step_2>\n",
      "...(Step 2 of step-by-step reasoning)...\n",
      "</step_2>\n",
      "...\n",
      "<step_m>\n",
      "...(Step m of step-by-step reasoning)...\n",
      "</step_m>\n",
      "\n",
      "<correct_answer>\n",
      "$\\boxed{integer}$\n",
      "</correct_answer>\n",
      "```\n",
      "\n",
      "Important: Your output must strictly adhere to this format. Do not include any additional text or explanations outside of these sections. Your final output should consist only of the LaTeX-formatted box with the answer and should not duplicate or rehash any of the work you did in the thinking block.\n",
      "answer: 3\n",
      "uid: 8027e474-b675-40e1-8ee4-78977d5f4dd5\n",
      "image_path: /data/users/brandon/ob1-projects/InternVL/internvl_chat/rollout_generation/preprocessed_prompts/preprocessing_scripts/DVQA/subset_images/bar_train_00093673.png\n",
      "response: [Visual Elements]\n",
      "<step_1>\n",
      "The chart is a bar graph with the title \"Most preferred objects.\"\n",
      "</step_1>\n",
      "<step_2>\n",
      "The y-axis is labeled \"Number of People\" and ranges from 0 to 10.\n",
      "</step_2>\n",
      "<step_3>\n",
      "There are two bars, one labeled \"figure\" and the other labeled \"bass\" on the x-axis.\n",
      "</step_3>\n",
      "<step_4>\n",
      "The height of the \"figure\" bar reaches 2 on the y-axis.\n",
      "</step_4>\n",
      "<step_5>\n",
      "The height of the \"bass\" bar reaches 1 on the y-axis.\n",
      "</step_5>\n",
      "\n",
      "[Reasoning]\n",
      "<step_1>\n",
      "The question asks how many people prefer either \"bass\" or \"figure.\"\n",
      "</step_1>\n",
      "<step_2>\n",
      "From the bar graph, 2 people prefer \"figure\" and 1 person prefers \"bass.\"\n",
      "</step_2>\n",
      "<step_3>\n",
      "Summing these values gives the total number of people who prefer either object: 2 + 1 = 3.\n",
      "</step_3>\n",
      "\n",
      "<correct_answer>\n",
      "$\\boxed{3}$\n",
      "</correct_answer>\n",
      "steps_with_score: [{'step': 'The chart is a bar graph with the title \"Most preferred objects.\"', 'score': 1.0, 'num_mc_correct': 16, 'num_mc_total': 16}, {'step': 'The y-axis is labeled \"Number of People\" and ranges from 0 to 10.', 'score': 1.0, 'num_mc_correct': 16, 'num_mc_total': 16}, {'step': 'There are two bars, one labeled \"figure\" and the other labeled \"bass\" on the x-axis.', 'score': 1.0, 'num_mc_correct': 16, 'num_mc_total': 16}, {'step': 'The height of the \"figure\" bar reaches 2 on the y-axis.', 'score': 1.0, 'num_mc_correct': 16, 'num_mc_total': 16}, {'step': 'The height of the \"bass\" bar reaches 1 on the y-axis.', 'score': 1.0, 'num_mc_correct': 16, 'num_mc_total': 16}, {'step': 'The question asks how many people prefer either \"bass\" or \"figure.\"', 'score': 1.0, 'num_mc_correct': 16, 'num_mc_total': 16}, {'step': 'From the bar graph, 2 people prefer \"figure\" and 1 person prefers \"bass.\"', 'score': 1.0, 'num_mc_correct': 16, 'num_mc_total': 16}, {'step': 'Summing these values gives the total number of people who prefer either object: 2 + 1 = 3.', 'score': 1.0, 'num_mc_correct': 16, 'num_mc_total': 16}]\n"
     ]
    }
   ],
   "source": [
    "import json\n",
    "\n",
    "file_path = \"/mnt/fast10/brandon/mmr_rollout_data/flattened_rollout_files/dvqa_flattened.jsonl\"\n",
    "\n",
    "with open(file_path, \"r\") as f:\n",
    "    first = next(f)\n",
    "    row = json.loads(first)\n",
    "    print(\"Columns:\", list(row.keys()))\n",
    "    print(\"First row key: value pairs:\")\n",
    "    for k, v in row.items():\n",
    "        print(f\"{k}: {v}\")"
   ]
  },
  {
   "cell_type": "code",
   "execution_count": 6,
   "id": "7e784acf",
   "metadata": {},
   "outputs": [
    {
     "name": "stdout",
     "output_type": "stream",
     "text": [
      "Columns: ['image', 'question', 'answer', 'uid', 'image_path', 'response', 'steps_with_score']\n"
     ]
    }
   ],
   "source": [
    "import json\n",
    "\n",
    "file_path = \"/mnt/fast10/brandon/mmr_rollout_data/flattened_rollout_files/CLEVR_flattened.jsonl\"\n",
    "\n",
    "with open(file_path, \"r\") as f:\n",
    "    first = next(f)\n",
    "    row = json.loads(first)\n",
    "    print(\"Columns:\", list(row.keys()))"
   ]
  },
  {
   "cell_type": "code",
   "execution_count": 6,
   "id": "128f8678",
   "metadata": {},
   "outputs": [
    {
     "name": "stdout",
     "output_type": "stream",
     "text": [
      "Extracted 24595 valid verification_solutions\n"
     ]
    }
   ],
   "source": [
    "import re\n",
    "import json\n",
    "\n",
    "model_name = \"o4-mini\"\n",
    "dataset_name = \"AI2D\"\n",
    "merged_verification_file = f\"/mnt/fast10/brandon/mmr_rollout_data/merged_verification_files/{dataset_name}_final_verification_processed_{model_name}.jsonl\"\n",
    "# output_path = f\"/mnt/fast10/brandon/mmr_rollout_data/processed_full_verification_files/{dataset_name}_final_mc_and_verification_merged_{model_name}.jsonl\"\n",
    "\n",
    "# Extract verification_solutions from merged file\n",
    "verification_solutions = []\n",
    "solution_pattern = re.compile(r'<solution>(.*?)</solution>', re.DOTALL)\n",
    "\n",
    "with open(merged_verification_file, 'r') as f:\n",
    "    for line_num, line in enumerate(f, 1):\n",
    "        item = json.loads(line)\n",
    "        try:\n",
    "            text = item[\"body\"][\"messages\"][0][\"content\"][0][\"text\"]\n",
    "            # Find all matches and get the second one\n",
    "            matches = solution_pattern.findall(text)\n",
    "            if len(matches) >= 2:\n",
    "                solution_text = matches[1].strip()  # Get second occurrence\n",
    "                if solution_text:  # Only add non-emptyverification_solutions \n",
    "                    verification_solutions.append({\n",
    "                        \"custom_id\": item.get(\"custom_id\", \"ERROR: custom_id not found\"),\n",
    "                        \"unique_key\": solution_text,\n",
    "                        \"verification_response\": item.get(\"verification_response\", \"ERROR: verification_response not found\"),\n",
    "                        \"o4-mini_isVerified\": item.get(\"o4-mini_isVerified\", \"ERROR: o4-mini_isVerified not found\")\n",
    "                    })\n",
    "            elif len(matches) == 1:\n",
    "                print(f\"Warning: Only one <solution> tag found in line {line_num}\")\n",
    "            else:\n",
    "                print(f\"Warning: No <solution> tags found in line {line_num}\")\n",
    "        except (KeyError, IndexError, TypeError) as e:\n",
    "            print(f\"Error accessing text in line {line_num}: {e}\")\n",
    "\n",
    "print(f\"Extracted {len(verification_solutions)} valid verification_solutions\")"
   ]
  },
  {
   "cell_type": "code",
   "execution_count": 7,
   "id": "77d2e3a0",
   "metadata": {},
   "outputs": [
    {
     "name": "stdout",
     "output_type": "stream",
     "text": [
      "Loaded 25557 items from flattened file\n"
     ]
    }
   ],
   "source": [
    "# Load flattened file once into memory\n",
    "full_raw_rollout_data_file = \"/mnt/fast10/brandon/mmr_rollout_data/flattened_rollout_files/AI2D_flattened.jsonl\"\n",
    "full_raw_rollout_data_array = []\n",
    "\n",
    "with open(full_raw_rollout_data_file, 'r') as f:\n",
    "    for line in f:\n",
    "        item = json.loads(line)\n",
    "        full_raw_rollout_data_array.append({\n",
    "            \"response\": item.get(\"response\", \"\"),\n",
    "            \"response_uid\": item.get(\"uid\", \"\"),\n",
    "            \"image_path\": item.get(\"image_path\", \"\"),\n",
    "        })\n",
    "\n",
    "print(f\"Loaded {len(full_raw_rollout_data_array)} items from flattened file\")"
   ]
  },
  {
   "cell_type": "code",
   "execution_count": 8,
   "id": "0873f1b3",
   "metadata": {},
   "outputs": [
    {
     "name": "stdout",
     "output_type": "stream",
     "text": [
      "dict_keys(['response', 'response_uid', 'image_path'])\n",
      "response\n",
      "[Visual Elements]\n",
      "<step_1>\n",
      "Identify all organisms in the food web: short-eared owl, vole, meadow pippit, emperor moth larvae, red grouse, heather, fox, brown hare, red kite or hen harrier.\n",
      "</step_1>\n",
      "<step_2>\n",
      "Note the arrows indicating feeding relationships: arrows point from food to consumer.\n",
      "</step_2>\n",
      "<step_3>\n",
      "Observe that the fox eats: red grouse, brown hare, and vole (arrows pointing from each of these to fox).\n",
      "</step_3>\n",
      "<step_4>\n",
      "Determine what eats fox: no arrows point to fox, indicating it is a top predator.\n",
      "</step_4>\n",
      "<step_5>\n",
      "Determine what else eats red grouse: Arrow from red grouse to fox, and red kite or hen harrier. So red grouse is eaten by fox and red kite/hen harrier.\n",
      "</step_5>\n",
      "<step_6>\n",
      "Determine who eats meadow pippit: Arrow from meadow pippit to fox only.\n",
      "</step_6>\n",
      "<step_7>\n",
      "Note which options are present: more grouse, more pippit, less grouse, less owl.\n",
      "</step_7>\n",
      "\n",
      "[Reasoning]\n",
      "<step_1>\n",
      "The question asks what would happen if the fox population decreased. Fox is a predator of red grouse and meadow pippit, among others.\n",
      "</step_1>\n",
      "<step_2>\n",
      "If the fox population decreases, there will be less predation pressure on its prey, particularly red grouse and meadow pippit.\n",
      "</step_2>\n",
      "<step_3>\n",
      "With fewer foxes, more red grouse and meadow pippit are likely to survive (their populations would potentially increase).\n",
      "</step_3>\n",
      "<step_4>\n",
      "From the answer choices, \"more grouse\" and \"more pippit\" both could apply, but typically food webs consider primary prey affected, and grouse is more directly linked as a primary food for fox.\n",
      "</step_4>\n",
      "<step_5>\n",
      "Therefore, the best answer from the available options is \"more grouse\".\n",
      "</step_5>\n",
      "\n",
      "<correct_answer>\n",
      "$\\boxed{more\\ grouse}$\n",
      "</correct_answer>\n",
      "response_uid\n",
      "b6c24365-7b04-4a00-96fb-4ed28c9fcdfc\n",
      "image_path\n",
      "/data/users/brandon/ob1-projects/InternVL/internvl_chat/rollout_generation/preprocessed_prompts/preprocessing_scripts/AI2D/subset_images/480.png\n"
     ]
    }
   ],
   "source": [
    "full_raw_rollout_data_array[0].keys()\n",
    "\n",
    "print(full_raw_rollout_data_array[0].keys())\n",
    "\n",
    "\n",
    "for k,v in full_raw_rollout_data_array[0].items():\n",
    "    print(k)\n",
    "    print(v)"
   ]
  },
  {
   "cell_type": "code",
   "execution_count": null,
   "id": "07c22196",
   "metadata": {},
   "outputs": [
    {
     "name": "stdout",
     "output_type": "stream",
     "text": [
      "dict_keys(['custom_id', 'unique_key', 'verification_response', 'o4-mini_isVerified'])\n",
      "custom_id\n",
      "738acf33-13b2-4336-8720-5ca2cf6503a8\n",
      "unique_key\n",
      "[Visual Elements]\n",
      "<step_1>\n",
      "The image is a labeled diagram of an animal cell, showing its various organelles.\n",
      "</step_1>\n",
      "<step_2>\n",
      "Key organelles visible and labeled in the image include: Golgi apparatus, Mitochondrion, Nucleus, Cytoplasm, Endoplasmic reticulum, Lysosome, Centriole, Ribosomes, Nucleolus, Genetic material (DNA), Nuclear membrane, and Plasma membrane.\n",
      "</step_2>\n",
      "<step_3>\n",
      "The label “Mitochondrion” is present and points to oblong, orange organelles scattered throughout the cytoplasm.\n",
      "</step_3>\n",
      "<step_4>\n",
      "The label “Golgi apparatus (Golgi body)” points to a stack-like organelle.\n",
      "</step_4>\n",
      "<step_5>\n",
      "The label “Nucleus” points to the central, large, round organelle in the cell.\n",
      "</step_5>\n",
      "<step_6>\n",
      "The label “Cytoplasm” points to the fluid matrix filling much of the cell’s interior.\n",
      "</step_6>\n",
      "<step_7>\n",
      "The question asks which of these organelles is responsible for converting food into energy.\n",
      "</step_7>\n",
      "\n",
      "[Reasoning]\n",
      "<step_1>\n",
      "The question requires identifying the organelle in the animal cell responsible for converting food (glucose) into usable energy.\n",
      "</step_1>\n",
      "<step_2>\n",
      "From biology, the process of converting food into chemical energy (ATP) takes place primarily in the mitochondria; this organelle is often called the “powerhouse of the cell.”\n",
      "</step_2>\n",
      "<step_3>\n",
      "By checking the diagram, “Mitochondrion” is clearly labeled, matching the option provided in the question.\n",
      "</step_3>\n",
      "<step_4>\n",
      "None of the other listed options (Golgi apparatus, Nucleus, Cytoplasm) are primarily responsible for energy conversion – the Golgi apparatus is for packaging and transport, the Nucleus stores genetic material, and the Cytoplasm is the fluid matrix.\n",
      "</step_4>\n",
      "<step_5>\n",
      "Therefore, the correct answer, based on both the diagram and biological function, is “Mitochondrion.”\n",
      "</step_5>\n",
      "\n",
      "<correct_answer>\n",
      "$\\boxed{Mitochondrion}$\n",
      "</correct_answer>\n",
      "verification_response\n",
      "[Visual Elements]\n",
      "<analysis_1>\n",
      "The solution correctly identifies that the image is a labeled diagram of an animal cell containing its organelles. This matches the provided picture.\n",
      "</analysis_1>\n",
      "<analysis_2>\n",
      "The organelles listed (Golgi apparatus, Mitochondrion, Nucleus, Cytoplasm, Endoplasmic reticulum, Lysosome, Centriole, Ribosomes, Nucleolus, Genetic material, Nuclear membrane, Plasma membrane) are indeed visible and labeled in the diagram.\n",
      "</analysis_2>\n",
      "<analysis_3>\n",
      "The description that the “Mitochondrion” label points to oblong, orange structures scattered in the cytoplasm is accurate according to the diagram.\n",
      "</analysis_3>\n",
      "<analysis_4>\n",
      "The Golgi apparatus is correctly described as a stack-like organelle in the diagram.\n",
      "</analysis_4>\n",
      "<analysis_5>\n",
      "The Nucleus is accurately identified as the large, central, round organelle.\n",
      "</analysis_5>\n",
      "<analysis_6>\n",
      "The Cytoplasm is correctly described as the fluid matrix filling the cell interior.\n",
      "</analysis_6>\n",
      "<analysis_7>\n",
      "It is correct that the question asks which of these labeled structures converts food into energy.\n",
      "</analysis_7>\n",
      "\n",
      "[Reasoning]\n",
      "<analysis_1>\n",
      "Correctly identifies that the question requires knowing which organelle converts glucose into ATP (energy).\n",
      "</analysis_1>\n",
      "<analysis_2>\n",
      "Accurately states that mitochondria perform cellular respiration and are called the “powerhouse of the cell.”\n",
      "</analysis_2>\n",
      "<analysis_3>\n",
      "Properly checks that “Mitochondrion” is one of the provided options and matches the label in the diagram.\n",
      "</analysis_3>\n",
      "<analysis_4>\n",
      "Correctly excludes the Golgi apparatus, Nucleus, and Cytoplasm from primary roles in energy conversion.\n",
      "</analysis_4>\n",
      "<analysis_5>\n",
      "Validly concludes that “Mitochondrion” is the correct choice based on function and labeling.\n",
      "</analysis_5>\n",
      "\n",
      "<conclusion>\n",
      "Correct\n",
      "</conclusion>\n",
      "o4-mini_isVerified\n",
      "True\n"
     ]
    }
   ],
   "source": [
    "\n",
    "\n",
    "print(verification_solutions[0].keys())\n",
    "\n",
    "for k,v in verification_solutions[0].items():\n",
    "    print(k)\n",
    "    print(v)"
   ]
  },
  {
   "cell_type": "code",
   "execution_count": 15,
   "id": "7a89e7a3",
   "metadata": {},
   "outputs": [],
   "source": [
    "def check_for_collisions(verification_solutions, full_raw_rollout_data_array):\n",
    "    \"\"\"\n",
    "    Check for collisions and missing matches between verification solutions and rollout data.\n",
    "    \n",
    "    Returns:\n",
    "        tuple: (collision_errors, no_matches_array, has_collisions, has_no_matches)\n",
    "    \"\"\"\n",
    "    collision_errors = []\n",
    "    no_matches_array = []\n",
    "    \n",
    "    for sol in verification_solutions:\n",
    "        unique_key = sol[\"unique_key\"]\n",
    "        \n",
    "        # Find all matches\n",
    "        matches = [item for item in full_raw_rollout_data_array if item[\"response\"].strip() == unique_key]\n",
    "        \n",
    "        if len(matches) > 1:\n",
    "            collision_errors.append({\n",
    "                \"solution_unique_key\": unique_key,\n",
    "                \"solution_custom_id\": sol[\"custom_id\"],\n",
    "                \"matches\": matches\n",
    "            })\n",
    "        elif len(matches) == 0:\n",
    "            no_matches_array.append({\n",
    "                \"solution_unique_key\": unique_key,\n",
    "                \"solution_custom_id\": sol[\"custom_id\"],\n",
    "            })\n",
    "\n",
    "    # Report collision errors\n",
    "    has_collisions = len(collision_errors) > 0\n",
    "    has_no_matches = len(no_matches_array) > 0\n",
    "    \n",
    "    if has_collisions:\n",
    "        print(f\"\\n�� COLLISION ERRORS FOUND: {len(collision_errors)} unique_keys have multiple matches!\")\n",
    "        for error in collision_errors:\n",
    "            print(f\"\\nCollision for solution_custom_id: {error['solution_custom_id']}\")\n",
    "            print(f\"solution_unique_key: {error['solution_unique_key'][:100]}...\")\n",
    "            print(f\"Found {len(error['matches'])} matches:\")\n",
    "            for match in error['matches']:\n",
    "                print(f\"  - response_uid: {match['response_uid']}, response: {match['response'][:50]}...\")\n",
    "    else:\n",
    "        print(f\"\\n✅ No collisions found! All {len(verification_solutions)} solutions have at most one match.\")\n",
    "\n",
    "    if has_no_matches:\n",
    "        print(f\"\\n🚨 NO MATCHES FOUND: {len(no_matches_array)} unique_keys have no matches!\")\n",
    "        for error in no_matches_array:\n",
    "            print(f\"\\nNo match found for solution_custom_id: {error['solution_custom_id']}\")\n",
    "            print(f\"solution_unique_key: {error['solution_unique_key'][:100]}...\")\n",
    "    else:\n",
    "        print(f\"\\n✅ No no matches found! All {len(verification_solutions)} solutions have at least one match.\")\n",
    "    \n",
    "    return collision_errors, no_matches_array, has_collisions, has_no_matches\n",
    "\n",
    "# Test the function\n",
    "# collision_errors, no_matches_array, has_collisions, has_no_matches = check_for_collisions(\n",
    "#     verification_solutions, full_raw_rollout_data_array\n",
    "# )"
   ]
  },
  {
   "cell_type": "code",
   "execution_count": null,
   "id": "db397622",
   "metadata": {},
   "outputs": [
    {
     "name": "stdout",
     "output_type": "stream",
     "text": [
      "\n",
      "✅ No collisions found! All 24595 solutions have at most one match.\n",
      "\n",
      "✅ No no matches found! All 24595 solutions have at least one match.\n",
      "\n",
      "✅ Successfully merged 25557 items to /mnt/fast10/brandon/mmr_rollout_data/processed_full_verification_files/AI2D_final_mc_and_verification_merged_o4-mini.jsonl\n",
      "📊 Summary:\n",
      "   - Rollouts with verification: 24595\n",
      "   - Rollouts without verification: 962\n",
      "   - Total rollouts: 25557\n",
      "\n",
      "⚠️  INVALID VERIFICATION VALUES FOUND: 2 items\n",
      "These custom_ids have invalid o4-mini_isVerified values (not True/False):\n",
      "   - verification_custom_id: 203288af-ef39-41da-bff6-5184ad83b951, o4-mini_isVerified_value: None, verification_response:  (type: NoneType)\n",
      "   - verification_custom_id: c0cb3f17-b910-4df7-9c55-f2e34f0f4039, o4-mini_isVerified_value: None, verification_response:  (type: NoneType)\n"
     ]
    }
   ],
   "source": [
    "def merge_rollout_and_verification_data(verification_solutions, full_raw_rollout_data_array, output_path):\n",
    "    \"\"\"\n",
    "    Merge verification solutions with rollout data when no collisions are detected.\n",
    "    Uses full_raw_rollout_data_array as the reference point.\n",
    "    \n",
    "    Args:\n",
    "        verification_solutions: List of verification solution dicts\n",
    "        full_raw_rollout_data_array: List of rollout data dicts\n",
    "        output_path: Path to save the merged output file\n",
    "    \"\"\"\n",
    "    # First check for collisions\n",
    "    collision_errors, no_matches_array, has_collisions, has_no_matches = check_for_collisions(\n",
    "        verification_solutions, full_raw_rollout_data_array\n",
    "    )\n",
    "    \n",
    "    if has_collisions:\n",
    "        raise ValueError(f\"{len(collision_errors)} collision errors found. Cannot proceed with merge.\")\n",
    "    \n",
    "    # Create lookup dictionary for verification solutions\n",
    "    verification_lookup = {sol[\"unique_key\"]: sol for sol in verification_solutions}\n",
    "    \n",
    "    # Initialize trackers\n",
    "    rollouts_without_verification = 0\n",
    "    rollouts_with_verification = 0\n",
    "    invalid_verification_values = []\n",
    "    \n",
    "    # Merge the data - iterate over rollout data as reference\n",
    "    merged_data = []\n",
    "    for rollout_item in full_raw_rollout_data_array:\n",
    "        response_key = rollout_item[\"response\"].strip()\n",
    "        \n",
    "        # Check if this rollout has a corresponding verification solution\n",
    "        if response_key in verification_lookup:\n",
    "            # Found matching verification solution\n",
    "            verification_sol = verification_lookup[response_key]\n",
    "            \n",
    "            # Validate o4-mini_isVerified value\n",
    "            is_verified_value = verification_sol.get(\"o4-mini_isVerified\")\n",
    "            if is_verified_value not in [True, False]:\n",
    "                invalid_verification_values.append({\n",
    "                    \"o4-mini_verification_custom_id\": verification_sol[\"custom_id\"],\n",
    "                    \"o4-mini_verification_response\": verification_sol[\"verification_response\"],\n",
    "                    \"o4-mini_isVerified_value\": is_verified_value,\n",
    "                    \"type\": type(is_verified_value).__name__\n",
    "                })\n",
    "            \n",
    "            merged_item = {\n",
    "                \"o4-mini_verification_custom_id\": verification_sol[\"custom_id\"],\n",
    "                \"response_uid\": rollout_item[\"response_uid\"],\n",
    "                \"rollout_response\": rollout_item[\"response\"],\n",
    "                \"rollout_image_path\": rollout_item[\"image_path\"],\n",
    "                \"o4-mini_verification_solution\": verification_sol[\"verification_response\"],\n",
    "                \"o4-mini_isVerified\": is_verified_value\n",
    "            }\n",
    "            rollouts_with_verification += 1\n",
    "        else:\n",
    "            # No matching verification solution found\n",
    "            merged_item = {\n",
    "                \"o4-mini_verification_custom_id\": None,\n",
    "                \"response_uid\": rollout_item[\"response_uid\"],\n",
    "                \"rollout_response\": rollout_item[\"response\"],\n",
    "                \"rollout_image_path\": rollout_item[\"image_path\"],\n",
    "                \"o4-mini_verification_solution\": None,\n",
    "                \"o4-mini_isVerified\": None\n",
    "            }\n",
    "            rollouts_without_verification += 1\n",
    "        \n",
    "        merged_data.append(merged_item)\n",
    "    \n",
    "    # Save to file\n",
    "    with open(output_path, 'w') as f:\n",
    "        for item in merged_data:\n",
    "            f.write(json.dumps(item) + '\\n')\n",
    "    \n",
    "    print(f\"\\n✅ Successfully merged {len(merged_data)} items to {output_path}\")\n",
    "    print(f\"📊 Summary:\")\n",
    "    print(f\"   - Rollouts with verification: {rollouts_with_verification}\")\n",
    "    print(f\"   - Rollouts without verification: {rollouts_without_verification}\")\n",
    "    print(f\"   - Total rollouts: {len(merged_data)}\")\n",
    "    \n",
    "    # Report invalid verification values\n",
    "    if invalid_verification_values:\n",
    "        print(f\"\\n⚠️  INVALID VERIFICATION VALUES FOUND: {len(invalid_verification_values)} items. None values acceptable, means the verification returned an error.\")\n",
    "        print(\"These custom_ids have invalid o4-mini_isVerified values (not True/False):\")\n",
    "        for item in invalid_verification_values:\n",
    "            print(f\"   - verification_custom_id: {item['verification_custom_id']}, o4-mini_isVerified_value: {item['o4-mini_isVerified_value']}, verification_response: {item['verification_response']} (type: {item['type']})\")\n",
    "    else:\n",
    "        print(f\"\\n✅ All verification values are valid (True/False)\")\n",
    "    \n",
    "    return merged_data\n",
    "\n",
    "# Define output path and run merge\n",
    "output_path = f\"/mnt/fast10/brandon/mmr_rollout_data/processed_full_verification_files/{dataset_name}_final_mc_and_verification_merged_{model_name}.jsonl\"\n",
    "\n",
    "merged_data = merge_rollout_and_verification_data(\n",
    "    verification_solutions, \n",
    "    full_raw_rollout_data_array, \n",
    "    output_path\n",
    ")"
   ]
  },
  {
   "cell_type": "code",
   "execution_count": 3,
   "id": "f6b2e65a",
   "metadata": {},
   "outputs": [
    {
     "name": "stdout",
     "output_type": "stream",
     "text": [
      "📁 Loading data from: /mnt/fast10/brandon/mmr_rollout_data/final_combined_MC_and_verification_files/AI2D_final_mc_rollouts_with_all_models_verification_merged.jsonl\n",
      "================================================================================\n",
      "✅ Loaded 25557 rows into df\n",
      "                           response_uid  \\\n",
      "0  b6c24365-7b04-4a00-96fb-4ed28c9fcdfc   \n",
      "1  b6c24365-7b04-4a00-96fb-4ed28c9fcdfc   \n",
      "2  b6c24365-7b04-4a00-96fb-4ed28c9fcdfc   \n",
      "3  b6c24365-7b04-4a00-96fb-4ed28c9fcdfc   \n",
      "4  b77157ea-dcee-44a6-be87-2e5e8db7ca2b   \n",
      "\n",
      "                                    rollout_question  \\\n",
      "0  You are an advanced visual reasoning AI specia...   \n",
      "1  You are an advanced visual reasoning AI specia...   \n",
      "2  You are an advanced visual reasoning AI specia...   \n",
      "3  You are an advanced visual reasoning AI specia...   \n",
      "4  You are an advanced visual reasoning AI specia...   \n",
      "\n",
      "                                    rollout_response rollout_answer  \\\n",
      "0  [Visual Elements]\\n<step_1>\\nIdentify all orga...    more grouse   \n",
      "1  [Visual Elements]\\n<step_1>\\nThe food web diag...    more grouse   \n",
      "2  [Visual Elements]\\n<step_1>\\nIdentify all anim...    more grouse   \n",
      "3  [Visual Elements]\\n<step_1>\\nThe diagram depic...    more grouse   \n",
      "4  [Visual Elements]\\n<step_1>\\nThe diagram conta...    cladocerans   \n",
      "\n",
      "                            rollout_steps_with_score  \\\n",
      "0  [{'step': 'Identify all organisms in the food ...   \n",
      "1  [{'step': 'The food web diagram includes the f...   \n",
      "2  [{'step': 'Identify all animals present in the...   \n",
      "3  [{'step': 'The diagram depicts a food web from...   \n",
      "4  [{'step': 'The diagram contains five main labe...   \n",
      "\n",
      "                                  rollout_image_path  \\\n",
      "0  /data/users/brandon/ob1-projects/InternVL/inte...   \n",
      "1  /data/users/brandon/ob1-projects/InternVL/inte...   \n",
      "2  /data/users/brandon/ob1-projects/InternVL/inte...   \n",
      "3  /data/users/brandon/ob1-projects/InternVL/inte...   \n",
      "4  /data/users/brandon/ob1-projects/InternVL/inte...   \n",
      "\n",
      "         o4_mini_verification_custom_id  \\\n",
      "0  1246cedc-7f5b-4409-9535-2d88841ae65f   \n",
      "1  19b64cd9-14d6-4244-91ad-02fab7061573   \n",
      "2  2ac3bfad-1a4f-4a8e-ba2d-b870fde562fd   \n",
      "3  30591da1-e29e-4c02-bdb5-3b827ef41bcf   \n",
      "4  f757422f-4b57-4191-aad1-61352895b820   \n",
      "\n",
      "                       o4_mini_verification_solution  o4_mini_isVerified  \\\n",
      "0  [Visual Elements]\\n<analysis_1>\\nStep 1 correc...                 0.0   \n",
      "1  [Visual Elements]\\n<analysis_1>\\nThe solution’...                 0.0   \n",
      "2  [Visual Elements]\\n<analysis_1>\\nStep 1 correc...                 0.0   \n",
      "3  [Visual Elements]\\n<analysis_1>\\nThe solution’...                 0.0   \n",
      "4  [Visual Elements]\\n<analysis_1>\\nStep 1 correc...                 0.0   \n",
      "\n",
      "    gpt_4.1_mini_verification_custom_id  \\\n",
      "0  a4fa1495-cf88-4c3e-b759-fdf340498a08   \n",
      "1  76e7902c-d829-441b-8282-e38bfc28bace   \n",
      "2  71ff3aac-60f5-4c18-a657-6bef42b18d28   \n",
      "3  231a4044-596f-4c4c-967e-0a58b56a077f   \n",
      "4  1fb0a4d6-071c-4569-8020-9217860684f1   \n",
      "\n",
      "                  gpt_4.1_mini_verification_solution  gpt_4.1_mini_isVerified  \\\n",
      "0  [Visual Elements]  \\n<analysis_1>  \\nThe step ...                      1.0   \n",
      "1  [Visual Elements]  \\n<analysis_1>  \\nThe solut...                      1.0   \n",
      "2  [Visual Elements]\\n<analysis_1>\\nThe step corr...                      1.0   \n",
      "3  [Visual Elements]  \\n<analysis_1>  \\nThe ident...                      1.0   \n",
      "4  [Visual Elements]  \\n<analysis_1>  \\nThe step ...                      1.0   \n",
      "\n",
      "    gpt_4.1_nano_verification_custom_id  \\\n",
      "0  c6792111-8c8d-45bc-bb7f-5ab255160a68   \n",
      "1  835c069b-ee27-4e43-b239-eabb5a6d38e8   \n",
      "2  bc2ea485-3875-4b0e-a257-5fa166d24b50   \n",
      "3  965ac325-9d7d-4d2b-b98e-f884ef1c3def   \n",
      "4  5f8c3ef0-ef4f-4cd5-97a3-925c2d16fdca   \n",
      "\n",
      "                  gpt_4.1_nano_verification_solution  gpt_4.1_nano_isVerified  \n",
      "0  [Visual Elements]\\n<analysis_1>\\nThe diagram d...                      NaN  \n",
      "1  [Visual Elements]\\n<analysis_1>\\nThe diagram d...                      1.0  \n",
      "2  [Visual Elements]\\n<analysis_1>\\nThe diagram d...                      1.0  \n",
      "3  [Visual Elements]\\n<step_1>\\nThe diagram prese...                      NaN  \n",
      "4  [Visual Elements]\\n<analysis_1>\\nThe diagram f...                      1.0  \n"
     ]
    }
   ],
   "source": [
    "# Load and print all values from the merged verification file\n",
    "import json\n",
    "\n",
    "# File path\n",
    "# file_path = \"/mnt/fast10/brandon/mmr_rollout_data/prm_training_data/train/AI2D_final_mc_rollouts_with_all_models_verification_merged_prm_training_data.jsonl\"\n",
    "\n",
    "file_path = \"/mnt/fast10/brandon/mmr_rollout_data/final_combined_MC_and_verification_files/AI2D_final_mc_rollouts_with_all_models_verification_merged.jsonl\"\n",
    "\n",
    "print(f\"📁 Loading data from: {file_path}\")\n",
    "print(\"=\" * 80)\n",
    "\n",
    "import pandas as pd\n",
    "\n",
    "# Load JSONL file into DataFrame\n",
    "df = pd.read_json(file_path, lines=True)\n",
    "print(f\"✅ Loaded {len(df)} rows into df\")\n",
    "print(df.head())"
   ]
  },
  {
   "cell_type": "code",
   "execution_count": 5,
   "id": "fe2dbe88",
   "metadata": {},
   "outputs": [
    {
     "name": "stdout",
     "output_type": "stream",
     "text": [
      "                             response_uid  \\\n",
      "581  bfab4a1a-fcd5-4c14-b7e7-fc9d29e81613   \n",
      "582  bfab4a1a-fcd5-4c14-b7e7-fc9d29e81613   \n",
      "583  bfab4a1a-fcd5-4c14-b7e7-fc9d29e81613   \n",
      "584  bfab4a1a-fcd5-4c14-b7e7-fc9d29e81613   \n",
      "\n",
      "                                      rollout_question  \\\n",
      "581  You are an advanced visual reasoning AI specia...   \n",
      "582  You are an advanced visual reasoning AI specia...   \n",
      "583  You are an advanced visual reasoning AI specia...   \n",
      "584  You are an advanced visual reasoning AI specia...   \n",
      "\n",
      "                                      rollout_response      rollout_answer  \\\n",
      "581  [Visual Elements]\\n<step_1>\\nThe diagram shows...  oblique-slip fault   \n",
      "582  [Visual Elements]\\n<step_1>\\nThe diagram shows...  oblique-slip fault   \n",
      "583  [Visual Elements]\\n<step_1>\\nThe diagram shows...  oblique-slip fault   \n",
      "584  [Visual Elements]\\n<step_1>\\nTwo large blocks ...  oblique-slip fault   \n",
      "\n",
      "                              rollout_steps_with_score  \\\n",
      "581  [{'step': 'The diagram shows two large blocks ...   \n",
      "582  [{'step': 'The diagram shows two blocks of lan...   \n",
      "583  [{'step': 'The diagram shows two blocks of lan...   \n",
      "584  [{'step': 'Two large blocks of land are depict...   \n",
      "\n",
      "                                    rollout_image_path  \\\n",
      "581  /data/users/brandon/ob1-projects/InternVL/inte...   \n",
      "582  /data/users/brandon/ob1-projects/InternVL/inte...   \n",
      "583  /data/users/brandon/ob1-projects/InternVL/inte...   \n",
      "584  /data/users/brandon/ob1-projects/InternVL/inte...   \n",
      "\n",
      "           o4_mini_verification_custom_id  \\\n",
      "581  0f821ca5-bd01-4165-83a2-bf51a35c40ce   \n",
      "582  e849eef9-20de-47b6-8bda-e56ea73942cb   \n",
      "583  7cf40ed5-bff7-4c1f-9923-bd1c6a9b5826   \n",
      "584  b3258417-5e24-4b86-a0bd-1d71621bf69b   \n",
      "\n",
      "                         o4_mini_verification_solution  o4_mini_isVerified  \\\n",
      "581  [Visual Elements]\\n<analysis_1>\\nThe diagram d...                 0.0   \n",
      "582  [Visual Elements]\\n<analysis_1>\\nStep 1 correc...                 0.0   \n",
      "583  [Visual Elements]\\n<analysis_1>\\nThe descripti...                 0.0   \n",
      "584  [Visual Elements]\\n<analysis_1>\\nThe descripti...                 0.0   \n",
      "\n",
      "      gpt_4.1_mini_verification_custom_id  \\\n",
      "581  c867dde8-2caa-427e-a6f6-95b743a58f6e   \n",
      "582  0bd413ad-44fb-4422-bc24-ebb15ecf1175   \n",
      "583  a9b6fa2f-e05d-4471-899c-d450ae287c96   \n",
      "584  625f94e1-782d-46b8-b2e0-2a5f48f879bd   \n",
      "\n",
      "                    gpt_4.1_mini_verification_solution  \\\n",
      "581  [Visual Elements]  \\n<analysis_1>  \\nThe diagr...   \n",
      "582  [Visual Elements]\\n<analysis_1>\\nThe descripti...   \n",
      "583  [Visual Elements]\\n<analysis_1>\\nThe observati...   \n",
      "584  [Visual Elements]\\n<analysis_1>\\nThe step iden...   \n",
      "\n",
      "     gpt_4.1_mini_isVerified   gpt_4.1_nano_verification_custom_id  \\\n",
      "581                      0.0  e3f3c2d2-e1c7-45b4-b97a-95d0e2ec62ee   \n",
      "582                      1.0  68afb004-5f3f-448a-b9bf-e9a4a027da7d   \n",
      "583                      0.0  7432d994-00c4-482a-b317-69bf8b79ed19   \n",
      "584                      1.0  4bbe7849-a4f7-40b2-97f8-497c1b8986d3   \n",
      "\n",
      "                    gpt_4.1_nano_verification_solution  \\\n",
      "581  [Visual Elements]\\n<analysis_1>\\nThe image dis...   \n",
      "582  [Visual Elements]\\n<analysis_1>\\nThe diagram i...   \n",
      "583  [Visual Elements]\\n<analysis_1>\\nThe diagram d...   \n",
      "584  [Visual Elements]\\n<analysis_1>\\nThe image dep...   \n",
      "\n",
      "     gpt_4.1_nano_isVerified  \n",
      "581                      0.0  \n",
      "582                      0.0  \n",
      "583                      1.0  \n",
      "584                      1.0  \n"
     ]
    }
   ],
   "source": [
    "df_selected = df[df[\"response_uid\"] == \"bfab4a1a-fcd5-4c14-b7e7-fc9d29e81613\"]\n",
    "print(df_selected)"
   ]
  },
  {
   "cell_type": "code",
   "execution_count": 6,
   "id": "13388042",
   "metadata": {},
   "outputs": [
    {
     "name": "stdout",
     "output_type": "stream",
     "text": [
      "Index(['id', 'image_url', 'conversations', 'first_incorrect_step',\n",
      "       'steps_with_score'],\n",
      "      dtype='object')\n"
     ]
    }
   ],
   "source": [
    "print(df.columns)"
   ]
  },
  {
   "cell_type": "code",
   "execution_count": 4,
   "id": "14ca701a",
   "metadata": {},
   "outputs": [
    {
     "data": {
      "text/plain": [
       "np.float64(1.0)"
      ]
     },
     "execution_count": 4,
     "metadata": {},
     "output_type": "execute_result"
    }
   ],
   "source": [
    "df[\"gpt_4.1_mini_isVerified\"].iloc[0]"
   ]
  },
  {
   "cell_type": "code",
   "execution_count": 7,
   "id": "14daffb2",
   "metadata": {},
   "outputs": [
    {
     "name": "stdout",
     "output_type": "stream",
     "text": [
      "[Visual Elements]\n",
      "<step_1>\n",
      "Identify all organisms in the food web: short-eared owl, vole, meadow pippit, emperor moth larvae, red grouse, heather, fox, brown hare, red kite or hen harrier.\n",
      "</step_1>\n",
      "<step_2>\n",
      "Note the arrows indicating feeding relationships: arrows point from food to consumer.\n",
      "</step_2>\n",
      "<step_3>\n",
      "Observe that the fox eats: red grouse, brown hare, and vole (arrows pointing from each of these to fox).\n",
      "</step_3>\n",
      "<step_4>\n",
      "Determine what eats fox: no arrows point to fox, indicating it is a top predator.\n",
      "</step_4>\n",
      "<step_5>\n",
      "Determine what else eats red grouse: Arrow from red grouse to fox, and red kite or hen harrier. So red grouse is eaten by fox and red kite/hen harrier.\n",
      "</step_5>\n",
      "<step_6>\n",
      "Determine who eats meadow pippit: Arrow from meadow pippit to fox only.\n",
      "</step_6>\n",
      "<step_7>\n",
      "Note which options are present: more grouse, more pippit, less grouse, less owl.\n",
      "</step_7>\n",
      "\n",
      "[Reasoning]\n",
      "<step_1>\n",
      "The question asks what would happen if the fox population decreased. Fox is a predator of red grouse and meadow pippit, among others.\n",
      "</step_1>\n",
      "<step_2>\n",
      "If the fox population decreases, there will be less predation pressure on its prey, particularly red grouse and meadow pippit.\n",
      "</step_2>\n",
      "<step_3>\n",
      "With fewer foxes, more red grouse and meadow pippit are likely to survive (their populations would potentially increase).\n",
      "</step_3>\n",
      "<step_4>\n",
      "From the answer choices, \"more grouse\" and \"more pippit\" both could apply, but typically food webs consider primary prey affected, and grouse is more directly linked as a primary food for fox.\n",
      "</step_4>\n",
      "<step_5>\n",
      "Therefore, the best answer from the available options is \"more grouse\".\n",
      "</step_5>\n",
      "\n",
      "<correct_answer>\n",
      "$\\boxed{more\\ grouse}$\n",
      "</correct_answer>\n",
      "[{'step': 'Identify all organisms in the food web: short-eared owl, vole, meadow pippit, emperor moth larvae, red grouse, heather, fox, brown hare, red kite or hen harrier.', 'score': 1.0, 'num_mc_correct': 16, 'num_mc_total': 16}, {'step': 'Note the arrows indicating feeding relationships: arrows point from food to consumer.', 'score': 1.0, 'num_mc_correct': 16, 'num_mc_total': 16}, {'step': 'Observe that the fox eats: red grouse, brown hare, and vole (arrows pointing from each of these to fox).', 'score': 1.0, 'num_mc_correct': 16, 'num_mc_total': 16}, {'step': 'Determine what eats fox: no arrows point to fox, indicating it is a top predator.', 'score': 1.0, 'num_mc_correct': 16, 'num_mc_total': 16}, {'step': 'Determine what else eats red grouse: Arrow from red grouse to fox, and red kite or hen harrier. So red grouse is eaten by fox and red kite/hen harrier.', 'score': 1.0, 'num_mc_correct': 16, 'num_mc_total': 16}, {'step': 'Determine who eats meadow pippit: Arrow from meadow pippit to fox only.', 'score': 0.6875, 'num_mc_correct': 11, 'num_mc_total': 16}, {'step': 'Note which options are present: more grouse, more pippit, less grouse, less owl.', 'score': 0.875, 'num_mc_correct': 14, 'num_mc_total': 16}, {'step': 'The question asks what would happen if the fox population decreased. Fox is a predator of red grouse and meadow pippit, among others.', 'score': 0.9375, 'num_mc_correct': 15, 'num_mc_total': 16}, {'step': 'If the fox population decreases, there will be less predation pressure on its prey, particularly red grouse and meadow pippit.', 'score': 0.875, 'num_mc_correct': 14, 'num_mc_total': 16}, {'step': 'With fewer foxes, more red grouse and meadow pippit are likely to survive (their populations would potentially increase).', 'score': 1.0, 'num_mc_correct': 16, 'num_mc_total': 16}, {'step': 'From the answer choices, \"more grouse\" and \"more pippit\" both could apply, but typically food webs consider primary prey affected, and grouse is more directly linked as a primary food for fox.', 'score': 0.9375, 'num_mc_correct': 15, 'num_mc_total': 16}, {'step': 'Therefore, the best answer from the available options is \"more grouse\".', 'score': 1.0, 'num_mc_correct': 16, 'num_mc_total': 16}]\n",
      "[Visual Elements]\n",
      "<analysis_1>\n",
      "The solution correctly lists all species shown in the diagram (Grass, Cactus, Rabbit, Grasshopper, Rattlesnake, Roadrunner, Scorpion, Hawk, Lizard, and Coyote). This matches the elements visible.\n",
      "</analysis_1>\n",
      "\n",
      "<analysis_2>\n",
      "It is accurate to note that the arrows indicate energy flow toward the predator/consumer. This arrow convention is standard in food web diagrams.\n",
      "</analysis_2>\n",
      "\n",
      "<analysis_3>\n",
      "Grass and Cactus are indeed at the base of the food web, with arrows originating from them to Rabbit and Grasshopper, correctly identifying them as producers.\n",
      "</analysis_3>\n",
      "\n",
      "<analysis_4>\n",
      "Grasshopper receives arrows from producers (Grass and Cactus) and has arrows pointing toward Roadrunner, Rattlesnake, and Scorpion, correctly identifying its trophic links.\n",
      "</analysis_4>\n",
      "\n",
      "<analysis_5>\n",
      "Rattlesnake is shown receiving arrows from primary consumers (Grasshopper, Rabbit, and Scorpion) and sending arrows to higher‐level predators (Roadrunner, Hawk, and Coyote), correctly mapping its position.\n",
      "</analysis_5>\n",
      "\n",
      "<analysis_6>\n",
      "The solution correctly isolates the four options (grass, cactus, grasshopper, rattlesnake) for further reasoning.\n",
      "</analysis_6>\n",
      "\n",
      "[Reasoning]\n",
      "<analysis_1>\n",
      "The definition of a secondary consumer (an organism that feeds on primary consumers) is stated correctly.\n",
      "</analysis_1>\n",
      "\n",
      "<analysis_2>\n",
      "Grass and cactus are producers, so they cannot be consumers; this is a correct exclusion.\n",
      "</analysis_2>\n",
      "\n",
      "<analysis_3>\n",
      "Grasshopper feeds on producers, making it a primary consumer; this classification is correct.\n",
      "</analysis_3>\n",
      "\n",
      "<analysis_4>\n",
      "Rattlesnake feeds on primary consumers such as grasshopper (and others), fitting the definition of a secondary consumer; this reasoning is valid.\n",
      "</analysis_4>\n",
      "\n",
      "<analysis_5>\n",
      "Based on the above, selecting “rattlesnake” as the only secondary consumer among the options is correct.\n",
      "</analysis_5>\n",
      "\n",
      "<conclusion>\n",
      "Correct\n",
      "</conclusion>\n"
     ]
    }
   ],
   "source": [
    "print(df[\"rollout_response\"].iloc[0])\n",
    "print(df[\"rollout_steps_with_score\"].iloc[0])\n",
    "print(df[\"o4_mini_verification_solution\"].iloc[10])"
   ]
  },
  {
   "cell_type": "code",
   "execution_count": 2,
   "id": "884c2f1e",
   "metadata": {},
   "outputs": [
    {
     "name": "stdout",
     "output_type": "stream",
     "text": [
      "📁 Loading data from: /mnt/fast10/brandon/mmr_rollout_data/prm_training_data/train/AI2D_final_mc_rollouts_with_all_models_verification_merged_prm_training_data_final_trl_format.jsonl\n",
      "================================================================================\n",
      "✅ Loaded 11741 rows into df\n",
      "                                            messages  \\\n",
      "0  [{'role': 'system', 'content': [{'type': 'text...   \n",
      "1  [{'role': 'system', 'content': [{'type': 'text...   \n",
      "2  [{'role': 'system', 'content': [{'type': 'text...   \n",
      "3  [{'role': 'system', 'content': [{'type': 'text...   \n",
      "4  [{'role': 'system', 'content': [{'type': 'text...   \n",
      "\n",
      "                                              images  \\\n",
      "0  [s3://arf-share/arf-ob1-mm-reasoning/training_...   \n",
      "1  [s3://arf-share/arf-ob1-mm-reasoning/training_...   \n",
      "2  [s3://arf-share/arf-ob1-mm-reasoning/training_...   \n",
      "3  [s3://arf-share/arf-ob1-mm-reasoning/training_...   \n",
      "4  [s3://arf-share/arf-ob1-mm-reasoning/training_...   \n",
      "\n",
      "                                     id  \n",
      "0  0000c1f9-7515-4ecf-8cf0-7bd300e2da56  \n",
      "1  0004d758-9ef4-4b33-a33d-596796155767  \n",
      "2  00077821-5849-4b80-a0cb-7654c3de7514  \n",
      "3  0008dddb-debc-4561-8d15-b640505879ff  \n",
      "4  000b7c61-4f6c-421a-81fc-98d4979b891d  \n"
     ]
    }
   ],
   "source": [
    "# Load and print all values from the merged verification file\n",
    "import json\n",
    "\n",
    "# File path\n",
    "file_path = \"/mnt/fast10/brandon/mmr_rollout_data/prm_training_data/train/AI2D_final_mc_rollouts_with_all_models_verification_merged_prm_training_data_final_trl_format.jsonl\"\n",
    "\n",
    "print(f\"📁 Loading data from: {file_path}\")\n",
    "print(\"=\" * 80)\n",
    "\n",
    "import pandas as pd\n",
    "\n",
    "# Load JSONL file into DataFrame\n",
    "df = pd.read_json(file_path, lines=True)\n",
    "print(f\"✅ Loaded {len(df)} rows into df\")\n",
    "print(df.head())"
   ]
  },
  {
   "cell_type": "code",
   "execution_count": 8,
   "id": "20007230",
   "metadata": {},
   "outputs": [
    {
     "name": "stdout",
     "output_type": "stream",
     "text": [
      "['s3://arf-share/arf-ob1-mm-reasoning/training_data_images/AI2D/subset_images/706.png']\n",
      "✅ PIL successfully loaded image from: s3://arf-share/arf-ob1-mm-reasoning/training_data_images/AI2D/subset_images/706.png\n"
     ]
    }
   ],
   "source": [
    "df.columns\n",
    "print(df[\"images\"].iloc[0])\n",
    "\n",
    "import boto3\n",
    "from io import BytesIO\n",
    "from PIL import Image\n",
    "\n",
    "image_url = df[\"images\"].iloc[0][0]\n",
    "\n",
    "def is_s3_url(url):\n",
    "    return url.startswith(\"s3://\")\n",
    "\n",
    "def load_s3_image_with_pillow(s3_url):\n",
    "    path = s3_url[5:]\n",
    "    bucket, key = path.split(\"/\", 1)\n",
    "    s3 = boto3.client(\"s3\")\n",
    "    try:\n",
    "        obj = s3.get_object(Bucket=bucket, Key=key)\n",
    "        img_bytes = obj[\"Body\"].read()\n",
    "        img = Image.open(BytesIO(img_bytes))\n",
    "        img.verify()  # Will raise if not a valid image\n",
    "        print(f\"✅ PIL successfully loaded image from: {s3_url}\")\n",
    "        return img\n",
    "    except Exception as e:\n",
    "        print(f\"❌ PIL failed to load image from: {s3_url}\\n{e}\")\n",
    "        return None\n",
    "\n",
    "img = None\n",
    "if is_s3_url(image_url):\n",
    "    img = load_s3_image_with_pillow(image_url)\n",
    "else:\n",
    "    print(f\"❌ Not an S3 URL, skipping: {image_url}\")"
   ]
  },
  {
   "cell_type": "code",
   "execution_count": 14,
   "id": "e974232a",
   "metadata": {},
   "outputs": [
    {
     "name": "stdout",
     "output_type": "stream",
     "text": [
      "✅ Loaded image from s3://arf-share/arf-ob1-mm-reasoning/training_data_images/AI2D/subset_images/78.png\n",
      "✅ Encoded image to base64 (69028 chars)\n",
      "🤖 OpenAI response: The image appears to depict a cycle or system involving various elements, represented by blocks labeled with letters. Here's a detailed description:\n",
      "\n",
      "- The sequence is arranged in a circular flow, with arrows connecting the elements.\n",
      "- Starting from the top and moving clockwise:\n",
      "  - **E**: A cloud with raindrops, possibly symbolizing weather or water source.\n",
      "  - **B**: A larger rectangular block beneath the cloud, likely representing a central component or resource.\n",
      "  - **I**: A long rectangular bar extending outward from B, though unclear what it symbolizes.\n",
      "  - **J**: An image of a bird (possibly an emu or similar bird), indicating fauna or wildlife.\n",
      "  - **D**: An image of a turtle, another example of fauna.\n",
      "  - **C**: An image of cows on a farm, representing livestock or dairy farming.\n",
      "  - **F**: An image of a forest with trees, representing forested areas.\n",
      "  - **H**: An image of a forest fire, implying forest management or disturbance.\n",
      "  - **G**: An industrial site or factory, possibly representing manufacturing or pollution.\n",
      "  - **A**: An image of industrial facilities emitting smoke or pollution, indicating industrial activity.\n",
      "  - **E**: The cycle repeats, leading back to the cloud, completing the loop.\n",
      "\n",
      "The overall depiction suggests a cycle involving natural resources, industrial activity, and environmental elements, illustrating interactions between ecosystems, human activities, and pollution.\n"
     ]
    }
   ],
   "source": [
    "import os\n",
    "import boto3\n",
    "import base64\n",
    "import io\n",
    "from openai import OpenAI\n",
    "from PIL import Image\n",
    "\n",
    "def load_image_from_s3(s3_url):\n",
    "    \"\"\"Load image from S3 URL and return PIL Image object\"\"\"\n",
    "    from urllib.parse import urlparse\n",
    "    \n",
    "    # Parse S3 URL: s3://bucket-name/path/to/file.jpg\n",
    "    parsed = urlparse(s3_url)\n",
    "    bucket_name = parsed.netloc\n",
    "    key = parsed.path.lstrip('/')\n",
    "    \n",
    "    s3_client = boto3.client('s3')\n",
    "    response = s3_client.get_object(Bucket=bucket_name, Key=key)\n",
    "    image_data = response['Body'].read()\n",
    "    return Image.open(io.BytesIO(image_data))\n",
    "\n",
    "def encode_image_to_base64(img, format=\"JPEG\"):\n",
    "    \"\"\"Convert PIL image to base64 string\"\"\"\n",
    "    img_bytes = io.BytesIO()\n",
    "    img.save(img_bytes, format=format)\n",
    "    img_bytes.seek(0)\n",
    "    return base64.b64encode(img_bytes.read()).decode(\"utf-8\")\n",
    "\n",
    "def run_openai_inference(base64_image, prompt=\"What's in this image?\", model=\"gpt-4.1-nano\"):\n",
    "    \"\"\"Run OpenAI inference on base64 encoded image\"\"\"\n",
    "    client = OpenAI(api_key=\"\")\n",
    "    \n",
    "    completion = client.chat.completions.create(\n",
    "        model=model,\n",
    "        messages=[\n",
    "            {\n",
    "                \"role\": \"user\",\n",
    "                \"content\": [\n",
    "                    {\"type\": \"text\", \"text\": prompt},\n",
    "                    {\n",
    "                        \"type\": \"image_url\",\n",
    "                        \"image_url\": {\n",
    "                            \"url\": f\"data:image/jpeg;base64,{base64_image}\",\n",
    "                        },\n",
    "                    },\n",
    "                ],\n",
    "            }\n",
    "        ],\n",
    "    )\n",
    "    return completion.choices[0].message.content\n",
    "\n",
    "# Main function - put it all together\n",
    "def process_s3_image(s3_url, prompt=\"What's in this image?\"):\n",
    "    \"\"\"Complete pipeline: S3 → PIL → Base64 → OpenAI inference\"\"\"\n",
    "    try:\n",
    "        # 1. Load from S3\n",
    "        img = load_image_from_s3(s3_url)\n",
    "        print(f\"✅ Loaded image from {s3_url}\")\n",
    "        \n",
    "        # 2. Encode to base64\n",
    "        base64_image = encode_image_to_base64(img)\n",
    "        print(f\"✅ Encoded image to base64 ({len(base64_image)} chars)\")\n",
    "        \n",
    "        # 3. Run OpenAI inference\n",
    "        result = run_openai_inference(base64_image, prompt)\n",
    "        print(f\"🤖 OpenAI response: {result}\")\n",
    "        \n",
    "        return result\n",
    "        \n",
    "    except Exception as e:\n",
    "        print(f\"❌ Error: {e}\")\n",
    "        return None\n",
    "\n",
    "# Example usage\n",
    "if __name__ == \"__main__\":\n",
    "    # Replace with your S3 URL\n",
    "    s3_url = \"s3://arf-share/arf-ob1-mm-reasoning/training_data_images/AI2D/subset_images/78.png\"\n",
    "    \n",
    "    result = process_s3_image(s3_url, \"Describe this image in detail\") "
   ]
  },
  {
   "cell_type": "code",
   "execution_count": 1,
   "id": "4b2a61e3",
   "metadata": {},
   "outputs": [
    {
     "name": "stdout",
     "output_type": "stream",
     "text": [
      "📁 Loading data from: /mnt/fast10/brandon/mmr_rollout_data/prm_training_data/debug/AI2D_final_mc_rollouts_with_all_models_verification_merged_prm_training_data_mc0.5.jsonl\n",
      "================================================================================\n",
      "✅ Loaded 12406 rows into df\n",
      "                                     id  \\\n",
      "0  0000c1f9-7515-4ecf-8cf0-7bd300e2da56   \n",
      "1  0004d758-9ef4-4b33-a33d-596796155767   \n",
      "2  00077821-5849-4b80-a0cb-7654c3de7514   \n",
      "3  0008dddb-debc-4561-8d15-b640505879ff   \n",
      "4  000b7c61-4f6c-421a-81fc-98d4979b891d   \n",
      "\n",
      "                                           image_url  \\\n",
      "0  /data/users/brandon/ob1-projects/InternVL/inte...   \n",
      "1  /data/users/brandon/ob1-projects/InternVL/inte...   \n",
      "2  /data/users/brandon/ob1-projects/InternVL/inte...   \n",
      "3  /data/users/brandon/ob1-projects/InternVL/inte...   \n",
      "4  /data/users/brandon/ob1-projects/InternVL/inte...   \n",
      "\n",
      "                                       conversations first_incorrect_step  \\\n",
      "0  [{'from': 'system', 'value': 'You are an advan...                 None   \n",
      "1  [{'from': 'system', 'value': 'You are an advan...                 None   \n",
      "2  [{'from': 'system', 'value': 'You are an advan...                 None   \n",
      "3  [{'from': 'system', 'value': 'You are an advan...                 None   \n",
      "4  [{'from': 'system', 'value': 'You are an advan...                 None   \n",
      "\n",
      "                                    steps_with_score  \n",
      "0  [{'step': 'The diagram depicts an ocean food c...  \n",
      "1  [{'step': 'There are two planetary diagrams la...  \n",
      "2  [{'step': 'There are four main images arranged...  \n",
      "3  [{'step': 'The diagram is a cycle with four di...  \n",
      "4  [{'step': 'There are ten distinct circular ima...  \n"
     ]
    }
   ],
   "source": [
    "# Load and print all values from the merged verification file\n",
    "import json\n",
    "\n",
    "# File path\n",
    "file_path = \"/mnt/fast10/brandon/mmr_rollout_data/prm_training_data/debug/AI2D_final_mc_rollouts_with_all_models_verification_merged_prm_training_data_mc0.5.jsonl\"\n",
    "\n",
    "print(f\"📁 Loading data from: {file_path}\")\n",
    "print(\"=\" * 80)\n",
    "\n",
    "import pandas as pd\n",
    "\n",
    "# Load JSONL file into DataFrame\n",
    "df = pd.read_json(file_path, lines=True)\n",
    "print(f\"✅ Loaded {len(df)} rows into df\")\n",
    "print(df.head())"
   ]
  },
  {
   "cell_type": "code",
   "execution_count": 2,
   "id": "ecaedf0c",
   "metadata": {},
   "outputs": [
    {
     "name": "stdout",
     "output_type": "stream",
     "text": [
      "6\n",
      "['Visual Elements', 1]\n"
     ]
    }
   ],
   "source": [
    "\n",
    "# Count rows where first_incorrect_step is not None\n",
    "incorrect_samples_df = df[df['first_incorrect_step'].notna()]\n",
    "print(len(incorrect_samples_df))\n",
    "print(incorrect_samples_df[\"first_incorrect_step\"].iloc[0])"
   ]
  },
  {
   "cell_type": "code",
   "execution_count": 3,
   "id": "4f2b89af",
   "metadata": {},
   "outputs": [
    {
     "name": "stdout",
     "output_type": "stream",
     "text": [
      "/data/users/brandon/ob1-projects/InternVL/internvl_chat/rollout_generation/preprocessed_prompts/preprocessing_scripts/AI2D/subset_images/78.png\n"
     ]
    }
   ],
   "source": [
    "incorrect_samples_df.columns\n",
    "print(incorrect_samples_df[\"image_url\"].iloc[0])"
   ]
  },
  {
   "cell_type": "code",
   "execution_count": null,
   "id": "ff8a98bc",
   "metadata": {},
   "outputs": [
    {
     "name": "stdout",
     "output_type": "stream",
     "text": [
      "['Visual Elements', 1]\n"
     ]
    },
    {
     "data": {
      "text/plain": [
       "[{'from': 'human',\n",
       "  'value': '### Question:\\nYou are an advanced visual reasoning AI specialized in analyzing images for the Visual Question Answering (VQA) task. Your objective is to examine images containing various objects, scenes, geometric shapes, diagram elements, and potentially text or numbers, and reason about processes or changes, and answer questions about their attributes, relationships, and spatial arrangements.\\n\\nI will provide you with:\\n\\n1. An image containing science diagrams\\n2. A question about the contents of the image\\n\\nHere is the question you need to answer:\\n\\n<question>\\nWhat is the process at letter J called in the diagram?\\nphotosynthesis\\ncellular respiration\\ndecay by fungi and bacteria\\nconsumption\\nPlease answer the question based on the options mentioned before.\\n</question>\\n\\nPlease follow these steps to complete the task:\\n\\n1. Carefully examine the image, paying attention to:\\n   - Objects and scenes present\\n   - Geometric shapes (if any)\\n   - Attributes of each element (color, size, material, texture, etc.)\\n   - Spatial relationships between elements\\n   - Any text or numbers visible in the image (read and interpret these carefully)\\n\\n2. Analyze the question to identify the type of reasoning required (e.g., counting, existence check, comparison, attribute query, or relationship assessment).\\n\\n3. Conduct a thorough visual analysis of the image in relation to the question, focusing on relevant elements and attributes.\\n\\n4. Formulate your answer based on your analysis.\\n\\n5. Present your final answer as a single string in a LaTeX-formatted box using this format: \\n   <correct_answer>\\n   $\\\\boxed{Your answer here}$\\n   </correct_answer>\\n\\nYour task is to: \\n- Under the [Visual Elements] section, list out all relevant visual elements step-by-step that relate to answering the question. Be thorough but concise. Wrap each step in <step_1>, <step_2>, ... tags.\\n- Under the [Reasoning] section, explain your step-by-step reasoning process. This should include your analysis, interpretation, and how you arrived at the answer. Provide a clear justification of how you derived the answer from the data presented. Wrap each step in <step_1>, <step_2>, ... tags.\\n- Present your final answer using the LaTeX-formatted box in `<correct_answer>` tags. \\n\\nIt is crucial that your solution contains these sections in the exact format described below:\\n\\n```\\n[Visual Elements]\\n<step_1>\\n...(Step 1 of step-by-step perception)...\\n</step_1>\\n<step_2>\\n...(Step 2 of step-by-step perception)...\\n</step_2>\\n...\\n<step_n>\\n...(Step n of step-by-step perception)...\\n</step_n>\\n\\n[Reasoning]\\n<step_1>\\n...(Step 1 of step-by-step reasoning)...\\n</step_1>\\n<step_2>\\n...(Step 2 of step-by-step reasoning)...\\n</step_2>\\n...\\n<step_m>\\n...(Step m of step-by-step reasoning)...\\n</step_m>\\n\\n<correct_answer>\\n$\\\\boxed{Your answer here}$\\n</correct_answer>\\n```\\n\\nRemember to:\\n- Provide only a single string answer in the <correct_answer> section using the $\\\\boxed{string_answer}$ format, and no other text or commentary.\\n\\n### Solution Process:\\n[Visual Elements]\\n<step_1>\\nThe diagram shows a cycle involving various components, likely representing the carbon or nitrogen cycle, with processes and reservoirs labeled with letters.\\n</step_1>'},\n",
       " {'from': 'gpt', 'value': '+'},\n",
       " {'from': 'human',\n",
       "  'value': '<step_2>\\nLetter J is placed on an arrow going from an industrial/factory area (center, labeled A) to a scene showing smoke or emissions being released into the atmosphere (label B).\\n</step_2>'},\n",
       " {'from': 'gpt', 'value': '-'}]"
      ]
     },
     "metadata": {},
     "output_type": "display_data"
    }
   ],
   "source": [
    "print(incorrect_samples_df[\"first_incorrect_step\"].iloc[0])\n",
    "incorrect_samples_df[\"conversations\"].iloc[0][1::]"
   ]
  },
  {
   "cell_type": "code",
   "execution_count": 4,
   "id": "1276b5dd",
   "metadata": {},
   "outputs": [
    {
     "ename": "KeyError",
     "evalue": "'image_path'",
     "output_type": "error",
     "traceback": [
      "\u001b[31m---------------------------------------------------------------------------\u001b[39m",
      "\u001b[31mKeyError\u001b[39m                                  Traceback (most recent call last)",
      "\u001b[36mFile \u001b[39m\u001b[32m~/.conda/envs/mmr_processing/lib/python3.12/site-packages/pandas/core/indexes/base.py:3805\u001b[39m, in \u001b[36mIndex.get_loc\u001b[39m\u001b[34m(self, key)\u001b[39m\n\u001b[32m   3804\u001b[39m \u001b[38;5;28;01mtry\u001b[39;00m:\n\u001b[32m-> \u001b[39m\u001b[32m3805\u001b[39m     \u001b[38;5;28;01mreturn\u001b[39;00m \u001b[38;5;28;43mself\u001b[39;49m\u001b[43m.\u001b[49m\u001b[43m_engine\u001b[49m\u001b[43m.\u001b[49m\u001b[43mget_loc\u001b[49m\u001b[43m(\u001b[49m\u001b[43mcasted_key\u001b[49m\u001b[43m)\u001b[49m\n\u001b[32m   3806\u001b[39m \u001b[38;5;28;01mexcept\u001b[39;00m \u001b[38;5;167;01mKeyError\u001b[39;00m \u001b[38;5;28;01mas\u001b[39;00m err:\n",
      "\u001b[36mFile \u001b[39m\u001b[32mindex.pyx:167\u001b[39m, in \u001b[36mpandas._libs.index.IndexEngine.get_loc\u001b[39m\u001b[34m()\u001b[39m\n",
      "\u001b[36mFile \u001b[39m\u001b[32mindex.pyx:196\u001b[39m, in \u001b[36mpandas._libs.index.IndexEngine.get_loc\u001b[39m\u001b[34m()\u001b[39m\n",
      "\u001b[36mFile \u001b[39m\u001b[32mpandas/_libs/hashtable_class_helper.pxi:7081\u001b[39m, in \u001b[36mpandas._libs.hashtable.PyObjectHashTable.get_item\u001b[39m\u001b[34m()\u001b[39m\n",
      "\u001b[36mFile \u001b[39m\u001b[32mpandas/_libs/hashtable_class_helper.pxi:7089\u001b[39m, in \u001b[36mpandas._libs.hashtable.PyObjectHashTable.get_item\u001b[39m\u001b[34m()\u001b[39m\n",
      "\u001b[31mKeyError\u001b[39m: 'image_path'",
      "\nThe above exception was the direct cause of the following exception:\n",
      "\u001b[31mKeyError\u001b[39m                                  Traceback (most recent call last)",
      "\u001b[36mCell\u001b[39m\u001b[36m \u001b[39m\u001b[32mIn[4]\u001b[39m\u001b[32m, line 1\u001b[39m\n\u001b[32m----> \u001b[39m\u001b[32m1\u001b[39m \u001b[38;5;28mprint\u001b[39m(\u001b[43mdf\u001b[49m\u001b[43m[\u001b[49m\u001b[33;43m\"\u001b[39;49m\u001b[33;43mimage_path\u001b[39;49m\u001b[33;43m\"\u001b[39;49m\u001b[43m]\u001b[49m.iloc[\u001b[32m0\u001b[39m])\n\u001b[32m      2\u001b[39m \u001b[38;5;28mprint\u001b[39m(df[\u001b[33m\"\u001b[39m\u001b[33mconversations\u001b[39m\u001b[33m\"\u001b[39m].iloc[\u001b[32m0\u001b[39m][\u001b[32m1\u001b[39m::])\n",
      "\u001b[36mFile \u001b[39m\u001b[32m~/.conda/envs/mmr_processing/lib/python3.12/site-packages/pandas/core/frame.py:4102\u001b[39m, in \u001b[36mDataFrame.__getitem__\u001b[39m\u001b[34m(self, key)\u001b[39m\n\u001b[32m   4100\u001b[39m \u001b[38;5;28;01mif\u001b[39;00m \u001b[38;5;28mself\u001b[39m.columns.nlevels > \u001b[32m1\u001b[39m:\n\u001b[32m   4101\u001b[39m     \u001b[38;5;28;01mreturn\u001b[39;00m \u001b[38;5;28mself\u001b[39m._getitem_multilevel(key)\n\u001b[32m-> \u001b[39m\u001b[32m4102\u001b[39m indexer = \u001b[38;5;28;43mself\u001b[39;49m\u001b[43m.\u001b[49m\u001b[43mcolumns\u001b[49m\u001b[43m.\u001b[49m\u001b[43mget_loc\u001b[49m\u001b[43m(\u001b[49m\u001b[43mkey\u001b[49m\u001b[43m)\u001b[49m\n\u001b[32m   4103\u001b[39m \u001b[38;5;28;01mif\u001b[39;00m is_integer(indexer):\n\u001b[32m   4104\u001b[39m     indexer = [indexer]\n",
      "\u001b[36mFile \u001b[39m\u001b[32m~/.conda/envs/mmr_processing/lib/python3.12/site-packages/pandas/core/indexes/base.py:3812\u001b[39m, in \u001b[36mIndex.get_loc\u001b[39m\u001b[34m(self, key)\u001b[39m\n\u001b[32m   3807\u001b[39m     \u001b[38;5;28;01mif\u001b[39;00m \u001b[38;5;28misinstance\u001b[39m(casted_key, \u001b[38;5;28mslice\u001b[39m) \u001b[38;5;129;01mor\u001b[39;00m (\n\u001b[32m   3808\u001b[39m         \u001b[38;5;28misinstance\u001b[39m(casted_key, abc.Iterable)\n\u001b[32m   3809\u001b[39m         \u001b[38;5;129;01mand\u001b[39;00m \u001b[38;5;28many\u001b[39m(\u001b[38;5;28misinstance\u001b[39m(x, \u001b[38;5;28mslice\u001b[39m) \u001b[38;5;28;01mfor\u001b[39;00m x \u001b[38;5;129;01min\u001b[39;00m casted_key)\n\u001b[32m   3810\u001b[39m     ):\n\u001b[32m   3811\u001b[39m         \u001b[38;5;28;01mraise\u001b[39;00m InvalidIndexError(key)\n\u001b[32m-> \u001b[39m\u001b[32m3812\u001b[39m     \u001b[38;5;28;01mraise\u001b[39;00m \u001b[38;5;167;01mKeyError\u001b[39;00m(key) \u001b[38;5;28;01mfrom\u001b[39;00m\u001b[38;5;250m \u001b[39m\u001b[34;01merr\u001b[39;00m\n\u001b[32m   3813\u001b[39m \u001b[38;5;28;01mexcept\u001b[39;00m \u001b[38;5;167;01mTypeError\u001b[39;00m:\n\u001b[32m   3814\u001b[39m     \u001b[38;5;66;03m# If we have a listlike key, _check_indexing_error will raise\u001b[39;00m\n\u001b[32m   3815\u001b[39m     \u001b[38;5;66;03m#  InvalidIndexError. Otherwise we fall through and re-raise\u001b[39;00m\n\u001b[32m   3816\u001b[39m     \u001b[38;5;66;03m#  the TypeError.\u001b[39;00m\n\u001b[32m   3817\u001b[39m     \u001b[38;5;28mself\u001b[39m._check_indexing_error(key)\n",
      "\u001b[31mKeyError\u001b[39m: 'image_path'"
     ]
    }
   ],
   "source": [
    "print(df[\"image_path\"].iloc[0])\n",
    "print(df[\"conversations\"].iloc[0])"
   ]
  },
  {
   "cell_type": "markdown",
   "id": "488da1fa",
   "metadata": {},
   "source": [
    "# Analyze Distribution"
   ]
  },
  {
   "cell_type": "code",
   "execution_count": 4,
   "id": "6cc53eb6",
   "metadata": {},
   "outputs": [
    {
     "name": "stdout",
     "output_type": "stream",
     "text": [
      "Total rows loaded: 89999\n",
      "Columns: ['prompt_uid', 'rollout_question', 'rollout_response', 'rollout_ground_truth_answer', 'rollout_steps_with_score', 'rollout_image_path', 'rollout_uuid', 'o4_mini_verification_custom_id', 'o4_mini_verification_solution', 'o4_mini_isVerified', 'gpt_4.1_mini_verification_custom_id', 'gpt_4.1_mini_verification_solution', 'gpt_4.1_mini_isVerified', 'gpt_4.1_nano_verification_custom_id', 'gpt_4.1_nano_verification_solution', 'gpt_4.1_nano_isVerified']\n",
      "\n",
      "=== DATASET OVERVIEW ===\n",
      "<class 'pandas.core.frame.DataFrame'>\n",
      "RangeIndex: 89999 entries, 0 to 89998\n",
      "Data columns (total 16 columns):\n",
      " #   Column                               Non-Null Count  Dtype \n",
      "---  ------                               --------------  ----- \n",
      " 0   prompt_uid                           89999 non-null  object\n",
      " 1   rollout_question                     89999 non-null  object\n",
      " 2   rollout_response                     89999 non-null  object\n",
      " 3   rollout_ground_truth_answer          89999 non-null  object\n",
      " 4   rollout_steps_with_score             89999 non-null  object\n",
      " 5   rollout_image_path                   89999 non-null  object\n",
      " 6   rollout_uuid                         89999 non-null  object\n",
      " 7   o4_mini_verification_custom_id       89965 non-null  object\n",
      " 8   o4_mini_verification_solution        89965 non-null  object\n",
      " 9   o4_mini_isVerified                   89951 non-null  object\n",
      " 10  gpt_4.1_mini_verification_custom_id  89999 non-null  object\n",
      " 11  gpt_4.1_mini_verification_solution   89999 non-null  object\n",
      " 12  gpt_4.1_mini_isVerified              89798 non-null  object\n",
      " 13  gpt_4.1_nano_verification_custom_id  89999 non-null  object\n",
      " 14  gpt_4.1_nano_verification_solution   89999 non-null  object\n",
      " 15  gpt_4.1_nano_isVerified              16777 non-null  object\n",
      "dtypes: object(16)\n",
      "memory usage: 11.0+ MB\n",
      "None\n",
      "\n",
      "=== VERIFICATION STATUS SUMMARY ===\n",
      "\n",
      "o4_mini_isVerified:\n",
      "o4_mini_isVerified\n",
      "True     68685\n",
      "False    21266\n",
      "None        48\n",
      "Name: count, dtype: int64\n",
      "True percentage: 76.32%\n",
      "\n",
      "gpt_4.1_mini_isVerified:\n",
      "gpt_4.1_mini_isVerified\n",
      "True     81980\n",
      "False     7818\n",
      "None       201\n",
      "Name: count, dtype: int64\n",
      "True percentage: 91.09%\n",
      "\n",
      "gpt_4.1_nano_isVerified:\n",
      "gpt_4.1_nano_isVerified\n",
      "None     73222\n",
      "True     16637\n",
      "False      140\n",
      "Name: count, dtype: int64\n",
      "True percentage: 18.49%\n",
      "\n",
      "=== FILTERING FOR ALL MODELS VERIFIED ===\n",
      "Original rows: 89999\n",
      "Rows after filtering (all verified): 66955\n",
      "Percentage filtered out: 25.60%\n",
      "Percentage remaining: 74.40%\n"
     ]
    },
    {
     "data": {
      "image/png": "[encoded data removed]",
      "text/plain": [
       "<Figure size 1500x1200 with 4 Axes>"
      ]
     },
     "metadata": {},
     "output_type": "display_data"
    },
    {
     "name": "stdout",
     "output_type": "stream",
     "text": [
      "\n",
      "=== SAMPLE OF FILTERED DATA (First 3 rows) ===\n",
      "  rollout_ground_truth_answer o4_mini_isVerified gpt_4.1_mini_isVerified  \\\n",
      "0                           3               True                    True   \n",
      "1                           3               True                    True   \n",
      "2                           3               True                    True   \n",
      "\n",
      "  gpt_4.1_nano_isVerified  \n",
      "0                    None  \n",
      "1                    None  \n",
      "2                    None  \n",
      "\n",
      "=== FILTERED DATASET STATISTICS ===\n",
      "Average rollout answer length: 1.46 characters\n",
      "Unique rollout answers: 58\n",
      "Most common rollout answers:\n",
      "rollout_ground_truth_answer\n",
      "9    8030\n",
      "1    6422\n",
      "8    5783\n",
      "7    4216\n",
      "6    4169\n",
      "Name: count, dtype: int64\n"
     ]
    }
   ],
   "source": [
    "import pandas as pd\n",
    "import json\n",
    "import matplotlib.pyplot as plt\n",
    "import seaborn as sns\n",
    "import numpy as np\n",
    "\n",
    "# Load the JSONL file\n",
    "file_path = \"processed_full_verification_files/dvqa_final_mc_rollouts_with_all_models_verification_merged.jsonl\"\n",
    "\n",
    "# Read JSONL file\n",
    "data = []\n",
    "with open(file_path, 'r') as f:\n",
    "    for line in f:\n",
    "        data.append(json.loads(line.strip()))\n",
    "\n",
    "# Convert to DataFrame\n",
    "df = pd.DataFrame(data)\n",
    "\n",
    "print(f\"Total rows loaded: {len(df)}\")\n",
    "print(f\"Columns: {list(df.columns)}\")\n",
    "\n",
    "# Display basic info\n",
    "print(\"\\n=== DATASET OVERVIEW ===\")\n",
    "print(df.info())\n",
    "\n",
    "# Summary statistics for verification columns\n",
    "verification_cols = ['o4_mini_isVerified', 'gpt_4.1_mini_isVerified', 'gpt_4.1_nano_isVerified']\n",
    "\n",
    "print(\"\\n=== VERIFICATION STATUS SUMMARY ===\")\n",
    "for col in verification_cols:\n",
    "    if col in df.columns:\n",
    "        print(f\"\\n{col}:\")\n",
    "        print(df[col].value_counts(dropna=False))\n",
    "        print(f\"True percentage: {df[col].sum() / len(df) * 100:.2f}%\")\n",
    "\n",
    "# Create summary plots\n",
    "fig, axes = plt.subplots(2, 2, figsize=(15, 12))\n",
    "\n",
    "# Plot 1: Verification status for each model\n",
    "verification_data = []\n",
    "for col in verification_cols:\n",
    "    if col in df.columns:\n",
    "        true_count = df[col].sum()\n",
    "        false_count = (df[col] == False).sum()\n",
    "        null_count = df[col].isna().sum()\n",
    "        verification_data.append({\n",
    "            'Model': col.replace('_isVerified', ''),\n",
    "            'True': true_count,\n",
    "            'False': false_count,\n",
    "            'Null': null_count\n",
    "        })\n",
    "\n",
    "if verification_data:\n",
    "    verification_df = pd.DataFrame(verification_data)\n",
    "    verification_df.set_index('Model').plot(kind='bar', stacked=True, ax=axes[0,0])\n",
    "    axes[0,0].set_title('Verification Status by Model')\n",
    "    axes[0,0].set_ylabel('Count')\n",
    "    axes[0,0].tick_params(axis='x', rotation=45)\n",
    "\n",
    "# Plot 2: Percentage of verified responses\n",
    "if verification_data:\n",
    "    percentages = []\n",
    "    models = []\n",
    "    for row in verification_data:\n",
    "        total = row['True'] + row['False'] + row['Null']\n",
    "        if total > 0:\n",
    "            percentages.append(row['True'] / total * 100)\n",
    "            models.append(row['Model'])\n",
    "    \n",
    "    axes[0,1].bar(models, percentages)\n",
    "    axes[0,1].set_title('Percentage of Verified Responses')\n",
    "    axes[0,1].set_ylabel('Percentage (%)')\n",
    "    axes[0,1].tick_params(axis='x', rotation=45)\n",
    "\n",
    "# Filter for all three models verified\n",
    "print(\"\\n=== FILTERING FOR ALL MODELS VERIFIED ===\")\n",
    "all_verified_mask = df[verification_cols].all(axis=1)\n",
    "filtered_df = df[all_verified_mask]\n",
    "\n",
    "print(f\"Original rows: {len(df)}\")\n",
    "print(f\"Rows after filtering (all verified): {len(filtered_df)}\")\n",
    "print(f\"Percentage filtered out: {(len(df) - len(filtered_df)) / len(df) * 100:.2f}%\")\n",
    "print(f\"Percentage remaining: {len(filtered_df) / len(df) * 100:.2f}%\")\n",
    "\n",
    "# Plot 3: Before vs After filtering\n",
    "axes[1,0].bar(['Original', 'All Verified'], [len(df), len(filtered_df)], color=['lightblue', 'lightgreen'])\n",
    "axes[1,0].set_title('Dataset Size: Before vs After Filtering')\n",
    "axes[1,0].set_ylabel('Number of Rows')\n",
    "for i, v in enumerate([len(df), len(filtered_df)]):\n",
    "    axes[1,0].text(i, v + max(len(df), len(filtered_df)) * 0.01, str(v), ha='center', va='bottom')\n",
    "\n",
    "# Plot 4: Verification overlap analysis\n",
    "if all(col in df.columns for col in verification_cols):\n",
    "    # Create Venn diagram-like analysis\n",
    "    o4_verified = df['o4_mini_isVerified'] == True\n",
    "    gpt41_mini_verified = df['gpt_4.1_mini_isVerified'] == True\n",
    "    gpt41_nano_verified = df['gpt_4.1_nano_isVerified'] == True\n",
    "    \n",
    "    overlap_data = {\n",
    "        'o4_mini': o4_verified.sum(),\n",
    "        'gpt_4.1_mini': gpt41_mini_verified.sum(),\n",
    "        'gpt_4.1_nano': gpt41_nano_verified.sum(),\n",
    "        'o4_mini + gpt_4.1_mini': (o4_verified & gpt41_mini_verified).sum(),\n",
    "        'o4_mini + gpt_4.1_nano': (o4_verified & gpt41_nano_verified).sum(),\n",
    "        'gpt_4.1_mini + gpt_4.1_nano': (gpt41_mini_verified & gpt41_nano_verified).sum(),\n",
    "        'All Three': (o4_verified & gpt41_mini_verified & gpt41_nano_verified).sum()\n",
    "    }\n",
    "    \n",
    "    axes[1,1].bar(range(len(overlap_data)), list(overlap_data.values()))\n",
    "    axes[1,1].set_title('Verification Overlap Analysis')\n",
    "    axes[1,1].set_ylabel('Count')\n",
    "    axes[1,1].set_xticks(range(len(overlap_data)))\n",
    "    axes[1,1].set_xticklabels(list(overlap_data.keys()), rotation=45, ha='right')\n",
    "\n",
    "plt.tight_layout()\n",
    "plt.show()\n",
    "\n",
    "# Display sample of filtered data\n",
    "print(\"\\n=== SAMPLE OF FILTERED DATA (First 3 rows) ===\")\n",
    "if len(filtered_df) > 0:\n",
    "    sample_cols = ['response_uid', 'rollout_ground_truth_answer'] + verification_cols\n",
    "    available_cols = [col for col in sample_cols if col in filtered_df.columns]\n",
    "    print(filtered_df[available_cols].head(3))\n",
    "else:\n",
    "    print(\"No rows match the filtering criteria!\")\n",
    "\n",
    "# Additional statistics on filtered data\n",
    "if len(filtered_df) > 0:\n",
    "    print(f\"\\n=== FILTERED DATASET STATISTICS ===\")\n",
    "    print(f\"Average rollout answer length: {filtered_df['rollout_ground_truth_answer'].str.len().mean():.2f} characters\")\n",
    "    print(f\"Unique rollout answers: {filtered_df['rollout_ground_truth_answer'].nunique()}\")\n",
    "    print(f\"Most common rollout answers:\")\n",
    "    print(filtered_df['rollout_ground_truth_answer'].value_counts().head(5))"
   ]
  },
  {
   "cell_type": "code",
   "execution_count": 3,
   "id": "aadc646d",
   "metadata": {},
   "outputs": [
    {
     "name": "stdout",
     "output_type": "stream",
     "text": [
      "=== FULL CONTENT OF FIRST ROW ===\n",
      "\n",
      "response_uid:\n",
      "  b77157ea-dcee-44a6-be87-2e5e8db7ca2b\n",
      "\n",
      "rollout_question:\n",
      "  You are an advanced visual reasoning AI specialized in analyzing images for the Visual Question Answering (VQA) task. Your objective is to examine images containing various objects, scenes, geometric shapes, diagram elements, and potentially text or numbers, and reason about processes or changes, and answer questions about their attributes, relationships, and spatial arrangements.\n",
      "\n",
      "I will provide you with:\n",
      "\n",
      "1. An image containing science diagrams\n",
      "2. A question about the contents of the image\n",
      "\n",
      "Here is the question you need to answer:\n",
      "\n",
      "<question>\n",
      "What feeds on microbial loop?\n",
      "nitrogen\n",
      "cladocerans\n",
      "carbon\n",
      "phytoplankton\n",
      "Please answer the question based on the options mentioned before.\n",
      "</question>\n",
      "\n",
      "Please follow these steps to complete the task:\n",
      "\n",
      "1. Carefully examine the image, paying attention to:\n",
      "   - Objects and scenes present\n",
      "   - Geometric shapes (if any)\n",
      "   - Attributes of each element (color, size, material, texture, etc.)\n",
      "   - Spatial relationships between elements\n",
      "   - Any text or numbers visible in the image (read and interpret these carefully)\n",
      "\n",
      "2. Analyze the question to identify the type of reasoning required (e.g., counting, existence check, comparison, attribute query, or relationship assessment).\n",
      "\n",
      "3. Conduct a thorough visual analysis of the image in relation to the question, focusing on relevant elements and attributes.\n",
      "\n",
      "4. Formulate your answer based on your analysis.\n",
      "\n",
      "5. Present your final answer as a single string in a LaTeX-formatted box using this format: \n",
      "   <correct_answer>\n",
      "   $\\boxed{Your answer here}$\n",
      "   </correct_answer>\n",
      "\n",
      "Your task is to: \n",
      "- Under the [Visual Elements] section, list out all relevant visual elements step-by-step that relate to answering the question. Be thorough but concise. Wrap each step in <step_1>, <step_2>, ... tags.\n",
      "- Under the [Reasoning] section, explain your step-by-step reasoning process. This should include your analysis, interpretation, and how you arrived at the answer. Provide a clear justification of how you derived the answer from the data presented. Wrap each step in <step_1>, <step_2>, ... tags.\n",
      "- Present your final answer using the LaTeX-formatted box in `<correct_answer>` tags. \n",
      "\n",
      "It is crucial that your solution contains these sections in the exact format described below:\n",
      "\n",
      "```\n",
      "[Visual Elements]\n",
      "<step_1>\n",
      "...(Step 1 of step-by-step perception)...\n",
      "</step_1>\n",
      "<step_2>\n",
      "...(Step 2 of step-by-step perception)...\n",
      "</step_2>\n",
      "...\n",
      "<step_n>\n",
      "...(Step n of step-by-step perception)...\n",
      "</step_n>\n",
      "\n",
      "[Reasoning]\n",
      "<step_1>\n",
      "...(Step 1 of step-by-step reasoning)...\n",
      "</step_1>\n",
      "<step_2>\n",
      "...(Step 2 of step-by-step reasoning)...\n",
      "</step_2>\n",
      "...\n",
      "<step_m>\n",
      "...(Step m of step-by-step reasoning)...\n",
      "</step_m>\n",
      "\n",
      "<correct_answer>\n",
      "$\\boxed{Your answer here}$\n",
      "</correct_answer>\n",
      "```\n",
      "\n",
      "Remember to:\n",
      "- Provide only a single string answer in the <correct_answer> section using the $\\boxed{string_answer}$ format, and no other text or commentary.\n",
      "\n",
      "rollout_response:\n",
      "  [Visual Elements]\n",
      "<step_1>\n",
      "The image includes four main groups or components arranged in a cycle: \"Copepods\" (top left), \"Cladocerans\" (top right), \"Microbial Loop\" (bottom left), and \"Phytoplankton\" (bottom right).\n",
      "</step_1>\n",
      "<step_2>\n",
      "At the bottom center, there is a label reading \"Carbon, Nitrogen, Phosphorus\" associated with a leaf icon, suggesting nutrient input.\n",
      "</step_2>\n",
      "<step_3>\n",
      "Solid blue arrows indicate the direction of feeding or transfer between groups: from \"Microbial Loop\" to \"Copepods\" and \"Cladocerans\", and from \"Phytoplankton\" to \"Copepods\" and \"Cladocerans\".\n",
      "</step_3>\n",
      "<step_4>\n",
      "Dashed brown arrows show the movement of carbon, nitrogen, and phosphorus into both the \"Microbial Loop\" and \"Phytoplankton\".\n",
      "</step_4>\n",
      "<step_5>\n",
      "Based on the spatial arrangement and arrows, the diagram illustrates a trophic relationship and nutrient cycling.\n",
      "</step_5>\n",
      "<step_6>\n",
      "The direct question asks for what feeds on \"microbial loop\" from the options: nitrogen, cladocerans, carbon, phytoplankton.\n",
      "</step_6>\n",
      "\n",
      "[Reasoning]\n",
      "<step_1>\n",
      "The key to answering the question lies in following the arrows showing feeding relationships. Solid blue arrows represent this in the diagram.\n",
      "</step_1>\n",
      "<step_2>\n",
      "Starting from the \"Microbial Loop\", two blue arrows point upwards: one goes to \"Copepods\" and the other to \"Cladocerans\".\n",
      "</step_2>\n",
      "<step_3>\n",
      "Of the options given — nitrogen, cladocerans, carbon, phytoplankton — only \"cladocerans\" is a group shown to directly receive input (feed on) from the \"Microbial Loop\" based on the arrow.\n",
      "</step_3>\n",
      "<step_4>\n",
      "\"Phytoplankton\" and \"nitrogen\" do not have arrows indicating they consume or feed on the \"Microbial Loop\", nor does \"carbon\".\n",
      "</step_4>\n",
      "<step_5>\n",
      "Therefore, \"cladocerans\" is the correct answer to the question about what feeds on the microbial loop, as per the diagram.\n",
      "</step_5>\n",
      "\n",
      "<correct_answer>\n",
      "$\\boxed{cladocerans}$\n",
      "</correct_answer>\n",
      "\n",
      "rollout_answer:\n",
      "  cladocerans\n",
      "\n",
      "rollout_steps_with_score:\n",
      "  [{'step': 'The image includes four main groups or components arranged in a cycle: \"Copepods\" (top left), \"Cladocerans\" (top right), \"Microbial Loop\" (bottom left), and \"Phytoplankton\" (bottom right).', 'score': 1.0, 'num_mc_correct': 16, 'num_mc_total': 16}, {'step': 'At the bottom center, there is a label reading \"Carbon, Nitrogen, Phosphorus\" associated with a leaf icon, suggesting nutrient input.', 'score': 1.0, 'num_mc_correct': 16, 'num_mc_total': 16}, {'step': 'Solid blue arrows indicate the direction of feeding or transfer between groups: from \"Microbial Loop\" to \"Copepods\" and \"Cladocerans\", and from \"Phytoplankton\" to \"Copepods\" and \"Cladocerans\".', 'score': 1.0, 'num_mc_correct': 16, 'num_mc_total': 16}, {'step': 'Dashed brown arrows show the movement of carbon, nitrogen, and phosphorus into both the \"Microbial Loop\" and \"Phytoplankton\".', 'score': 1.0, 'num_mc_correct': 16, 'num_mc_total': 16}, {'step': 'Based on the spatial arrangement and arrows, the diagram illustrates a trophic relationship and nutrient cycling.', 'score': 1.0, 'num_mc_correct': 16, 'num_mc_total': 16}, {'step': 'The direct question asks for what feeds on \"microbial loop\" from the options: nitrogen, cladocerans, carbon, phytoplankton.', 'score': 1.0, 'num_mc_correct': 16, 'num_mc_total': 16}, {'step': 'The key to answering the question lies in following the arrows showing feeding relationships. Solid blue arrows represent this in the diagram.', 'score': 1.0, 'num_mc_correct': 16, 'num_mc_total': 16}, {'step': 'Starting from the \"Microbial Loop\", two blue arrows point upwards: one goes to \"Copepods\" and the other to \"Cladocerans\".', 'score': 1.0, 'num_mc_correct': 16, 'num_mc_total': 16}, {'step': 'Of the options given — nitrogen, cladocerans, carbon, phytoplankton — only \"cladocerans\" is a group shown to directly receive input (feed on) from the \"Microbial Loop\" based on the arrow.', 'score': 1.0, 'num_mc_correct': 16, 'num_mc_total': 16}, {'step': '\"Phytoplankton\" and \"nitrogen\" do not have arrows indicating they consume or feed on the \"Microbial Loop\", nor does \"carbon\".', 'score': 1.0, 'num_mc_correct': 16, 'num_mc_total': 16}, {'step': 'Therefore, \"cladocerans\" is the correct answer to the question about what feeds on the microbial loop, as per the diagram.', 'score': 1.0, 'num_mc_correct': 16, 'num_mc_total': 16}]\n",
      "\n",
      "rollout_image_path:\n",
      "  /data/users/brandon/ob1-projects/InternVL/internvl_chat/rollout_generation/preprocessed_prompts/preprocessing_scripts/AI2D/subset_images/1791.png\n",
      "\n",
      "o4_mini_verification_custom_id:\n",
      "  a5859a72-2a27-4e1e-a521-d1d190378f59\n",
      "\n",
      "o4_mini_verification_solution:\n",
      "  [Visual Elements]\n",
      "<analysis_1>\n",
      "Step 1 correctly identifies the four labeled groups—Copepods, Cladocerans, Microbial Loop, and Phytoplankton—arranged roughly in a cycle. This matches the diagram.\n",
      "</analysis_1>\n",
      "<analysis_2>\n",
      "Step 2 accurately notes the bottom-center label “Carbon, Nitrogen, Phosphorus” with a leaf icon depicting nutrient inputs; this is clearly shown.\n",
      "</analysis_2>\n",
      "<analysis_3>\n",
      "Step 3 correctly describes the solid blue arrows: two arrows lead from the Microbial Loop upward to Copepods and Cladocerans, and two arrows lead from Phytoplankton upward to the same consumers. This matches the image.\n",
      "</analysis_3>\n",
      "<analysis_4>\n",
      "Step 4 accurately observes that dashed brown arrows indicate nutrient (C, N, P) flow into both the Microbial Loop and Phytoplankton. This is present in the diagram.\n",
      "</analysis_4>\n",
      "<analysis_5>\n",
      "Step 5 correctly summarizes that the diagram depicts trophic (feeding) relationships plus nutrient cycling. This is a valid high‐level description.\n",
      "</analysis_5>\n",
      "<analysis_6>\n",
      "Step 6 properly frames the question focus: which of the listed options feeds on the Microbial Loop. This aligns with the prompt.\n",
      "</analysis_6>\n",
      "\n",
      "[Reasoning]\n",
      "<analysis_1>\n",
      "Step 1 correctly identifies that solid blue arrows indicate feeding relationships in the diagram. This is consistent with typical trophic‐arrow conventions.\n",
      "</analysis_1>\n",
      "<analysis_2>\n",
      "Step 2 rightly notes that from the Microbial Loop two arrows point to Copepods and Cladocerans, indicating those two feed on the Microbial Loop.\n",
      "</analysis_2>\n",
      "<analysis_3>\n",
      "Step 3 correctly compares the arrow‐fed groups with the answer choices (nitrogen, cladocerans, carbon, phytoplankton) and identifies Cladocerans as the only matching consumer. This is logically sound.\n",
      "</analysis_3>\n",
      "<analysis_4>\n",
      "Step 4 rightly observes that Phytoplankton, Nitrogen, and Carbon are not shown as feeding on the Microbial Loop; they either receive inputs or are producers, not consumers of the loop.\n",
      "</analysis_4>\n",
      "<analysis_5>\n",
      "Step 5 correctly concludes that Cladocerans is the answer. This follows directly from the feeding‐arrow evidence and choice set.\n",
      "</analysis_5>\n",
      "\n",
      "<conclusion>\n",
      "Correct\n",
      "</conclusion>\n",
      "\n",
      "o4_mini_isVerified:\n",
      "  True\n",
      "\n",
      "gpt_4.1_mini_verification_custom_id:\n",
      "  e7be4a92-15e1-40c3-8f1a-bcab83bd7b12\n",
      "\n",
      "gpt_4.1_mini_verification_solution:\n",
      "  [Visual Elements]\n",
      "<analysis_1>\n",
      "The solution identifies four primary components arranged in a cycle: \"Copepods\" (top left), \"Cladocerans\" (top right), \"Microbial Loop\" (bottom left), and \"Phytoplankton\" (bottom right). This matches the image accurately, observing the placement and label of each group. The step correctly captures the main elements relevant to the feeding relationships.\n",
      "</analysis_1>\n",
      "\n",
      "<analysis_2>\n",
      "The solution notes a label \"Carbon, Nitrogen, Phosphorus\" positioned at the bottom center with an associated leaf icon, indicating nutrient input. This interpretation is correct as the image shows these elements at the bottom with arrows pointing upward, suggesting input to the system.\n",
      "</analysis_2>\n",
      "\n",
      "<analysis_3>\n",
      "The interpretation of solid blue arrows as indicating feeding or transfer direction between groups is accurate. The arrows indeed go from \"Microbial Loop\" to both \"Copepods\" and \"Cladocerans,\" and from \"Phytoplankton\" to the same two groups. The description reflects the visual information correctly.\n",
      "</analysis_3>\n",
      "\n",
      "<analysis_4>\n",
      "The dashed brown arrows are said to represent the movement of carbon, nitrogen, and phosphorus into the \"Microbial Loop\" and \"Phytoplankton.\" The image supports this: dashed arrows lead from the nutrient input label to these two groups. This step is valid.\n",
      "</analysis_4>\n",
      "\n",
      "<analysis_5>\n",
      "The solution summarizes the overall understanding that the diagram shows trophic relationships and nutrient cycling, which is a valid observation and a logical synthesis of the previous detailed points.\n",
      "</analysis_5>\n",
      "\n",
      "<analysis_6>\n",
      "The solution highlights that the core question is what feeds on \"Microbial Loop\" from the given options: nitrogen, cladocerans, carbon, phytoplankton. This correctly defines the scope of the question and the relevant entities to consider.\n",
      "</analysis_6>\n",
      "\n",
      "[Reasoning]\n",
      "<analysis_1>\n",
      "The reasoning begins by stating that the key is to follow the arrows that show feeding relationships, where solid blue arrows indicate this. This interpretation of arrow types is consistent with the visual elements analysis and the diagram’s conventions.\n",
      "</analysis_1>\n",
      "\n",
      "<analysis_2>\n",
      "It is observed that two blue arrows start at \"Microbial Loop\" and point upward: one to \"Copepods\" and another to \"Cladocerans.\" This is accurate as per the image.\n",
      "</analysis_2>\n",
      "\n",
      "<analysis_3>\n",
      "The solution claims that out of the options given (nitrogen, cladocerans, carbon, phytoplankton), only \"cladocerans\" directly receive input from the \"Microbial Loop\" and thus feeds on it. Here, this step contains a significant error: the image shows two blue arrows from \"Microbial Loop\" — one points to \"Copepods\" and the other to \"Cladocerans.\" Therefore, both \"Copepods\" and \"Cladocerans\" feed on the microbial loop, not just \"Cladocerans.\" The step erroneously excludes \"Copepods\" without justification. Since \"Copepods\" is not in the answer options, this omission is understandable, but the statement that only \"cladocerans\" feeds on the microbial loop is incorrect because \"Copepods\" also feed on it.\n",
      "\n",
      "However, since \"Copepods\" is not an answer option, the focus should be on which of the listed options feed on the microbial loop. Among the options (nitrogen, cladocerans, carbon, phytoplankton), only \"cladocerans\" and \"phytoplankton\" remain to verify if they feed on the microbial loop.\n",
      "\n",
      "From the arrows, \"Phytoplankton\" does not receive arrows from \"Microbial Loop\"; rather, \"Phytoplankton\" is a recipient of nutrient input but not feeding on microbial loop. So \"Phytoplankton\" does not feed on microbial loop.\n",
      "\n",
      "Nitrogen and carbon are elements, not consumers, so they do not \"feed\" in the ecological sense.\n",
      "\n",
      "Hence, the conclusion that \"cladocerans\" feed on the microbial loop is correct, but the exclusion of \"Copepods\" from consideration is because they are not among the answer options.\n",
      "\n",
      "Therefore, although the wording \"only cladocerans\" is imprecise, contextually for the answer options, this step is logically consistent.\n",
      "\n",
      "Given the nuanced position that “Copepods” also feed on microbial loop but they are not an option, and that among given options only cladocerans feed on microbial loop, this step overall holds as valid reasoning for the given options.\n",
      "</analysis_3>\n",
      "\n",
      "<analysis_4>\n",
      "This step notes that \"Phytoplankton\" and \"nitrogen\" do not have arrows indicating they feed on the microbial loop, nor does \"carbon.\" This matches the image well: phytoplankton receive nutrients but do not feed on microbial loop. Nitrogen and carbon are nutrients, not consumers, and so do not feed on microbial loop. This step is logically coherent.\n",
      "</analysis_4>\n",
      "\n",
      "<analysis_5>\n",
      "The conclusion that \"cladocerans\" is the correct answer to what feeds on microbial loop given the diagram and options is consistent with the previous analyses and the image’s feeding arrows. It follows properly and reasonably from the data.\n",
      "</analysis_5>\n",
      "\n",
      "<conclusion>\n",
      "Correct\n",
      "</conclusion>\n",
      "\n",
      "gpt_4.1_mini_isVerified:\n",
      "  True\n",
      "\n",
      "gpt_4.1_nano_verification_custom_id:\n",
      "  89ab48d5-f995-484e-9b1e-c8c3228ee24e\n",
      "\n",
      "gpt_4.1_nano_verification_solution:\n",
      "  [Visual Elements]\n",
      "<analysis_1>\n",
      "The diagram features four main biological groups: \"Copepods\" at the top left, \"Cladocerans\" at the top right, \"Microbial Loop\" at the bottom left, and \"Phytoplankton\" at the bottom right. Each group is visually represented with illustrative images consistent with biological forms.\n",
      "</analysis_1>\n",
      "\n",
      "<analysis_2>\n",
      "In addition to the biological groups, there is a label at the bottom center reading \"Carbon, Nitrogen, Phosphorus,\" associated with a leaf icon, indicating nutrient inputs. This contextual element suggests nutrient cycling rather than direct feeding relationships.\n",
      "</analysis_2>\n",
      "\n",
      "<analysis_3>\n",
      "The blue arrows indicate the flow of feeding or energy transfer: arrows from \"Microbial Loop\" to \"Copepods\" and \"Cladocerans\" imply that these groups feed on or derive from the microbial loop. Similarly, arrows from \"Phytoplankton\" to \"Copepods\" and \"Cladocerans\" suggest they also consume phytoplankton.\n",
      "</analysis_3>\n",
      "\n",
      "<analysis_4>\n",
      "Dashed brown arrows signify nutrient flow for \"Carbon, Nitrogen, Phosphorus\" into \"Microbial Loop\" and \"Phytoplankton,\" emphasizing nutrient inputs rather than direct consumer-prey relationships.\n",
      "</analysis_4>\n",
      "\n",
      "<analysis_5>\n",
      "The overall structure indicates trophic relationships: \"Microbial Loop\" provides resources to \"Cladocerans\" and \"Copepods,\" supporting the interpretation that these groups are consumers of the microbial community.\n",
      "</analysis_5>\n",
      "\n",
      "<analysis_6>\n",
      "The question asks: \"What feeds on microbial loop?\" with options including nitrogen, cladocerans, carbon, phytoplankton. Since the arrows show that cladocerans directly receive inputs from the microbial loop, cladocerans are consumers of the microbial loop, aligning with biological trophic logic.\n",
      "</analysis_6>\n",
      "\n",
      "[Reasoning]\n",
      "<analysis_1>\n",
      "The core reasoning revolves around tracing feeding relationships represented by the solid blue arrows originating from the microbial loop.\n",
      "</analysis_1>\n",
      "\n",
      "<analysis_2>\n",
      "Following these arrows, it is clear that \"Cladocerans\" and \"Copepods\" are directly fed from the microbial loop, as indicated by the directional arrow pointing toward \"Cladocerans.\"\n",
      "</analysis_2>\n",
      "\n",
      "<analysis_3>\n",
      "Among the answer choices, \"cladocerans\" is explicitly depicted as directly feeding on the microbial loop, while \"nitrogen\" and \"carbon\" are nutrients shown to flow into the system but are not indicated as being fed upon.\n",
      "</analysis_3>\n",
      "\n",
      "<analysis_4>\n",
      "\"Phytoplankton\" is also part of the diagram but is associated with nutrient input rather than being depicted as a consumer of the microbial loop. Arrows from \"Phytoplankton\" lead to \"Copepods\" and \"Cladocerans,\" but they are not shown as consumers of the microbial loop itself.\n",
      "</analysis_4>\n",
      "\n",
      "<analysis_5>\n",
      "Based on the arrows and the trophic relationships illustrated, \"cladocerans\" directly feed on the microbial loop, making them the correct choice. The other options do not have visual evidence supporting direct feeding relationships on the microbial loop.\n",
      "</analysis_5>\n",
      "\n",
      "<conclusion>\n",
      "Correct\n",
      "</conclusion>\n",
      "\n",
      "gpt_4.1_nano_isVerified:\n",
      "  True\n"
     ]
    }
   ],
   "source": [
    "# Print full content of one row with all columns\n",
    "if len(filtered_df) > 0:\n",
    "    print(\"=== FULL CONTENT OF FIRST ROW ===\")\n",
    "    first_row = filtered_df.iloc[0]\n",
    "    for col in filtered_df.columns:\n",
    "        print(f\"\\n{col}:\")\n",
    "        print(f\"  {first_row[col]}\")\n",
    "else:\n",
    "    print(\"No data available in filtered_df\")"
   ]
  },
  {
   "cell_type": "code",
   "execution_count": 2,
   "id": "2eba11a8",
   "metadata": {},
   "outputs": [
    {
     "name": "stdout",
     "output_type": "stream",
     "text": [
      "🔍 Inspecting PRM training data: /mnt/fast10/brandon/mmr_rollout_data/prm_training_data/train/AI2D_final_all_models_merged_prm_training_data.jsonl\n",
      "📊 File statistics:\n",
      "   - File size: 151.83 MB\n",
      "   - Total lines: 25557\n",
      "📖 Loading and analyzing data...\n",
      "\n",
      "📋 Sample item 1:\n",
      "   - ID: 000736c4-cd5e-4b9f-9bab-89da5d5044b8\n",
      "   - Image path: /data/users/brandon/ob1-projects/InternVL/internvl_chat/rollout_generation/preprocessed_prompts/preprocessing_scripts/AI2D/subset_images/3530.png\n",
      "   - Conversations: 21 turns\n",
      "     Turn 1 (system): You are an advanced AI assistant, designed to serve as a process supervision model. In this task, I ...\n",
      "     Turn 2 (human): ### Question:\n",
      "You are an advanced visual reasoning AI specialized in analyzing images for the Visual...\n",
      "     Turn 3 (gpt): +\n",
      "     ... and 18 more turns\n",
      "\n",
      "📋 Sample item 2:\n",
      "   - ID: 000736c4-cd5e-4b9f-9bab-89da5d5044b8\n",
      "   - Image path: /data/users/brandon/ob1-projects/InternVL/internvl_chat/rollout_generation/preprocessed_prompts/preprocessing_scripts/AI2D/subset_images/3530.png\n",
      "   - Conversations: 21 turns\n",
      "     Turn 1 (system): You are an advanced AI assistant, designed to serve as a process supervision model. In this task, I ...\n",
      "     Turn 2 (human): ### Question:\n",
      "You are an advanced visual reasoning AI specialized in analyzing images for the Visual...\n",
      "     Turn 3 (gpt): +\n",
      "     ... and 18 more turns\n",
      "\n",
      "📋 Sample item 3:\n",
      "   - ID: 000736c4-cd5e-4b9f-9bab-89da5d5044b8\n",
      "   - Image path: /data/users/brandon/ob1-projects/InternVL/internvl_chat/rollout_generation/preprocessed_prompts/preprocessing_scripts/AI2D/subset_images/3530.png\n",
      "   - Conversations: 25 turns\n",
      "     Turn 1 (system): You are an advanced AI assistant, designed to serve as a process supervision model. In this task, I ...\n",
      "     Turn 2 (human): ### Question:\n",
      "You are an advanced visual reasoning AI specialized in analyzing images for the Visual...\n",
      "     Turn 3 (gpt): +\n",
      "     ... and 22 more turns\n",
      "   Processed 5000 lines...\n"
     ]
    },
    {
     "name": "stdout",
     "output_type": "stream",
     "text": [
      "   Processed 10000 lines...\n",
      "   Processed 15000 lines...\n",
      "   Processed 20000 lines...\n",
      "   Processed 25000 lines...\n",
      "\n",
      "📈 Conversation Analysis:\n",
      "   - Total unique items: 6395\n",
      "   - Total unique images: 2471\n",
      "   - Average conversation length: 21.3 turns\n",
      "   - Min conversation length: 11 turns\n",
      "   - Max conversation length: 45 turns\n",
      "\n",
      "📊 Conversation length distribution:\n",
      "   - 11 turns: 7 items (0.0%)\n",
      "   - 13 turns: 191 items (0.7%)\n",
      "   - 15 turns: 769 items (3.0%)\n",
      "   - 17 turns: 3359 items (13.1%)\n",
      "   - 19 turns: 5455 items (21.3%)\n",
      "   - 21 turns: 6305 items (24.7%)\n",
      "   - 23 turns: 4312 items (16.9%)\n",
      "   - 25 turns: 2693 items (10.5%)\n",
      "   - 27 turns: 1289 items (5.0%)\n",
      "   - 29 turns: 703 items (2.8%)\n",
      "   - 31 turns: 287 items (1.1%)\n",
      "   - 33 turns: 95 items (0.4%)\n",
      "   - 35 turns: 50 items (0.2%)\n",
      "   - 37 turns: 20 items (0.1%)\n",
      "   - 39 turns: 11 items (0.0%)\n",
      "   - 41 turns: 6 items (0.0%)\n",
      "   - 43 turns: 4 items (0.0%)\n",
      "   - 45 turns: 1 items (0.0%)\n",
      "\n",
      "🔍 Role analysis (from first 3 items):\n",
      "   - gpt: 32 turns\n",
      "   - human: 32 turns\n",
      "   - system: 3 turns\n",
      "\n",
      "⚠️  Quality checks:\n",
      "   - ⚠️  Duplicate IDs detected: 19162 duplicates\n",
      "   - ✅ All items have image paths\n",
      "   - ✅ All items have conversations\n",
      "\n",
      "✅ PRM training data inspection complete!\n"
     ]
    }
   ],
   "source": [
    "def inspect_prm_training_data(prm_file_path, max_samples=5):\n",
    "    \"\"\"\n",
    "    Inspect PRM training data file structure and content.\n",
    "    \n",
    "    Args:\n",
    "        prm_file_path: Path to the PRM training data file\n",
    "        max_samples: Maximum number of sample items to analyze\n",
    "    \"\"\"\n",
    "    import json\n",
    "    import os\n",
    "    from collections import defaultdict\n",
    "    \n",
    "    print(f\"🔍 Inspecting PRM training data: {prm_file_path}\")\n",
    "    \n",
    "    if not os.path.exists(prm_file_path):\n",
    "        print(\"❌ File not found!\")\n",
    "        return\n",
    "    \n",
    "    # Get file size and line count\n",
    "    file_size = os.path.getsize(prm_file_path) / (1024 * 1024)  # MB\n",
    "    with open(prm_file_path, 'r') as f:\n",
    "        line_count = sum(1 for _ in f)\n",
    "    \n",
    "    print(f\"📊 File statistics:\")\n",
    "    print(f\"   - File size: {file_size:.2f} MB\")\n",
    "    print(f\"   - Total lines: {line_count}\")\n",
    "    \n",
    "    # Load sample data for analysis\n",
    "    data = []\n",
    "    unique_ids = set()\n",
    "    conversation_lengths = []\n",
    "    image_paths = set()\n",
    "    \n",
    "    print(f\"📖 Loading and analyzing data...\")\n",
    "    \n",
    "    with open(prm_file_path, 'r') as f:\n",
    "        for line_num, line in enumerate(f):\n",
    "            try:\n",
    "                item = json.loads(line.strip())\n",
    "                data.append(item)\n",
    "                \n",
    "                # Collect statistics\n",
    "                unique_ids.add(item.get(\"id\", f\"no_id_{line_num}\"))\n",
    "                image_paths.add(item.get(\"image_path\", \"no_path\"))\n",
    "                \n",
    "                # Analyze conversation structure\n",
    "                conversations = item.get(\"conversations\", [])\n",
    "                conversation_lengths.append(len(conversations))\n",
    "                \n",
    "                # Only analyze first few items in detail\n",
    "                if len(data) <= max_samples:\n",
    "                    print(f\"\\n📋 Sample item {len(data)}:\")\n",
    "                    print(f\"   - ID: {item.get('id', 'N/A')}\")\n",
    "                    print(f\"   - Image path: {item.get('image_path', 'N/A')}\")\n",
    "                    print(f\"   - Conversations: {len(conversations)} turns\")\n",
    "                    \n",
    "                    # Analyze conversation structure\n",
    "                    for i, conv in enumerate(conversations[:3]):  # Show first 3 turns\n",
    "                        role = conv.get(\"from\", \"unknown\")\n",
    "                        value = conv.get(\"value\", \"\")\n",
    "                        value_preview = value[:100] + \"...\" if len(value) > 100 else value\n",
    "                        print(f\"     Turn {i+1} ({role}): {value_preview}\")\n",
    "                    \n",
    "                    if len(conversations) > 3:\n",
    "                        print(f\"     ... and {len(conversations) - 3} more turns\")\n",
    "                \n",
    "                # Progress update\n",
    "                if (line_num + 1) % 5000 == 0:\n",
    "                    print(f\"   Processed {line_num + 1} lines...\")\n",
    "                    \n",
    "            except json.JSONDecodeError as e:\n",
    "                print(f\"❌ JSON decode error at line {line_num + 1}: {e}\")\n",
    "                continue\n",
    "            except Exception as e:\n",
    "                print(f\"❌ Error processing line {line_num + 1}: {e}\")\n",
    "                continue\n",
    "    \n",
    "    # Analyze conversation patterns\n",
    "    print(f\"\\n📈 Conversation Analysis:\")\n",
    "    print(f\"   - Total unique items: {len(unique_ids)}\")\n",
    "    print(f\"   - Total unique images: {len(image_paths)}\")\n",
    "    print(f\"   - Average conversation length: {sum(conversation_lengths) / len(conversation_lengths):.1f} turns\")\n",
    "    print(f\"   - Min conversation length: {min(conversation_lengths)} turns\")\n",
    "    print(f\"   - Max conversation length: {max(conversation_lengths)} turns\")\n",
    "    \n",
    "    # Analyze conversation length distribution\n",
    "    length_counts = defaultdict(int)\n",
    "    for length in conversation_lengths:\n",
    "        length_counts[length] += 1\n",
    "    \n",
    "    print(f\"\\n📊 Conversation length distribution:\")\n",
    "    for length in sorted(length_counts.keys()):\n",
    "        count = length_counts[length]\n",
    "        percentage = (count / len(conversation_lengths)) * 100\n",
    "        print(f\"   - {length} turns: {count} items ({percentage:.1f}%)\")\n",
    "    \n",
    "    # Analyze conversation roles\n",
    "    if data:\n",
    "        print(f\"\\n🔍 Role analysis (from first {min(max_samples, len(data))} items):\")\n",
    "        role_counts = defaultdict(int)\n",
    "        for item in data[:max_samples]:\n",
    "            conversations = item.get(\"conversations\", [])\n",
    "            for conv in conversations:\n",
    "                role = conv.get(\"from\", \"unknown\")\n",
    "                role_counts[role] += 1\n",
    "        \n",
    "        for role, count in sorted(role_counts.items()):\n",
    "            print(f\"   - {role}: {count} turns\")\n",
    "    \n",
    "    # Check for potential issues\n",
    "    print(f\"\\n⚠️  Quality checks:\")\n",
    "    \n",
    "    # Check for duplicate IDs\n",
    "    if len(unique_ids) != len(data):\n",
    "        print(f\"   - ⚠️  Duplicate IDs detected: {len(data) - len(unique_ids)} duplicates\")\n",
    "    else:\n",
    "        print(f\"   - ✅ No duplicate IDs found\")\n",
    "    \n",
    "    # Check for missing image paths\n",
    "    missing_paths = sum(1 for item in data if not item.get(\"image_path\"))\n",
    "    if missing_paths > 0:\n",
    "        print(f\"   - ⚠️  Missing image paths: {missing_paths} items\")\n",
    "    else:\n",
    "        print(f\"   - ✅ All items have image paths\")\n",
    "    \n",
    "    # Check for empty conversations\n",
    "    empty_conversations = sum(1 for item in data if not item.get(\"conversations\"))\n",
    "    if empty_conversations > 0:\n",
    "        print(f\"   - ⚠️  Empty conversations: {empty_conversations} items\")\n",
    "    else:\n",
    "        print(f\"   - ✅ All items have conversations\")\n",
    "    \n",
    "    # Check for very short conversations\n",
    "    short_conversations = sum(1 for length in conversation_lengths if length < 3)\n",
    "    if short_conversations > 0:\n",
    "        print(f\"   - ⚠️  Very short conversations (<3 turns): {short_conversations} items\")\n",
    "    \n",
    "    print(f\"\\n✅ PRM training data inspection complete!\")\n",
    "    return data\n",
    "\n",
    "# Run the inspection\n",
    "prm_file_path = \"/mnt/fast10/brandon/mmr_rollout_data/prm_training_data/train/AI2D_final_all_models_merged_prm_training_data.jsonl\"\n",
    "prm_data = inspect_prm_training_data(prm_file_path, max_samples=3)"
   ]
  },
  {
   "cell_type": "code",
   "execution_count": 4,
   "id": "f296a870",
   "metadata": {},
   "outputs": [
    {
     "name": "stdout",
     "output_type": "stream",
     "text": [
      "Loaded 14178 samples\n"
     ]
    },
    {
     "data": {
      "application/vnd.jupyter.widget-view+json": {
       "model_id": "cafed9f3c0b94bce9dbe44daa702832c",
       "version_major": 2,
       "version_minor": 0
      },
      "text/plain": [
       "Uploading the dataset shards:   0%|          | 0/1 [00:00<?, ?it/s]"
      ]
     },
     "metadata": {},
     "output_type": "display_data"
    },
    {
     "data": {
      "application/vnd.jupyter.widget-view+json": {
       "model_id": "471c3ec402894b6fa215b548fee8939c",
       "version_major": 2,
       "version_minor": 0
      },
      "text/plain": [
       "Creating parquet from Arrow format:   0%|          | 0/15 [00:00<?, ?ba/s]"
      ]
     },
     "metadata": {},
     "output_type": "display_data"
    },
    {
     "name": "stdout",
     "output_type": "stream",
     "text": [
      "✅ Dataset pushed to: https://huggingface.co/datasets/ob11/ai2d-prm-training-data-v0.1-s3\n"
     ]
    }
   ],
   "source": [
    "from datasets import Dataset, DatasetDict\n",
    "import json\n",
    "import pandas as pd\n",
    "from huggingface_hub import HfApi\n",
    "\n",
    "# Load your JSONL file\n",
    "file_path = \"/mnt/fast10/brandon/mmr_rollout_data/prm_training_data/train/AI2D_final_mc_rollouts_with_all_models_verification_merged_prm_training_data_final_trl_format_mc0.0.jsonl\"\n",
    "\n",
    "# Load data into a list\n",
    "data = []\n",
    "with open(file_path, 'r') as f:\n",
    "    for line in f:\n",
    "        data.append(json.loads(line.strip()))\n",
    "\n",
    "print(f\"Loaded {len(data)} samples\")\n",
    "\n",
    "# Convert to HuggingFace Dataset\n",
    "dataset = Dataset.from_list(data)\n",
    "\n",
    "# # Create dataset dict (optional, for train/validation split)\n",
    "dataset_dict = DatasetDict({\n",
    "    \"train\": dataset\n",
    "})\n",
    "\n",
    "import os\n",
    "# Push to Hugging Face\n",
    "username = \"ob11\"\n",
    "dataset_name = \"ai2d-prm-training-data-v0.1-s3\"\n",
    "full_dataset_name = f\"{username}/{dataset_name}\"\n",
    "\n",
    "# Push to hub\n",
    "dataset_dict.push_to_hub(\n",
    "    full_dataset_name,\n",
    "    private=False,  # Set to True if you want it private\n",
    "    token=os.getenv(\"HF_TOKEN\")  # Replace with your HF token\n",
    ")\n",
    "\n",
    "print(f\"✅ Dataset pushed to: https://huggingface.co/datasets/{full_dataset_name}\")"
   ]
  },
  {
   "cell_type": "code",
   "execution_count": null,
   "id": "6155a50f",
   "metadata": {},
   "outputs": [
    {
     "name": "stdout",
     "output_type": "stream",
     "text": [
      "Loaded 14178 samples\n",
      "Converting S3 URLs to PIL Images...\n"
     ]
    },
    {
     "data": {
      "application/vnd.jupyter.widget-view+json": {
       "model_id": "e0bd3d42cda346bf9d969242a6192c34",
       "version_major": 2,
       "version_minor": 0
      },
      "text/plain": [
       "Map (num_proc=4):   0%|          | 0/14178 [00:00<?, ? examples/s]"
      ]
     },
     "metadata": {},
     "output_type": "display_data"
    }
   ],
   "source": [
    "from urllib.parse import urlparse\n",
    "from datasets import Dataset, DatasetDict\n",
    "import json\n",
    "import pandas as pd\n",
    "from huggingface_hub import HfApi\n",
    "import boto3\n",
    "import io\n",
    "from PIL import Image\n",
    "\n",
    "# Load your JSONL file\n",
    "file_path = \"/mnt/fast10/brandon/mmr_rollout_data/prm_training_data/train/AI2D_final_mc_rollouts_with_all_models_verification_merged_prm_training_data_final_trl_format_mc0.0.jsonl\"\n",
    "\n",
    "# Load data into a list\n",
    "data = []\n",
    "with open(file_path, 'r') as f:\n",
    "    for line in f:\n",
    "        data.append(json.loads(line.strip()))\n",
    "\n",
    "print(f\"Loaded {len(data)} samples\")\n",
    "\n",
    "def load_image_from_s3(s3_url):\n",
    "    \"\"\"Load image from S3 URL and return PIL Image object\"\"\"\n",
    "    \n",
    "    parsed = urlparse(s3_url)\n",
    "    bucket_name = parsed.netloc\n",
    "    key = parsed.path.lstrip('/')\n",
    "    \n",
    "    s3_client = boto3.client('s3')\n",
    "    response = s3_client.get_object(Bucket=bucket_name, Key=key)\n",
    "    image_data = response['Body'].read()\n",
    "    return Image.open(io.BytesIO(image_data))\n",
    "\n",
    "def process_example(example):\n",
    "    \"\"\"Convert S3 URLs to PIL Images\"\"\"\n",
    "    pil_images = []\n",
    "    for s3_url in example['images']:\n",
    "        pil_image = load_image_from_s3(s3_url)\n",
    "        pil_images.append(pil_image)\n",
    "    \n",
    "    example['images'] = pil_images\n",
    "    return example\n",
    "\n",
    "# Convert to HuggingFace Dataset\n",
    "dataset = Dataset.from_list(data)\n",
    "\n",
    "# Process images: Convert S3 URLs to PIL Images\n",
    "print(\"Converting S3 URLs to PIL Images...\")\n",
    "dataset = dataset.map(process_example, num_proc=4)\n",
    "\n",
    "# Create dataset dict\n",
    "# dataset_dict = DatasetDict({\n",
    "#     \"train\": dataset\n",
    "# })"
   ]
  },
  {
   "cell_type": "code",
   "execution_count": 8,
   "id": "3dcce94f",
   "metadata": {},
   "outputs": [
    {
     "data": {
      "application/vnd.jupyter.widget-view+json": {
       "model_id": "fb4d4ff35f884fb4ab9292560a8d6227",
       "version_major": 2,
       "version_minor": 0
      },
      "text/plain": [
       "Uploading the dataset shards:   0%|          | 0/5 [00:00<?, ?it/s]"
      ]
     },
     "metadata": {},
     "output_type": "display_data"
    },
    {
     "data": {
      "application/vnd.jupyter.widget-view+json": {
       "model_id": "1cb761d95cce457c8f2bf0a473a809b9",
       "version_major": 2,
       "version_minor": 0
      },
      "text/plain": [
       "Creating parquet from Arrow format:   0%|          | 0/29 [00:00<?, ?ba/s]"
      ]
     },
     "metadata": {},
     "output_type": "display_data"
    },
    {
     "data": {
      "application/vnd.jupyter.widget-view+json": {
       "model_id": "db7f78d96af74dbc9c146865b41854a5",
       "version_major": 2,
       "version_minor": 0
      },
      "text/plain": [
       "Creating parquet from Arrow format:   0%|          | 0/29 [00:00<?, ?ba/s]"
      ]
     },
     "metadata": {},
     "output_type": "display_data"
    },
    {
     "data": {
      "application/vnd.jupyter.widget-view+json": {
       "model_id": "354d998fc3bd41d6b81458aafaf18f68",
       "version_major": 2,
       "version_minor": 0
      },
      "text/plain": [
       "Creating parquet from Arrow format:   0%|          | 0/29 [00:00<?, ?ba/s]"
      ]
     },
     "metadata": {},
     "output_type": "display_data"
    },
    {
     "data": {
      "application/vnd.jupyter.widget-view+json": {
       "model_id": "01a3f67da83948b3acbe4fc7bd097198",
       "version_major": 2,
       "version_minor": 0
      },
      "text/plain": [
       "Creating parquet from Arrow format:   0%|          | 0/29 [00:00<?, ?ba/s]"
      ]
     },
     "metadata": {},
     "output_type": "display_data"
    },
    {
     "data": {
      "application/vnd.jupyter.widget-view+json": {
       "model_id": "c58b8e542a44474a856db7f391c9e3bd",
       "version_major": 2,
       "version_minor": 0
      },
      "text/plain": [
       "Creating parquet from Arrow format:   0%|          | 0/29 [00:00<?, ?ba/s]"
      ]
     },
     "metadata": {},
     "output_type": "display_data"
    },
    {
     "name": "stdout",
     "output_type": "stream",
     "text": [
      "✅ Dataset pushed to: https://huggingface.co/datasets/ob11/ai2d-prm-training-data-v0.2\n"
     ]
    }
   ],
   "source": [
    "import os\n",
    "# Push to Hugging Face\n",
    "username = \"ob11\"\n",
    "dataset_name = \"ai2d-prm-training-data-v0.2\"\n",
    "full_dataset_name = f\"{username}/{dataset_name}\"\n",
    "\n",
    "# Push to hub\n",
    "dataset_dict.push_to_hub(\n",
    "    full_dataset_name,\n",
    "    private=False,  # Set to True if you want it private\n",
    "    token=os.getenv(\"HF_TOKEN\")  # Replace with your HF token\n",
    ")\n",
    "\n",
    "print(f\"✅ Dataset pushed to: https://huggingface.co/datasets/{full_dataset_name}\")"
   ]
  },
  {
   "cell_type": "code",
   "execution_count": null,
   "id": "c40bc2cb",
   "metadata": {},
   "outputs": [
    {
     "name": "stdout",
     "output_type": "stream",
     "text": [
      "['Visual Elements', 1]\n"
     ]
    },
    {
     "data": {
      "text/plain": [
       "[{'from': 'human',\n",
       "  'value': '### Question:\\nYou are an advanced visual reasoning AI specialized in analyzing images for the Visual Question Answering (VQA) task. Your objective is to examine images containing various objects, scenes, geometric shapes, diagram elements, and potentially text or numbers, and reason about processes or changes, and answer questions about their attributes, relationships, and spatial arrangements.\\n\\nI will provide you with:\\n\\n1. An image containing science diagrams\\n2. A question about the contents of the image\\n\\nHere is the question you need to answer:\\n\\n<question>\\nWhat is the process at letter J called in the diagram?\\nphotosynthesis\\ncellular respiration\\ndecay by fungi and bacteria\\nconsumption\\nPlease answer the question based on the options mentioned before.\\n</question>\\n\\nPlease follow these steps to complete the task:\\n\\n1. Carefully examine the image, paying attention to:\\n   - Objects and scenes present\\n   - Geometric shapes (if any)\\n   - Attributes of each element (color, size, material, texture, etc.)\\n   - Spatial relationships between elements\\n   - Any text or numbers visible in the image (read and interpret these carefully)\\n\\n2. Analyze the question to identify the type of reasoning required (e.g., counting, existence check, comparison, attribute query, or relationship assessment).\\n\\n3. Conduct a thorough visual analysis of the image in relation to the question, focusing on relevant elements and attributes.\\n\\n4. Formulate your answer based on your analysis.\\n\\n5. Present your final answer as a single string in a LaTeX-formatted box using this format: \\n   <correct_answer>\\n   $\\\\boxed{Your answer here}$\\n   </correct_answer>\\n\\nYour task is to: \\n- Under the [Visual Elements] section, list out all relevant visual elements step-by-step that relate to answering the question. Be thorough but concise. Wrap each step in <step_1>, <step_2>, ... tags.\\n- Under the [Reasoning] section, explain your step-by-step reasoning process. This should include your analysis, interpretation, and how you arrived at the answer. Provide a clear justification of how you derived the answer from the data presented. Wrap each step in <step_1>, <step_2>, ... tags.\\n- Present your final answer using the LaTeX-formatted box in `<correct_answer>` tags. \\n\\nIt is crucial that your solution contains these sections in the exact format described below:\\n\\n```\\n[Visual Elements]\\n<step_1>\\n...(Step 1 of step-by-step perception)...\\n</step_1>\\n<step_2>\\n...(Step 2 of step-by-step perception)...\\n</step_2>\\n...\\n<step_n>\\n...(Step n of step-by-step perception)...\\n</step_n>\\n\\n[Reasoning]\\n<step_1>\\n...(Step 1 of step-by-step reasoning)...\\n</step_1>\\n<step_2>\\n...(Step 2 of step-by-step reasoning)...\\n</step_2>\\n...\\n<step_m>\\n...(Step m of step-by-step reasoning)...\\n</step_m>\\n\\n<correct_answer>\\n$\\\\boxed{Your answer here}$\\n</correct_answer>\\n```\\n\\nRemember to:\\n- Provide only a single string answer in the <correct_answer> section using the $\\\\boxed{string_answer}$ format, and no other text or commentary.\\n\\n### Solution Process:\\n[Visual Elements]\\n<step_1>\\nThe diagram shows a cycle involving various components, likely representing the carbon or nitrogen cycle, with processes and reservoirs labeled with letters.\\n</step_1>'},\n",
       " {'from': 'gpt', 'value': '+'},\n",
       " {'from': 'human',\n",
       "  'value': '<step_2>\\nLetter J is placed on an arrow going from an industrial/factory area (center, labeled A) to a scene showing smoke or emissions being released into the atmosphere (label B).\\n</step_2>'},\n",
       " {'from': 'gpt', 'value': '-'}]"
      ]
     },
     "metadata": {},
     "output_type": "display_data"
    }
   ],
   "source": [
    "print(incorrect_samples_df[\"first_incorrect_step\"].iloc[0])\n",
    "incorrect_samples_df[\"conversations\"].iloc[0][1::]"
   ]
  },
  {
   "cell_type": "code",
   "execution_count": 25,
   "id": "6c4e9269",
   "metadata": {},
   "outputs": [
    {
     "name": "stdout",
     "output_type": "stream",
     "text": [
      "Loaded 14178 samples\n",
      "Converting local images to PIL Images...\n"
     ]
    }
   ],
   "source": [
    "from datasets import Dataset, DatasetDict\n",
    "import json\n",
    "import os\n",
    "from PIL import Image\n",
    "\n",
    "# Load your JSONL file\n",
    "file_path = \"/mnt/fast10/brandon/mmr_rollout_data/prm_training_data/train/AI2D_final_mc_rollouts_with_all_models_verification_merged_prm_training_data_final_trl_format_mc0.0.jsonl\"\n",
    "\n",
    "data = []\n",
    "with open(file_path, 'r') as f:\n",
    "    for line in f:\n",
    "        data.append(json.loads(line.strip()))\n",
    "\n",
    "print(f\"Loaded {len(data)} samples\")\n",
    "\n",
    "def s3_url_to_local_path(s3_url, local_base_dir=\"/mnt/fast10/brandon/mmr_rollout_data/ai2d_images\"):\n",
    "    \"\"\"Convert S3 URL to local file path\"\"\"\n",
    "    # Extract filename from S3 URL\n",
    "    # s3://arf-share/arf-ob1-mm-reasoning/training_data_images/AI2D/subset_images/706.png\n",
    "    # -> /tmp/ai2d_images/706.png\n",
    "    filename = s3_url.split('/')[-1]\n",
    "    return os.path.join(local_base_dir, filename)\n",
    "    \n",
    "def process_example_local(example):\n",
    "    \"\"\"Load images from local files\"\"\"\n",
    "    pil_images = []\n",
    "    for s3_url in example['images']:\n",
    "        local_path = s3_url_to_local_path(s3_url)\n",
    "        try:\n",
    "            if os.path.exists(local_path):\n",
    "                pil_image = Image.open(local_path)\n",
    "                pil_images.append(pil_image)  # Actually append the loaded image!\n",
    "            else:\n",
    "                print(f\"Warning: Local file not found: {local_path}\")\n",
    "        except Exception as e:\n",
    "            print(f\"Error loading {local_path}: {e}\")\n",
    "    \n",
    "    # Only update if we successfully loaded at least one image\n",
    "    if pil_images:\n",
    "        example['images'] = pil_images\n",
    "    else:\n",
    "        print(f\"Warning: No images loaded for example\")\n",
    "        example['images'] = []  # Keep it as empty list for consistency\n",
    "    \n",
    "    return example\n",
    "\n",
    "# Convert to HuggingFace Dataset\n",
    "dataset = Dataset.from_list(data)\n",
    "\n",
    "# Process images from local files - this will be MUCH faster\n",
    "print(\"Converting local images to PIL Images...\")\n",
    "dataset = [process_example_local(sample) for sample in dataset]\n",
    "\n",
    "# Convert dataset to OAI messages\n",
    "# need to use list comprehension to keep Pil.Image type, .mape convert image to bytes\n",
    "\n",
    "# dataset = dataset.map(\n",
    "#     process_example_local, \n",
    "#     num_proc=min(32, os.cpu_count() * 4),  # Can use more processes now\n",
    "#     desc=\"Loading local images\"\n",
    "# )"
   ]
  },
  {
   "cell_type": "code",
   "execution_count": 26,
   "id": "3285a910",
   "metadata": {},
   "outputs": [
    {
     "name": "stdout",
     "output_type": "stream",
     "text": [
      "🔍 Verifying image types...\n",
      "Sample 0: <class 'PIL.PngImagePlugin.PngImageFile'>\n",
      "Sample 1: <class 'PIL.PngImagePlugin.PngImageFile'>\n",
      "Sample 2: <class 'PIL.PngImagePlugin.PngImageFile'>\n"
     ]
    }
   ],
   "source": [
    "import os\n",
    "\n",
    "# Check the image types\n",
    "print(\"🔍 Verifying image types...\")\n",
    "for i in range(min(3, len(dataset))):\n",
    "    img = dataset[i]['images'][0]\n",
    "    print(f\"Sample {i}: {type(img)}\")"
   ]
  },
  {
   "cell_type": "code",
   "execution_count": 27,
   "id": "97718b54",
   "metadata": {},
   "outputs": [],
   "source": [
    "# Convert to HuggingFace Dataset\n",
    "dataset = Dataset.from_list(dataset)"
   ]
  },
  {
   "cell_type": "code",
   "execution_count": 29,
   "id": "c4dcf4ba",
   "metadata": {},
   "outputs": [
    {
     "data": {
      "text/plain": [
       "PIL.PngImagePlugin.PngImageFile"
      ]
     },
     "execution_count": 29,
     "metadata": {},
     "output_type": "execute_result"
    }
   ],
   "source": [
    "type(dataset[0][\"images\"][0])"
   ]
  },
  {
   "cell_type": "code",
   "execution_count": 31,
   "id": "1df59fdf",
   "metadata": {},
   "outputs": [
    {
     "name": "stdout",
     "output_type": "stream",
     "text": [
      "\n",
      "🚀 Pushing to HuggingFace: ob11/ai2d-prm-training-data-v0.4-pil\n"
     ]
    },
    {
     "data": {
      "application/vnd.jupyter.widget-view+json": {
       "model_id": "50314331d01f4cd5aec473aba39f1b4b",
       "version_major": 2,
       "version_minor": 0
      },
      "text/plain": [
       "Uploading the dataset shards:   0%|          | 0/60 [00:00<?, ?it/s]"
      ]
     },
     "metadata": {},
     "output_type": "display_data"
    },
    {
     "data": {
      "application/vnd.jupyter.widget-view+json": {
       "model_id": "51658f11f1604277b44fd2859b5d7838",
       "version_major": 2,
       "version_minor": 0
      },
      "text/plain": [
       "Map:   0%|          | 0/237 [00:00<?, ? examples/s]"
      ]
     },
     "metadata": {},
     "output_type": "display_data"
    },
    {
     "data": {
      "application/vnd.jupyter.widget-view+json": {
       "model_id": "9dd55e1af8ca426aa04ce3feb2850f35",
       "version_major": 2,
       "version_minor": 0
      },
      "text/plain": [
       "Creating parquet from Arrow format:   0%|          | 0/3 [00:00<?, ?ba/s]"
      ]
     },
     "metadata": {},
     "output_type": "display_data"
    },
    {
     "data": {
      "application/vnd.jupyter.widget-view+json": {
       "model_id": "e7d31d3952b8408db7cb5dee12abc018",
       "version_major": 2,
       "version_minor": 0
      },
      "text/plain": [
       "Map:   0%|          | 0/237 [00:00<?, ? examples/s]"
      ]
     },
     "metadata": {},
     "output_type": "display_data"
    },
    {
     "data": {
      "application/vnd.jupyter.widget-view+json": {
       "model_id": "e7332847e8af4b2da88f363b23f38e95",
       "version_major": 2,
       "version_minor": 0
      },
      "text/plain": [
       "Creating parquet from Arrow format:   0%|          | 0/3 [00:00<?, ?ba/s]"
      ]
     },
     "metadata": {},
     "output_type": "display_data"
    },
    {
     "data": {
      "application/vnd.jupyter.widget-view+json": {
       "model_id": "58a28dd1188847e1912e5ea7a2a05120",
       "version_major": 2,
       "version_minor": 0
      },
      "text/plain": [
       "Map:   0%|          | 0/237 [00:00<?, ? examples/s]"
      ]
     },
     "metadata": {},
     "output_type": "display_data"
    },
    {
     "data": {
      "application/vnd.jupyter.widget-view+json": {
       "model_id": "63d1740b0446479da5c7907d9ea95ad2",
       "version_major": 2,
       "version_minor": 0
      },
      "text/plain": [
       "Creating parquet from Arrow format:   0%|          | 0/3 [00:00<?, ?ba/s]"
      ]
     },
     "metadata": {},
     "output_type": "display_data"
    },
    {
     "data": {
      "application/vnd.jupyter.widget-view+json": {
       "model_id": "d99c23c54d2f4f92add7778af4f5a15d",
       "version_major": 2,
       "version_minor": 0
      },
      "text/plain": [
       "Map:   0%|          | 0/237 [00:00<?, ? examples/s]"
      ]
     },
     "metadata": {},
     "output_type": "display_data"
    },
    {
     "data": {
      "application/vnd.jupyter.widget-view+json": {
       "model_id": "7cbf0a73d0aa41b8b3afdab406f67e1b",
       "version_major": 2,
       "version_minor": 0
      },
      "text/plain": [
       "Creating parquet from Arrow format:   0%|          | 0/3 [00:00<?, ?ba/s]"
      ]
     },
     "metadata": {},
     "output_type": "display_data"
    },
    {
     "data": {
      "application/vnd.jupyter.widget-view+json": {
       "model_id": "b5b2f569ac1e481dbd3ce7b5af9e6cf3",
       "version_major": 2,
       "version_minor": 0
      },
      "text/plain": [
       "Map:   0%|          | 0/237 [00:00<?, ? examples/s]"
      ]
     },
     "metadata": {},
     "output_type": "display_data"
    },
    {
     "data": {
      "application/vnd.jupyter.widget-view+json": {
       "model_id": "7f4a2253cc5042a8a347cd0786094e96",
       "version_major": 2,
       "version_minor": 0
      },
      "text/plain": [
       "Creating parquet from Arrow format:   0%|          | 0/3 [00:00<?, ?ba/s]"
      ]
     },
     "metadata": {},
     "output_type": "display_data"
    },
    {
     "data": {
      "application/vnd.jupyter.widget-view+json": {
       "model_id": "dd39f4abe6ac423b94c10da9304198ae",
       "version_major": 2,
       "version_minor": 0
      },
      "text/plain": [
       "Map:   0%|          | 0/237 [00:00<?, ? examples/s]"
      ]
     },
     "metadata": {},
     "output_type": "display_data"
    },
    {
     "data": {
      "application/vnd.jupyter.widget-view+json": {
       "model_id": "2c272993c0b24441bdb7b8813749b393",
       "version_major": 2,
       "version_minor": 0
      },
      "text/plain": [
       "Creating parquet from Arrow format:   0%|          | 0/3 [00:00<?, ?ba/s]"
      ]
     },
     "metadata": {},
     "output_type": "display_data"
    },
    {
     "data": {
      "application/vnd.jupyter.widget-view+json": {
       "model_id": "546a32e8ad424cd7bb955490f6f0b7ad",
       "version_major": 2,
       "version_minor": 0
      },
      "text/plain": [
       "Map:   0%|          | 0/237 [00:00<?, ? examples/s]"
      ]
     },
     "metadata": {},
     "output_type": "display_data"
    },
    {
     "data": {
      "application/vnd.jupyter.widget-view+json": {
       "model_id": "9cdca4f338a348c098c928e02ce2da79",
       "version_major": 2,
       "version_minor": 0
      },
      "text/plain": [
       "Creating parquet from Arrow format:   0%|          | 0/3 [00:00<?, ?ba/s]"
      ]
     },
     "metadata": {},
     "output_type": "display_data"
    },
    {
     "data": {
      "application/vnd.jupyter.widget-view+json": {
       "model_id": "bab207a4c7ec4ff297682db0f2e57225",
       "version_major": 2,
       "version_minor": 0
      },
      "text/plain": [
       "Map:   0%|          | 0/237 [00:00<?, ? examples/s]"
      ]
     },
     "metadata": {},
     "output_type": "display_data"
    },
    {
     "data": {
      "application/vnd.jupyter.widget-view+json": {
       "model_id": "27fc5109b68442eda9fd01683e209919",
       "version_major": 2,
       "version_minor": 0
      },
      "text/plain": [
       "Creating parquet from Arrow format:   0%|          | 0/3 [00:00<?, ?ba/s]"
      ]
     },
     "metadata": {},
     "output_type": "display_data"
    },
    {
     "data": {
      "application/vnd.jupyter.widget-view+json": {
       "model_id": "b98fa6e3056a4e659210815c6f220ffd",
       "version_major": 2,
       "version_minor": 0
      },
      "text/plain": [
       "Map:   0%|          | 0/237 [00:00<?, ? examples/s]"
      ]
     },
     "metadata": {},
     "output_type": "display_data"
    },
    {
     "data": {
      "application/vnd.jupyter.widget-view+json": {
       "model_id": "3d535202dc4947e5a2c63e35400f6c09",
       "version_major": 2,
       "version_minor": 0
      },
      "text/plain": [
       "Creating parquet from Arrow format:   0%|          | 0/3 [00:00<?, ?ba/s]"
      ]
     },
     "metadata": {},
     "output_type": "display_data"
    },
    {
     "data": {
      "application/vnd.jupyter.widget-view+json": {
       "model_id": "af551f0f483b4cf792529aff3985e385",
       "version_major": 2,
       "version_minor": 0
      },
      "text/plain": [
       "Map:   0%|          | 0/237 [00:00<?, ? examples/s]"
      ]
     },
     "metadata": {},
     "output_type": "display_data"
    },
    {
     "data": {
      "application/vnd.jupyter.widget-view+json": {
       "model_id": "2184ea84c8124cba80ede6016357b4da",
       "version_major": 2,
       "version_minor": 0
      },
      "text/plain": [
       "Creating parquet from Arrow format:   0%|          | 0/3 [00:00<?, ?ba/s]"
      ]
     },
     "metadata": {},
     "output_type": "display_data"
    },
    {
     "data": {
      "application/vnd.jupyter.widget-view+json": {
       "model_id": "15023361bc4147978bf6156447828c85",
       "version_major": 2,
       "version_minor": 0
      },
      "text/plain": [
       "Map:   0%|          | 0/237 [00:00<?, ? examples/s]"
      ]
     },
     "metadata": {},
     "output_type": "display_data"
    },
    {
     "data": {
      "application/vnd.jupyter.widget-view+json": {
       "model_id": "650484931b4d49a88427a1fc2e8a7432",
       "version_major": 2,
       "version_minor": 0
      },
      "text/plain": [
       "Creating parquet from Arrow format:   0%|          | 0/3 [00:00<?, ?ba/s]"
      ]
     },
     "metadata": {},
     "output_type": "display_data"
    },
    {
     "data": {
      "application/vnd.jupyter.widget-view+json": {
       "model_id": "666d6ebbcb974f3d83949fd09b7ad092",
       "version_major": 2,
       "version_minor": 0
      },
      "text/plain": [
       "Map:   0%|          | 0/237 [00:00<?, ? examples/s]"
      ]
     },
     "metadata": {},
     "output_type": "display_data"
    },
    {
     "data": {
      "application/vnd.jupyter.widget-view+json": {
       "model_id": "1e1837b220ae41baad5ad80210942112",
       "version_major": 2,
       "version_minor": 0
      },
      "text/plain": [
       "Creating parquet from Arrow format:   0%|          | 0/3 [00:00<?, ?ba/s]"
      ]
     },
     "metadata": {},
     "output_type": "display_data"
    },
    {
     "data": {
      "application/vnd.jupyter.widget-view+json": {
       "model_id": "4bb8f62756d34a65a1d4f774e72a37ee",
       "version_major": 2,
       "version_minor": 0
      },
      "text/plain": [
       "Map:   0%|          | 0/237 [00:00<?, ? examples/s]"
      ]
     },
     "metadata": {},
     "output_type": "display_data"
    },
    {
     "data": {
      "application/vnd.jupyter.widget-view+json": {
       "model_id": "080c586e0eb14ff8822c9cbe5ff02213",
       "version_major": 2,
       "version_minor": 0
      },
      "text/plain": [
       "Creating parquet from Arrow format:   0%|          | 0/3 [00:00<?, ?ba/s]"
      ]
     },
     "metadata": {},
     "output_type": "display_data"
    },
    {
     "data": {
      "application/vnd.jupyter.widget-view+json": {
       "model_id": "6d9f1057b830422087fe4f5d3c01153f",
       "version_major": 2,
       "version_minor": 0
      },
      "text/plain": [
       "Map:   0%|          | 0/237 [00:00<?, ? examples/s]"
      ]
     },
     "metadata": {},
     "output_type": "display_data"
    },
    {
     "data": {
      "application/vnd.jupyter.widget-view+json": {
       "model_id": "cea3cf37a39b4d56b05ab162b74e9808",
       "version_major": 2,
       "version_minor": 0
      },
      "text/plain": [
       "Creating parquet from Arrow format:   0%|          | 0/3 [00:00<?, ?ba/s]"
      ]
     },
     "metadata": {},
     "output_type": "display_data"
    },
    {
     "data": {
      "application/vnd.jupyter.widget-view+json": {
       "model_id": "dc85dfd0141e40078b34fb935ff9975f",
       "version_major": 2,
       "version_minor": 0
      },
      "text/plain": [
       "Map:   0%|          | 0/237 [00:00<?, ? examples/s]"
      ]
     },
     "metadata": {},
     "output_type": "display_data"
    },
    {
     "data": {
      "application/vnd.jupyter.widget-view+json": {
       "model_id": "1a0691a95baa40ab97a3040d0a0f4dbe",
       "version_major": 2,
       "version_minor": 0
      },
      "text/plain": [
       "Creating parquet from Arrow format:   0%|          | 0/3 [00:00<?, ?ba/s]"
      ]
     },
     "metadata": {},
     "output_type": "display_data"
    },
    {
     "data": {
      "application/vnd.jupyter.widget-view+json": {
       "model_id": "a2f68d68412f4cb4907a5eb4dcb2297e",
       "version_major": 2,
       "version_minor": 0
      },
      "text/plain": [
       "Map:   0%|          | 0/237 [00:00<?, ? examples/s]"
      ]
     },
     "metadata": {},
     "output_type": "display_data"
    },
    {
     "data": {
      "application/vnd.jupyter.widget-view+json": {
       "model_id": "3f82d0fc196e4255aa8c82f506f4c1c8",
       "version_major": 2,
       "version_minor": 0
      },
      "text/plain": [
       "Creating parquet from Arrow format:   0%|          | 0/3 [00:00<?, ?ba/s]"
      ]
     },
     "metadata": {},
     "output_type": "display_data"
    },
    {
     "data": {
      "application/vnd.jupyter.widget-view+json": {
       "model_id": "ec8cd36776d3463da54dede9f4a2399d",
       "version_major": 2,
       "version_minor": 0
      },
      "text/plain": [
       "Map:   0%|          | 0/237 [00:00<?, ? examples/s]"
      ]
     },
     "metadata": {},
     "output_type": "display_data"
    },
    {
     "data": {
      "application/vnd.jupyter.widget-view+json": {
       "model_id": "0e7a33e8b297414884062d1934821756",
       "version_major": 2,
       "version_minor": 0
      },
      "text/plain": [
       "Creating parquet from Arrow format:   0%|          | 0/3 [00:00<?, ?ba/s]"
      ]
     },
     "metadata": {},
     "output_type": "display_data"
    },
    {
     "data": {
      "application/vnd.jupyter.widget-view+json": {
       "model_id": "67e21d5fd0434784b67addd8a0dd5a14",
       "version_major": 2,
       "version_minor": 0
      },
      "text/plain": [
       "Map:   0%|          | 0/237 [00:00<?, ? examples/s]"
      ]
     },
     "metadata": {},
     "output_type": "display_data"
    },
    {
     "data": {
      "application/vnd.jupyter.widget-view+json": {
       "model_id": "d10d04a74c0849e5b626bbe37b018ceb",
       "version_major": 2,
       "version_minor": 0
      },
      "text/plain": [
       "Creating parquet from Arrow format:   0%|          | 0/3 [00:00<?, ?ba/s]"
      ]
     },
     "metadata": {},
     "output_type": "display_data"
    },
    {
     "data": {
      "application/vnd.jupyter.widget-view+json": {
       "model_id": "e85ebb3c1b4c456cbde1a3c49e60bfcc",
       "version_major": 2,
       "version_minor": 0
      },
      "text/plain": [
       "Map:   0%|          | 0/236 [00:00<?, ? examples/s]"
      ]
     },
     "metadata": {},
     "output_type": "display_data"
    },
    {
     "data": {
      "application/vnd.jupyter.widget-view+json": {
       "model_id": "183a5fe15e89441086739c2ccf72f1f6",
       "version_major": 2,
       "version_minor": 0
      },
      "text/plain": [
       "Creating parquet from Arrow format:   0%|          | 0/3 [00:00<?, ?ba/s]"
      ]
     },
     "metadata": {},
     "output_type": "display_data"
    },
    {
     "data": {
      "application/vnd.jupyter.widget-view+json": {
       "model_id": "2eb60fa1e35e4634b3e3368d2548b29c",
       "version_major": 2,
       "version_minor": 0
      },
      "text/plain": [
       "Map:   0%|          | 0/236 [00:00<?, ? examples/s]"
      ]
     },
     "metadata": {},
     "output_type": "display_data"
    },
    {
     "data": {
      "application/vnd.jupyter.widget-view+json": {
       "model_id": "5be3f423760e436fbf05c89eb936ff5d",
       "version_major": 2,
       "version_minor": 0
      },
      "text/plain": [
       "Creating parquet from Arrow format:   0%|          | 0/3 [00:00<?, ?ba/s]"
      ]
     },
     "metadata": {},
     "output_type": "display_data"
    },
    {
     "data": {
      "application/vnd.jupyter.widget-view+json": {
       "model_id": "47db712d190a42bb9e590421c49ab609",
       "version_major": 2,
       "version_minor": 0
      },
      "text/plain": [
       "Map:   0%|          | 0/236 [00:00<?, ? examples/s]"
      ]
     },
     "metadata": {},
     "output_type": "display_data"
    },
    {
     "data": {
      "application/vnd.jupyter.widget-view+json": {
       "model_id": "258458cbda68468698b0622e096d87a7",
       "version_major": 2,
       "version_minor": 0
      },
      "text/plain": [
       "Creating parquet from Arrow format:   0%|          | 0/3 [00:00<?, ?ba/s]"
      ]
     },
     "metadata": {},
     "output_type": "display_data"
    },
    {
     "data": {
      "application/vnd.jupyter.widget-view+json": {
       "model_id": "1a4f076bbafa4793941143cdfc1cba7b",
       "version_major": 2,
       "version_minor": 0
      },
      "text/plain": [
       "Map:   0%|          | 0/236 [00:00<?, ? examples/s]"
      ]
     },
     "metadata": {},
     "output_type": "display_data"
    },
    {
     "data": {
      "application/vnd.jupyter.widget-view+json": {
       "model_id": "7a68e6a430f8418783a516ac7bc53df7",
       "version_major": 2,
       "version_minor": 0
      },
      "text/plain": [
       "Creating parquet from Arrow format:   0%|          | 0/3 [00:00<?, ?ba/s]"
      ]
     },
     "metadata": {},
     "output_type": "display_data"
    },
    {
     "data": {
      "application/vnd.jupyter.widget-view+json": {
       "model_id": "1f021bc793b540ab8b20cb3387e00a5e",
       "version_major": 2,
       "version_minor": 0
      },
      "text/plain": [
       "Map:   0%|          | 0/236 [00:00<?, ? examples/s]"
      ]
     },
     "metadata": {},
     "output_type": "display_data"
    },
    {
     "data": {
      "application/vnd.jupyter.widget-view+json": {
       "model_id": "975937ff7dd741d58bf6756878c06e8e",
       "version_major": 2,
       "version_minor": 0
      },
      "text/plain": [
       "Creating parquet from Arrow format:   0%|          | 0/3 [00:00<?, ?ba/s]"
      ]
     },
     "metadata": {},
     "output_type": "display_data"
    },
    {
     "data": {
      "application/vnd.jupyter.widget-view+json": {
       "model_id": "b9e6f03ef25645eea58d2515357cadfa",
       "version_major": 2,
       "version_minor": 0
      },
      "text/plain": [
       "Map:   0%|          | 0/236 [00:00<?, ? examples/s]"
      ]
     },
     "metadata": {},
     "output_type": "display_data"
    },
    {
     "data": {
      "application/vnd.jupyter.widget-view+json": {
       "model_id": "d2fa2752d64b4ac7b1a57ec033c704a3",
       "version_major": 2,
       "version_minor": 0
      },
      "text/plain": [
       "Creating parquet from Arrow format:   0%|          | 0/3 [00:00<?, ?ba/s]"
      ]
     },
     "metadata": {},
     "output_type": "display_data"
    },
    {
     "data": {
      "application/vnd.jupyter.widget-view+json": {
       "model_id": "575a6d29246547baa98be4303842830e",
       "version_major": 2,
       "version_minor": 0
      },
      "text/plain": [
       "Map:   0%|          | 0/236 [00:00<?, ? examples/s]"
      ]
     },
     "metadata": {},
     "output_type": "display_data"
    },
    {
     "data": {
      "application/vnd.jupyter.widget-view+json": {
       "model_id": "18f1918877c24b86b20b1be9549611bb",
       "version_major": 2,
       "version_minor": 0
      },
      "text/plain": [
       "Creating parquet from Arrow format:   0%|          | 0/3 [00:00<?, ?ba/s]"
      ]
     },
     "metadata": {},
     "output_type": "display_data"
    },
    {
     "data": {
      "application/vnd.jupyter.widget-view+json": {
       "model_id": "367bb5d0a6234249a185e2fe3b86507c",
       "version_major": 2,
       "version_minor": 0
      },
      "text/plain": [
       "Map:   0%|          | 0/236 [00:00<?, ? examples/s]"
      ]
     },
     "metadata": {},
     "output_type": "display_data"
    },
    {
     "data": {
      "application/vnd.jupyter.widget-view+json": {
       "model_id": "a2ec81bfd5b849bfa4d60af47d157d51",
       "version_major": 2,
       "version_minor": 0
      },
      "text/plain": [
       "Creating parquet from Arrow format:   0%|          | 0/3 [00:00<?, ?ba/s]"
      ]
     },
     "metadata": {},
     "output_type": "display_data"
    },
    {
     "data": {
      "application/vnd.jupyter.widget-view+json": {
       "model_id": "469fadb36683412da1f8b4ad33697bc1",
       "version_major": 2,
       "version_minor": 0
      },
      "text/plain": [
       "Map:   0%|          | 0/236 [00:00<?, ? examples/s]"
      ]
     },
     "metadata": {},
     "output_type": "display_data"
    },
    {
     "data": {
      "application/vnd.jupyter.widget-view+json": {
       "model_id": "37ac56b101e943fa915c3f57ed5e8962",
       "version_major": 2,
       "version_minor": 0
      },
      "text/plain": [
       "Creating parquet from Arrow format:   0%|          | 0/3 [00:00<?, ?ba/s]"
      ]
     },
     "metadata": {},
     "output_type": "display_data"
    },
    {
     "data": {
      "application/vnd.jupyter.widget-view+json": {
       "model_id": "f5249a847a9548d6826c476f91958429",
       "version_major": 2,
       "version_minor": 0
      },
      "text/plain": [
       "Map:   0%|          | 0/236 [00:00<?, ? examples/s]"
      ]
     },
     "metadata": {},
     "output_type": "display_data"
    },
    {
     "data": {
      "application/vnd.jupyter.widget-view+json": {
       "model_id": "fd9486964e8f4142ab7e6158d79e726e",
       "version_major": 2,
       "version_minor": 0
      },
      "text/plain": [
       "Creating parquet from Arrow format:   0%|          | 0/3 [00:00<?, ?ba/s]"
      ]
     },
     "metadata": {},
     "output_type": "display_data"
    },
    {
     "data": {
      "application/vnd.jupyter.widget-view+json": {
       "model_id": "b648668c973343dfb86e149bd604d2bd",
       "version_major": 2,
       "version_minor": 0
      },
      "text/plain": [
       "Map:   0%|          | 0/236 [00:00<?, ? examples/s]"
      ]
     },
     "metadata": {},
     "output_type": "display_data"
    },
    {
     "data": {
      "application/vnd.jupyter.widget-view+json": {
       "model_id": "9d606c7cda4c46b9bad54b7ab0d5eebd",
       "version_major": 2,
       "version_minor": 0
      },
      "text/plain": [
       "Creating parquet from Arrow format:   0%|          | 0/3 [00:00<?, ?ba/s]"
      ]
     },
     "metadata": {},
     "output_type": "display_data"
    },
    {
     "data": {
      "application/vnd.jupyter.widget-view+json": {
       "model_id": "d7b30d204cdd407d8c01c1f19a388a37",
       "version_major": 2,
       "version_minor": 0
      },
      "text/plain": [
       "Map:   0%|          | 0/236 [00:00<?, ? examples/s]"
      ]
     },
     "metadata": {},
     "output_type": "display_data"
    },
    {
     "data": {
      "application/vnd.jupyter.widget-view+json": {
       "model_id": "f918670aded048f294496fa95099461d",
       "version_major": 2,
       "version_minor": 0
      },
      "text/plain": [
       "Creating parquet from Arrow format:   0%|          | 0/3 [00:00<?, ?ba/s]"
      ]
     },
     "metadata": {},
     "output_type": "display_data"
    },
    {
     "data": {
      "application/vnd.jupyter.widget-view+json": {
       "model_id": "670f63077c9b44f594819b0247e6edbd",
       "version_major": 2,
       "version_minor": 0
      },
      "text/plain": [
       "Map:   0%|          | 0/236 [00:00<?, ? examples/s]"
      ]
     },
     "metadata": {},
     "output_type": "display_data"
    },
    {
     "data": {
      "application/vnd.jupyter.widget-view+json": {
       "model_id": "8d931888d7e843edbb59945130cb37ae",
       "version_major": 2,
       "version_minor": 0
      },
      "text/plain": [
       "Creating parquet from Arrow format:   0%|          | 0/3 [00:00<?, ?ba/s]"
      ]
     },
     "metadata": {},
     "output_type": "display_data"
    },
    {
     "data": {
      "application/vnd.jupyter.widget-view+json": {
       "model_id": "52d28e5bc96b43368e480d8c6d7266c7",
       "version_major": 2,
       "version_minor": 0
      },
      "text/plain": [
       "Map:   0%|          | 0/236 [00:00<?, ? examples/s]"
      ]
     },
     "metadata": {},
     "output_type": "display_data"
    },
    {
     "data": {
      "application/vnd.jupyter.widget-view+json": {
       "model_id": "81c04d6ff0fa4e06a6c7b12d038ab739",
       "version_major": 2,
       "version_minor": 0
      },
      "text/plain": [
       "Creating parquet from Arrow format:   0%|          | 0/3 [00:00<?, ?ba/s]"
      ]
     },
     "metadata": {},
     "output_type": "display_data"
    },
    {
     "data": {
      "application/vnd.jupyter.widget-view+json": {
       "model_id": "5746f90d45614aebb7f14ebbedfb5a96",
       "version_major": 2,
       "version_minor": 0
      },
      "text/plain": [
       "Map:   0%|          | 0/236 [00:00<?, ? examples/s]"
      ]
     },
     "metadata": {},
     "output_type": "display_data"
    },
    {
     "data": {
      "application/vnd.jupyter.widget-view+json": {
       "model_id": "f65037a406ff4f1bbde29cef6e141ab6",
       "version_major": 2,
       "version_minor": 0
      },
      "text/plain": [
       "Creating parquet from Arrow format:   0%|          | 0/3 [00:00<?, ?ba/s]"
      ]
     },
     "metadata": {},
     "output_type": "display_data"
    },
    {
     "data": {
      "application/vnd.jupyter.widget-view+json": {
       "model_id": "ec5605f0279445c0abf822fcb5c8e642",
       "version_major": 2,
       "version_minor": 0
      },
      "text/plain": [
       "Map:   0%|          | 0/236 [00:00<?, ? examples/s]"
      ]
     },
     "metadata": {},
     "output_type": "display_data"
    },
    {
     "data": {
      "application/vnd.jupyter.widget-view+json": {
       "model_id": "c8fa90f135204db29d5f27ae3948501a",
       "version_major": 2,
       "version_minor": 0
      },
      "text/plain": [
       "Creating parquet from Arrow format:   0%|          | 0/3 [00:00<?, ?ba/s]"
      ]
     },
     "metadata": {},
     "output_type": "display_data"
    },
    {
     "data": {
      "application/vnd.jupyter.widget-view+json": {
       "model_id": "c0e3a6634bf64430a73acbbc65b8436d",
       "version_major": 2,
       "version_minor": 0
      },
      "text/plain": [
       "Map:   0%|          | 0/236 [00:00<?, ? examples/s]"
      ]
     },
     "metadata": {},
     "output_type": "display_data"
    },
    {
     "data": {
      "application/vnd.jupyter.widget-view+json": {
       "model_id": "a6a6874ee8be4fb690c72cdd11787eca",
       "version_major": 2,
       "version_minor": 0
      },
      "text/plain": [
       "Creating parquet from Arrow format:   0%|          | 0/3 [00:00<?, ?ba/s]"
      ]
     },
     "metadata": {},
     "output_type": "display_data"
    },
    {
     "data": {
      "application/vnd.jupyter.widget-view+json": {
       "model_id": "ef0f01883855400bb21b3a329e0705b4",
       "version_major": 2,
       "version_minor": 0
      },
      "text/plain": [
       "Map:   0%|          | 0/236 [00:00<?, ? examples/s]"
      ]
     },
     "metadata": {},
     "output_type": "display_data"
    },
    {
     "data": {
      "application/vnd.jupyter.widget-view+json": {
       "model_id": "8c08ccb671504e2685cf7ad44dd3ccdb",
       "version_major": 2,
       "version_minor": 0
      },
      "text/plain": [
       "Creating parquet from Arrow format:   0%|          | 0/3 [00:00<?, ?ba/s]"
      ]
     },
     "metadata": {},
     "output_type": "display_data"
    },
    {
     "data": {
      "application/vnd.jupyter.widget-view+json": {
       "model_id": "60d0105bd32243f182d29c470a716544",
       "version_major": 2,
       "version_minor": 0
      },
      "text/plain": [
       "Map:   0%|          | 0/236 [00:00<?, ? examples/s]"
      ]
     },
     "metadata": {},
     "output_type": "display_data"
    },
    {
     "data": {
      "application/vnd.jupyter.widget-view+json": {
       "model_id": "0044a0193f6f47f0bfe58f774717e9f6",
       "version_major": 2,
       "version_minor": 0
      },
      "text/plain": [
       "Creating parquet from Arrow format:   0%|          | 0/3 [00:00<?, ?ba/s]"
      ]
     },
     "metadata": {},
     "output_type": "display_data"
    },
    {
     "data": {
      "application/vnd.jupyter.widget-view+json": {
       "model_id": "39b5e04d1c434c938746a568f002c9a7",
       "version_major": 2,
       "version_minor": 0
      },
      "text/plain": [
       "Map:   0%|          | 0/236 [00:00<?, ? examples/s]"
      ]
     },
     "metadata": {},
     "output_type": "display_data"
    },
    {
     "data": {
      "application/vnd.jupyter.widget-view+json": {
       "model_id": "d281e574b208426c8c4a13c7ecccb715",
       "version_major": 2,
       "version_minor": 0
      },
      "text/plain": [
       "Creating parquet from Arrow format:   0%|          | 0/3 [00:00<?, ?ba/s]"
      ]
     },
     "metadata": {},
     "output_type": "display_data"
    },
    {
     "data": {
      "application/vnd.jupyter.widget-view+json": {
       "model_id": "f530e4ebaa1c48d1aeb48eeae3db6ef3",
       "version_major": 2,
       "version_minor": 0
      },
      "text/plain": [
       "Map:   0%|          | 0/236 [00:00<?, ? examples/s]"
      ]
     },
     "metadata": {},
     "output_type": "display_data"
    },
    {
     "data": {
      "application/vnd.jupyter.widget-view+json": {
       "model_id": "13f61640f93942c6a608dc3654549c61",
       "version_major": 2,
       "version_minor": 0
      },
      "text/plain": [
       "Creating parquet from Arrow format:   0%|          | 0/3 [00:00<?, ?ba/s]"
      ]
     },
     "metadata": {},
     "output_type": "display_data"
    },
    {
     "data": {
      "application/vnd.jupyter.widget-view+json": {
       "model_id": "cf08858789b2494c94e07ec49e266dfd",
       "version_major": 2,
       "version_minor": 0
      },
      "text/plain": [
       "Map:   0%|          | 0/236 [00:00<?, ? examples/s]"
      ]
     },
     "metadata": {},
     "output_type": "display_data"
    },
    {
     "data": {
      "application/vnd.jupyter.widget-view+json": {
       "model_id": "5c8a3ebc24ad4b21a8d059815a5088b2",
       "version_major": 2,
       "version_minor": 0
      },
      "text/plain": [
       "Creating parquet from Arrow format:   0%|          | 0/3 [00:00<?, ?ba/s]"
      ]
     },
     "metadata": {},
     "output_type": "display_data"
    },
    {
     "data": {
      "application/vnd.jupyter.widget-view+json": {
       "model_id": "2ce9de0f0dd44720bf0d39d7f5b8c112",
       "version_major": 2,
       "version_minor": 0
      },
      "text/plain": [
       "Map:   0%|          | 0/236 [00:00<?, ? examples/s]"
      ]
     },
     "metadata": {},
     "output_type": "display_data"
    },
    {
     "data": {
      "application/vnd.jupyter.widget-view+json": {
       "model_id": "82e2cdf17c45463bae20e2b7abb21ace",
       "version_major": 2,
       "version_minor": 0
      },
      "text/plain": [
       "Creating parquet from Arrow format:   0%|          | 0/3 [00:00<?, ?ba/s]"
      ]
     },
     "metadata": {},
     "output_type": "display_data"
    },
    {
     "data": {
      "application/vnd.jupyter.widget-view+json": {
       "model_id": "dc8fcc228d7b42baa6c8ff1caed53f8c",
       "version_major": 2,
       "version_minor": 0
      },
      "text/plain": [
       "Map:   0%|          | 0/236 [00:00<?, ? examples/s]"
      ]
     },
     "metadata": {},
     "output_type": "display_data"
    },
    {
     "data": {
      "application/vnd.jupyter.widget-view+json": {
       "model_id": "7af19dda32684568a9650e88b8a5bbfa",
       "version_major": 2,
       "version_minor": 0
      },
      "text/plain": [
       "Creating parquet from Arrow format:   0%|          | 0/3 [00:00<?, ?ba/s]"
      ]
     },
     "metadata": {},
     "output_type": "display_data"
    },
    {
     "data": {
      "application/vnd.jupyter.widget-view+json": {
       "model_id": "7deb3e68deef4bdb9d1ca2ce373ffaaf",
       "version_major": 2,
       "version_minor": 0
      },
      "text/plain": [
       "Map:   0%|          | 0/236 [00:00<?, ? examples/s]"
      ]
     },
     "metadata": {},
     "output_type": "display_data"
    },
    {
     "data": {
      "application/vnd.jupyter.widget-view+json": {
       "model_id": "631936f82b664abb84852cc2ab75ba66",
       "version_major": 2,
       "version_minor": 0
      },
      "text/plain": [
       "Creating parquet from Arrow format:   0%|          | 0/3 [00:00<?, ?ba/s]"
      ]
     },
     "metadata": {},
     "output_type": "display_data"
    },
    {
     "data": {
      "application/vnd.jupyter.widget-view+json": {
       "model_id": "c9a99905ed874e4e81f481eb14402e3b",
       "version_major": 2,
       "version_minor": 0
      },
      "text/plain": [
       "Map:   0%|          | 0/236 [00:00<?, ? examples/s]"
      ]
     },
     "metadata": {},
     "output_type": "display_data"
    },
    {
     "data": {
      "application/vnd.jupyter.widget-view+json": {
       "model_id": "18b0be7903d445d488a673d4a1c72a51",
       "version_major": 2,
       "version_minor": 0
      },
      "text/plain": [
       "Creating parquet from Arrow format:   0%|          | 0/3 [00:00<?, ?ba/s]"
      ]
     },
     "metadata": {},
     "output_type": "display_data"
    },
    {
     "data": {
      "application/vnd.jupyter.widget-view+json": {
       "model_id": "55411d01dc95427c979e15a2d9a9defc",
       "version_major": 2,
       "version_minor": 0
      },
      "text/plain": [
       "Map:   0%|          | 0/236 [00:00<?, ? examples/s]"
      ]
     },
     "metadata": {},
     "output_type": "display_data"
    },
    {
     "data": {
      "application/vnd.jupyter.widget-view+json": {
       "model_id": "dc4513d8bd3944b5a717b367b2d30b4c",
       "version_major": 2,
       "version_minor": 0
      },
      "text/plain": [
       "Creating parquet from Arrow format:   0%|          | 0/3 [00:00<?, ?ba/s]"
      ]
     },
     "metadata": {},
     "output_type": "display_data"
    },
    {
     "data": {
      "application/vnd.jupyter.widget-view+json": {
       "model_id": "d2555cd84e0c43f993470f3a10ff5958",
       "version_major": 2,
       "version_minor": 0
      },
      "text/plain": [
       "Map:   0%|          | 0/236 [00:00<?, ? examples/s]"
      ]
     },
     "metadata": {},
     "output_type": "display_data"
    },
    {
     "data": {
      "application/vnd.jupyter.widget-view+json": {
       "model_id": "b3473a36be4f4ef4a2b8b1e63727609b",
       "version_major": 2,
       "version_minor": 0
      },
      "text/plain": [
       "Creating parquet from Arrow format:   0%|          | 0/3 [00:00<?, ?ba/s]"
      ]
     },
     "metadata": {},
     "output_type": "display_data"
    },
    {
     "data": {
      "application/vnd.jupyter.widget-view+json": {
       "model_id": "0c7dfbde17d14d588538033d038c4ce5",
       "version_major": 2,
       "version_minor": 0
      },
      "text/plain": [
       "Map:   0%|          | 0/236 [00:00<?, ? examples/s]"
      ]
     },
     "metadata": {},
     "output_type": "display_data"
    },
    {
     "data": {
      "application/vnd.jupyter.widget-view+json": {
       "model_id": "fbced5b26d7d44748cf1a8e8a0fbd3ee",
       "version_major": 2,
       "version_minor": 0
      },
      "text/plain": [
       "Creating parquet from Arrow format:   0%|          | 0/3 [00:00<?, ?ba/s]"
      ]
     },
     "metadata": {},
     "output_type": "display_data"
    },
    {
     "data": {
      "application/vnd.jupyter.widget-view+json": {
       "model_id": "f4ea8199ff7a4d87964b1206323d71e3",
       "version_major": 2,
       "version_minor": 0
      },
      "text/plain": [
       "Map:   0%|          | 0/236 [00:00<?, ? examples/s]"
      ]
     },
     "metadata": {},
     "output_type": "display_data"
    },
    {
     "data": {
      "application/vnd.jupyter.widget-view+json": {
       "model_id": "61b72d6c4a744455a464d32a6bf0d2a1",
       "version_major": 2,
       "version_minor": 0
      },
      "text/plain": [
       "Creating parquet from Arrow format:   0%|          | 0/3 [00:00<?, ?ba/s]"
      ]
     },
     "metadata": {},
     "output_type": "display_data"
    },
    {
     "data": {
      "application/vnd.jupyter.widget-view+json": {
       "model_id": "6362f7b372d046b0bc8e31006816abe8",
       "version_major": 2,
       "version_minor": 0
      },
      "text/plain": [
       "Map:   0%|          | 0/236 [00:00<?, ? examples/s]"
      ]
     },
     "metadata": {},
     "output_type": "display_data"
    },
    {
     "data": {
      "application/vnd.jupyter.widget-view+json": {
       "model_id": "16be4eac0d0e4d378089e30352e94e64",
       "version_major": 2,
       "version_minor": 0
      },
      "text/plain": [
       "Creating parquet from Arrow format:   0%|          | 0/3 [00:00<?, ?ba/s]"
      ]
     },
     "metadata": {},
     "output_type": "display_data"
    },
    {
     "data": {
      "application/vnd.jupyter.widget-view+json": {
       "model_id": "f38c9b0e921748fe9cf1df7cfd056de7",
       "version_major": 2,
       "version_minor": 0
      },
      "text/plain": [
       "Map:   0%|          | 0/236 [00:00<?, ? examples/s]"
      ]
     },
     "metadata": {},
     "output_type": "display_data"
    },
    {
     "data": {
      "application/vnd.jupyter.widget-view+json": {
       "model_id": "f159b5deafdc491a89c71368f4a42cc6",
       "version_major": 2,
       "version_minor": 0
      },
      "text/plain": [
       "Creating parquet from Arrow format:   0%|          | 0/3 [00:00<?, ?ba/s]"
      ]
     },
     "metadata": {},
     "output_type": "display_data"
    },
    {
     "data": {
      "application/vnd.jupyter.widget-view+json": {
       "model_id": "33914ccbcca744b493d3096337849f88",
       "version_major": 2,
       "version_minor": 0
      },
      "text/plain": [
       "Map:   0%|          | 0/236 [00:00<?, ? examples/s]"
      ]
     },
     "metadata": {},
     "output_type": "display_data"
    },
    {
     "data": {
      "application/vnd.jupyter.widget-view+json": {
       "model_id": "ebf7861771e54a1db7393b30f59084ce",
       "version_major": 2,
       "version_minor": 0
      },
      "text/plain": [
       "Creating parquet from Arrow format:   0%|          | 0/3 [00:00<?, ?ba/s]"
      ]
     },
     "metadata": {},
     "output_type": "display_data"
    },
    {
     "data": {
      "application/vnd.jupyter.widget-view+json": {
       "model_id": "387e0504519743658cfe5bc5f7a7a4fe",
       "version_major": 2,
       "version_minor": 0
      },
      "text/plain": [
       "Map:   0%|          | 0/236 [00:00<?, ? examples/s]"
      ]
     },
     "metadata": {},
     "output_type": "display_data"
    },
    {
     "data": {
      "application/vnd.jupyter.widget-view+json": {
       "model_id": "0e5d05b9fe9349529503c5fb2a388077",
       "version_major": 2,
       "version_minor": 0
      },
      "text/plain": [
       "Creating parquet from Arrow format:   0%|          | 0/3 [00:00<?, ?ba/s]"
      ]
     },
     "metadata": {},
     "output_type": "display_data"
    },
    {
     "data": {
      "application/vnd.jupyter.widget-view+json": {
       "model_id": "038066f33b4f45e7be44b4364203636a",
       "version_major": 2,
       "version_minor": 0
      },
      "text/plain": [
       "Map:   0%|          | 0/236 [00:00<?, ? examples/s]"
      ]
     },
     "metadata": {},
     "output_type": "display_data"
    },
    {
     "data": {
      "application/vnd.jupyter.widget-view+json": {
       "model_id": "8438edb22e8747f6a53d53ee30fe1bf2",
       "version_major": 2,
       "version_minor": 0
      },
      "text/plain": [
       "Creating parquet from Arrow format:   0%|          | 0/3 [00:00<?, ?ba/s]"
      ]
     },
     "metadata": {},
     "output_type": "display_data"
    },
    {
     "data": {
      "application/vnd.jupyter.widget-view+json": {
       "model_id": "e89d9bd79ca9406b8017054d4be17d4d",
       "version_major": 2,
       "version_minor": 0
      },
      "text/plain": [
       "Map:   0%|          | 0/236 [00:00<?, ? examples/s]"
      ]
     },
     "metadata": {},
     "output_type": "display_data"
    },
    {
     "data": {
      "application/vnd.jupyter.widget-view+json": {
       "model_id": "eb11e8f1753f45989a64f6328f6c804a",
       "version_major": 2,
       "version_minor": 0
      },
      "text/plain": [
       "Creating parquet from Arrow format:   0%|          | 0/3 [00:00<?, ?ba/s]"
      ]
     },
     "metadata": {},
     "output_type": "display_data"
    },
    {
     "data": {
      "application/vnd.jupyter.widget-view+json": {
       "model_id": "1d5d192c09ea4e38ade3c4568932ac8b",
       "version_major": 2,
       "version_minor": 0
      },
      "text/plain": [
       "Map:   0%|          | 0/236 [00:00<?, ? examples/s]"
      ]
     },
     "metadata": {},
     "output_type": "display_data"
    },
    {
     "data": {
      "application/vnd.jupyter.widget-view+json": {
       "model_id": "29473da35ed44157ad340eb6b9720b50",
       "version_major": 2,
       "version_minor": 0
      },
      "text/plain": [
       "Creating parquet from Arrow format:   0%|          | 0/3 [00:00<?, ?ba/s]"
      ]
     },
     "metadata": {},
     "output_type": "display_data"
    },
    {
     "data": {
      "application/vnd.jupyter.widget-view+json": {
       "model_id": "ce07e9abece94fd9834405b3d06aa996",
       "version_major": 2,
       "version_minor": 0
      },
      "text/plain": [
       "Map:   0%|          | 0/236 [00:00<?, ? examples/s]"
      ]
     },
     "metadata": {},
     "output_type": "display_data"
    },
    {
     "data": {
      "application/vnd.jupyter.widget-view+json": {
       "model_id": "0f97e8cecdc7417194cf641ebf2046b9",
       "version_major": 2,
       "version_minor": 0
      },
      "text/plain": [
       "Creating parquet from Arrow format:   0%|          | 0/3 [00:00<?, ?ba/s]"
      ]
     },
     "metadata": {},
     "output_type": "display_data"
    },
    {
     "data": {
      "application/vnd.jupyter.widget-view+json": {
       "model_id": "226c70776a564f238d45e1b606ff2365",
       "version_major": 2,
       "version_minor": 0
      },
      "text/plain": [
       "Map:   0%|          | 0/236 [00:00<?, ? examples/s]"
      ]
     },
     "metadata": {},
     "output_type": "display_data"
    },
    {
     "data": {
      "application/vnd.jupyter.widget-view+json": {
       "model_id": "2342fee7c1044c91ae7544782ac6b662",
       "version_major": 2,
       "version_minor": 0
      },
      "text/plain": [
       "Creating parquet from Arrow format:   0%|          | 0/3 [00:00<?, ?ba/s]"
      ]
     },
     "metadata": {},
     "output_type": "display_data"
    },
    {
     "data": {
      "application/vnd.jupyter.widget-view+json": {
       "model_id": "44dd214532704d8eaa3f8e1b6305ec29",
       "version_major": 2,
       "version_minor": 0
      },
      "text/plain": [
       "Map:   0%|          | 0/236 [00:00<?, ? examples/s]"
      ]
     },
     "metadata": {},
     "output_type": "display_data"
    },
    {
     "data": {
      "application/vnd.jupyter.widget-view+json": {
       "model_id": "aca4e4c6c4024c6199133a5083b1d997",
       "version_major": 2,
       "version_minor": 0
      },
      "text/plain": [
       "Creating parquet from Arrow format:   0%|          | 0/3 [00:00<?, ?ba/s]"
      ]
     },
     "metadata": {},
     "output_type": "display_data"
    },
    {
     "data": {
      "application/vnd.jupyter.widget-view+json": {
       "model_id": "bedb77e8a67d4dcf94444290b0cf8f79",
       "version_major": 2,
       "version_minor": 0
      },
      "text/plain": [
       "Map:   0%|          | 0/236 [00:00<?, ? examples/s]"
      ]
     },
     "metadata": {},
     "output_type": "display_data"
    },
    {
     "data": {
      "application/vnd.jupyter.widget-view+json": {
       "model_id": "b30748dbd8be4b15b4d381b8767fd3c5",
       "version_major": 2,
       "version_minor": 0
      },
      "text/plain": [
       "Creating parquet from Arrow format:   0%|          | 0/3 [00:00<?, ?ba/s]"
      ]
     },
     "metadata": {},
     "output_type": "display_data"
    },
    {
     "data": {
      "application/vnd.jupyter.widget-view+json": {
       "model_id": "0a8013a064674b48a57e31d1e0669638",
       "version_major": 2,
       "version_minor": 0
      },
      "text/plain": [
       "Map:   0%|          | 0/236 [00:00<?, ? examples/s]"
      ]
     },
     "metadata": {},
     "output_type": "display_data"
    },
    {
     "data": {
      "application/vnd.jupyter.widget-view+json": {
       "model_id": "f397bb107a5c41758617dbacad55ae84",
       "version_major": 2,
       "version_minor": 0
      },
      "text/plain": [
       "Creating parquet from Arrow format:   0%|          | 0/3 [00:00<?, ?ba/s]"
      ]
     },
     "metadata": {},
     "output_type": "display_data"
    },
    {
     "data": {
      "application/vnd.jupyter.widget-view+json": {
       "model_id": "5d6c369dbf8741e68f2aacb5f847cab3",
       "version_major": 2,
       "version_minor": 0
      },
      "text/plain": [
       "README.md:   0%|          | 0.00/535 [00:00<?, ?B/s]"
      ]
     },
     "metadata": {},
     "output_type": "display_data"
    },
    {
     "name": "stdout",
     "output_type": "stream",
     "text": [
      "✅ Dataset successfully pushed to: https://huggingface.co/datasets/ob11/ai2d-prm-training-data-v0.4-pil\n",
      "🎉 Images are now stored as PIL.Image objects, not byte arrays!\n"
     ]
    }
   ],
   "source": [
    "# Verify the image types and push to HuggingFace\n",
    "import os\n",
    "# Push to HuggingFace\n",
    "username = \"ob11\"\n",
    "dataset_name = \"ai2d-prm-training-data-v0.4-pil\"\n",
    "full_dataset_name = f\"{username}/{dataset_name}\"\n",
    "\n",
    "print(f\"\\n🚀 Pushing to HuggingFace: {full_dataset_name}\")\n",
    "\n",
    "try:\n",
    "    dataset.push_to_hub(\n",
    "        full_dataset_name,\n",
    "        private=False,  # Set to True if you want it private\n",
    "        token=os.getenv(\"HF_TOKEN\")  # Make sure your HF_TOKEN is set\n",
    "    )\n",
    "    print(f\"✅ Dataset successfully pushed to: https://huggingface.co/datasets/{full_dataset_name}\")\n",
    "    print(f\"🎉 Images are now stored as PIL.Image objects, not byte arrays!\")\n",
    "except Exception as e:\n",
    "    print(f\"❌ Error pushing to HuggingFace: {e}\")\n",
    "    print(\"Make sure your HF_TOKEN environment variable is set\")\n"
   ]
  },
  {
   "cell_type": "code",
   "execution_count": null,
   "id": "b9576d19",
   "metadata": {},
   "outputs": [],
   "source": []
  }
 ],
 "metadata": {
  "kernelspec": {
   "display_name": "mmr_processing",
   "language": "python",
   "name": "python3"
  },
  "language_info": {
   "codemirror_mode": {
    "name": "ipython",
    "version": 3
   },
   "file_extension": ".py",
   "mimetype": "text/x-python",
   "name": "python",
   "nbconvert_exporter": "python",
   "pygments_lexer": "ipython3",
   "version": "3.12.9"
  }
 },
 "nbformat": 4,
 "nbformat_minor": 5
}

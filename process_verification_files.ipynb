{
 "cells": [
  {
   "cell_type": "code",
   "execution_count": 7,
   "id": "bab401ae",
   "metadata": {},
   "outputs": [],
   "source": [
    "import json\n",
    "import os\n",
    "from pathlib import Path\n",
    "\n",
    "# Define paths\n",
    "batch_query_jsonl_file = \"/mnt/fast10/brandon/mmr_rollout_data/raw_rollouts/soft_estimation/AI2D/verification/verification_pipeline_outputs/o4-mini/AI2D/verification_batches/batch_0001.jsonl\"\n",
    "batch_verification_result_json_file = \"/mnt/fast10/brandon/mmr_rollout_data/raw_rollouts/soft_estimation/AI2D/verification/verification_pipeline_outputs/o4-mini/AI2D/batch_0001_verification_results.json\"\n",
    "output_dir = \"/mnt/fast10/brandon/mmr_rollout_data/merged_verification_files\"\n",
    "\n",
    "# Extract dataset name from path\n",
    "dataset_name = batch_query_jsonl_file.split('/')[-3]  # Gets \"AI2D\" from batch_0001.jsonl\n",
    "\n",
    "# print(dataset_name)\n",
    "# # Create output directory\n",
    "Path(output_dir).mkdir(parents=True, exist_ok=True)\n",
    "\n",
    "# # Load JSONL file into dict\n",
    "batch_query_data = {}\n",
    "with open(batch_query_jsonl_file, 'r') as f:\n",
    "    for line in f:\n",
    "        item = json.loads(line)\n",
    "        batch_query_data[item['custom_id']] = item\n",
    "\n",
    "# print(len(batch_query_data.keys()))"
   ]
  },
  {
   "cell_type": "code",
   "execution_count": null,
   "id": "3ac65df3",
   "metadata": {},
   "outputs": [
    {
     "name": "stdout",
     "output_type": "stream",
     "text": [
      "All custom_ids and custom_ids match\n",
      "Merged 746 items to /mnt/fast10/brandon/mmr_rollout_data/merged_verification_files/AI2D_verification_merged.jsonl\n"
     ]
    }
   ],
   "source": [
    "# # Load JSON file\n",
    "with open(batch_verification_result_json_file, 'r') as f:\n",
    "    batch_verification_data = json.load(f)\n",
    "\n",
    "# Check all custom_ids and custom_ids match\n",
    "json_ids = {item['custom_id'] for item in batch_verification_data}\n",
    "jsonl_ids = set(batch_query_data.keys())\n",
    "\n",
    "if jsonl_ids != json_ids:\n",
    "    missing_in_json = jsonl_ids - json_ids\n",
    "    missing_in_jsonl = json_ids - jsonl_ids\n",
    "    if missing_in_json:\n",
    "        print(f\"custom_ids in JSONL not found in JSON: {missing_in_json}\")\n",
    "    if missing_in_jsonl:\n",
    "        print(f\"custom_ids in JSON not found in JSONL: {missing_in_jsonl}\")\n",
    "else:\n",
    "    print(f\"All custom_ids and custom_ids match\")\n",
    "\n",
    "# Merge and save\n",
    "output_path = os.path.join(output_dir, f\"{dataset_name}_verification_merged.jsonl\")\n",
    "with open(output_path, 'w') as f:\n",
    "    for item in batch_verification_data:\n",
    "        merged = {**batch_query_data[item['custom_id']], **item}\n",
    "        f.write(json.dumps(merged) + '\\n')\n",
    "\n",
    "print(f\"Merged {len(batch_verification_data)} items to {output_path}\")"
   ]
  },
  {
   "cell_type": "code",
   "execution_count": null,
   "id": "8496ac90",
   "metadata": {},
   "outputs": [],
   "source": [
    "# Print first line of merged file\n",
    "with open(output_path, 'r') as f:\n",
    "    first_line = f.readline().strip()\n",
    "    if first_line:\n",
    "        first_item = json.loads(first_line)\n",
    "        print(\"First line of merged file:\")\n",
    "        print(json.dumps(first_item, indent=2))\n",
    "    else:\n",
    "        print(\"File is empty\")"
   ]
  },
  {
   "cell_type": "markdown",
   "id": "a9c46e89",
   "metadata": {},
   "source": [
    "# Now extract the Solution as the unique key to match with rollouts"
   ]
  },
  {
   "cell_type": "code",
   "execution_count": 11,
   "id": "1568ee71",
   "metadata": {},
   "outputs": [
    {
     "name": "stdout",
     "output_type": "stream",
     "text": [
      "Extracted 746 valid solutions\n"
     ]
    }
   ],
   "source": [
    "import re\n",
    "\n",
    "merged_verification_file = \"/mnt/fast10/brandon/mmr_rollout_data/merged_verification_files/AI2D_verification_merged.jsonl\"\n",
    "# Extract solutions from merged file\n",
    "solutions = []\n",
    "solution_pattern = re.compile(r'<solution>(.*?)</solution>', re.DOTALL)\n",
    "\n",
    "with open(output_path, 'r') as f:\n",
    "    for line_num, line in enumerate(f, 1):\n",
    "        item = json.loads(line)\n",
    "        try:\n",
    "            text = item[\"body\"][\"messages\"][0][\"content\"][0][\"text\"]\n",
    "            match = solution_pattern.search(text)\n",
    "            if match:\n",
    "                solution_text = match.group(1).strip()\n",
    "                if solution_text:  # Only add non-empty solutions\n",
    "                    solutions.append({\n",
    "                        \"custom_id\": item.get(\"custom_id\", \"ERROR: custom_id not found\"),\n",
    "                        \"unique_key\": solution_text\n",
    "                    })\n",
    "            else:\n",
    "                print(f\"Warning: No <solution> tags found in line {line_num}\")\n",
    "        except (KeyError, IndexError, TypeError) as e:\n",
    "            print(f\"Error accessing text in line {line_num}: {e}\")\n",
    "\n",
    "print(f\"Extracted {len(solutions)} valid solutions\")"
   ]
  },
  {
   "cell_type": "code",
   "execution_count": null,
   "id": "564110ba",
   "metadata": {},
   "outputs": [
    {
     "name": "stdout",
     "output_type": "stream",
     "text": [
      "Loaded 25557 items from flattened file\n"
     ]
    }
   ],
   "source": [
    "# Load flattened file once into memory\n",
    "full_raw_rollout_data_file = \"/mnt/fast10/brandon/mmr_rollout_data/flattened_rollout_files/AI2D_flattened.jsonl\"\n",
    "full_raw_rollout_data_array = []\n",
    "\n",
    "with open(full_raw_rollout_data_file, 'r') as f:\n",
    "    for line in f:\n",
    "        item = json.loads(line)\n",
    "        full_raw_rollout_data_array.append({\n",
    "            \"response\": item.get(\"response\", \"\"),\n",
    "            \"uid\": item.get(\"uid\")\n",
    "        })\n",
    "\n",
    "print(f\"Loaded {len(full_raw_rollout_data_array)} items from flattened file\")"
   ]
  },
  {
   "cell_type": "code",
   "execution_count": null,
   "id": "1dbd5987",
   "metadata": {},
   "outputs": [],
   "source": [
    "collision_errors = []\n",
    "\n",
    "for sol in solutions:\n",
    "    unique_key = sol[\"unique_key\"]\n",
    "    \n",
    "    # Find all matches\n",
    "    matches = [item for item in full_raw_rollout_data_array if item[\"response\"] == unique_key]\n",
    "    \n",
    "    if len(matches) > 1:\n",
    "        collision_errors.append({\n",
    "            \"unique_key\": unique_key,\n",
    "            \"verification_uid\": sol[\"uid\"],\n",
    "            \"matches\": matches\n",
    "        })\n",
    "    elif len(matches) == 0:\n",
    "        print(f\"No match found for UID: {sol['uid']}\")\n",
    "\n",
    "# Report collision errors\n",
    "if collision_errors:\n",
    "    print(f\"\\n🚨 COLLISION ERRORS FOUND: {len(collision_errors)} unique_keys have multiple matches!\")\n",
    "    for error in collision_errors:\n",
    "        print(f\"\\nCollision for verification UID: {error['verification_uid']}\")\n",
    "        print(f\"Unique_key: {error['unique_key'][:100]}...\")\n",
    "        print(f\"Found {len(error['matches'])} matches:\")\n",
    "        for match in error['matches']:\n",
    "            print(f\"  - uid: {match['uid']}, response: {match['response'][:50]}...\")\n",
    "    \n",
    "    raise ValueError(f\"{len(collision_errors)} collision errors found. See details above.\")\n",
    "else:\n",
    "    print(f\"\\n✅ No collisions found! All {len(solutions)} solutions have at most one match.\")"
   ]
  }
 ],
 "metadata": {
  "kernelspec": {
   "display_name": "mmr_processing",
   "language": "python",
   "name": "python3"
  },
  "language_info": {
   "codemirror_mode": {
    "name": "ipython",
    "version": 3
   },
   "file_extension": ".py",
   "mimetype": "text/x-python",
   "name": "python",
   "nbconvert_exporter": "python",
   "pygments_lexer": "ipython3",
   "version": "3.12.9"
  }
 },
 "nbformat": 4,
 "nbformat_minor": 5
}

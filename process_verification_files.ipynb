{
 "cells": [
  {
   "cell_type": "markdown",
   "id": "01174727",
   "metadata": {},
   "source": [
    "# Merge Verification Query batches with Verification Results"
   ]
  },
  {
   "cell_type": "code",
   "execution_count": 1,
   "id": "bab401ae",
   "metadata": {},
   "outputs": [],
   "source": [
    "import json\n",
    "import os\n",
    "from pathlib import Path\n",
    "\n",
    "# Define paths\n",
    "batch_query_jsonl_file = \"/mnt/fast10/brandon/mmr_rollout_data/raw_rollouts/soft_estimation/AI2D/verification/verification_pipeline_outputs/o4-mini/AI2D/verification_batches/batch_0001.jsonl\"\n",
    "batch_verification_result_json_file = \"/mnt/fast10/brandon/mmr_rollout_data/raw_rollouts/soft_estimation/AI2D/verification/verification_pipeline_outputs/o4-mini/AI2D/batch_0001_verification_results.json\"\n",
    "output_dir = \"/mnt/fast10/brandon/mmr_rollout_data/merged_verification_files\"\n",
    "\n",
    "# Extract dataset name from path\n",
    "dataset_name = batch_query_jsonl_file.split('/')[-3]  # Gets \"AI2D\" from batch_0001.jsonl\n",
    "\n",
    "# print(dataset_name)\n",
    "# # Create output directory\n",
    "Path(output_dir).mkdir(parents=True, exist_ok=True)\n",
    "\n",
    "# # Load JSONL file into dict\n",
    "batch_query_data = {}\n",
    "with open(batch_query_jsonl_file, 'r') as f:\n",
    "    for line in f:\n",
    "        item = json.loads(line)\n",
    "        batch_query_data[item['custom_id']] = item\n",
    "\n",
    "# print(len(batch_query_data.keys()))"
   ]
  },
  {
   "cell_type": "code",
   "execution_count": 2,
   "id": "3ac65df3",
   "metadata": {},
   "outputs": [
    {
     "name": "stdout",
     "output_type": "stream",
     "text": [
      "All custom_ids and custom_ids match\n",
      "Merged 746 items to /mnt/fast10/brandon/mmr_rollout_data/merged_verification_files/AI2D_verification_merged.jsonl\n"
     ]
    }
   ],
   "source": [
    "# # Load JSON file\n",
    "with open(batch_verification_result_json_file, 'r') as f:\n",
    "    batch_verification_data = json.load(f)\n",
    "\n",
    "# Check all custom_ids and custom_ids match\n",
    "json_ids = {item['custom_id'] for item in batch_verification_data}\n",
    "jsonl_ids = set(batch_query_data.keys())\n",
    "\n",
    "if jsonl_ids != json_ids:\n",
    "    missing_in_json = jsonl_ids - json_ids\n",
    "    missing_in_jsonl = json_ids - jsonl_ids\n",
    "    if missing_in_json:\n",
    "        print(f\"custom_ids in JSONL not found in JSON: {missing_in_json}\")\n",
    "    if missing_in_jsonl:\n",
    "        print(f\"custom_ids in JSON not found in JSONL: {missing_in_jsonl}\")\n",
    "else:\n",
    "    print(f\"All custom_ids and custom_ids match\")\n",
    "\n",
    "# Merge and save\n",
    "output_path = os.path.join(output_dir, f\"{dataset_name}_verification_merged.jsonl\")\n",
    "with open(output_path, 'w') as f:\n",
    "    for item in batch_verification_data:\n",
    "        merged = {**batch_query_data[item['custom_id']], **item}\n",
    "        f.write(json.dumps(merged) + '\\n')\n",
    "\n",
    "print(f\"Merged {len(batch_verification_data)} items to {output_path}\")"
   ]
  },
  {
   "cell_type": "code",
   "execution_count": 13,
   "id": "8496ac90",
   "metadata": {},
   "outputs": [
    {
     "name": "stdout",
     "output_type": "stream",
     "text": [
      "Keys in first item:\n",
      "['custom_id', 'method', 'url', 'body', 'verification_response']\n"
     ]
    }
   ],
   "source": [
    "# Print first line of merged file\n",
    "with open(output_path, 'r') as f:\n",
    "    first_line = f.readline().strip()\n",
    "    if first_line:\n",
    "        first_item = json.loads(first_line)\n",
    "        print(\"Keys in first item:\")\n",
    "        print(list(first_item.keys()))\n",
    "    else:\n",
    "        print(\"File is empty\")"
   ]
  },
  {
   "cell_type": "code",
   "execution_count": 14,
   "id": "1c374aad",
   "metadata": {},
   "outputs": [
    {
     "name": "stdout",
     "output_type": "stream",
     "text": [
      "Processing complete:\n",
      "  Correct: 557\n",
      "  Incorrect: 189\n",
      "  Invalid: 0\n",
      "  Total: 746\n",
      "Saved processed data to: /mnt/fast10/brandon/mmr_rollout_data/merged_verification_files/AI2D_verification_processed_o4-mini.jsonl\n"
     ]
    }
   ],
   "source": [
    "import re\n",
    "\n",
    "# Set your model name\n",
    "model_name = \"o4-mini\"  # Change this as needed\n",
    "\n",
    "# Load the merged verification file\n",
    "merged_verification_file = \"/mnt/fast10/brandon/mmr_rollout_data/merged_verification_files/AI2D_verification_merged.jsonl\"\n",
    "\n",
    "# Pattern to extract text between <conclusion> tags\n",
    "conclusion_pattern = re.compile(r'<conclusion>(.*?)</conclusion>', re.DOTALL)\n",
    "\n",
    "# Process each row\n",
    "processed_data = []\n",
    "correct_count = 0\n",
    "incorrect_count = 0\n",
    "invalid_count = 0\n",
    "\n",
    "with open(merged_verification_file, 'r') as f:\n",
    "    for line_num, line in enumerate(f, 1):\n",
    "        item = json.loads(line)\n",
    "        \n",
    "        # Extract conclusion text\n",
    "        verification_response = item.get(\"verification_response\", \"\")\n",
    "        conclusion_match = conclusion_pattern.search(verification_response)\n",
    "        \n",
    "        if conclusion_match:\n",
    "            conclusion_text = conclusion_match.group(1).strip()\n",
    "            \n",
    "            # Verify it's either \"Correct\" or \"Incorrect\"\n",
    "            if conclusion_text == \"Correct\":\n",
    "                item[f\"{model_name}_isVerified\"] = True\n",
    "                correct_count += 1\n",
    "            elif conclusion_text == \"Incorrect\":\n",
    "                item[f\"{model_name}_isVerified\"] = False\n",
    "                incorrect_count += 1\n",
    "            else:\n",
    "                print(f\"Warning: Invalid conclusion text on line {line_num}: '{conclusion_text}'\")\n",
    "                invalid_count += 1\n",
    "                item[f\"{model_name}_isVerified\"] = None\n",
    "        else:\n",
    "            print(f\"Warning: No <conclusion> tags found on line {line_num}\")\n",
    "            invalid_count += 1\n",
    "            item[f\"{model_name}_isVerified\"] = None\n",
    "        \n",
    "        processed_data.append(item)\n",
    "\n",
    "print(f\"Processing complete:\")\n",
    "print(f\"  Correct: {correct_count}\")\n",
    "print(f\"  Incorrect: {incorrect_count}\")\n",
    "print(f\"  Invalid: {invalid_count}\")\n",
    "print(f\"  Total: {len(processed_data)}\")\n",
    "\n",
    "# Save the processed data back to a new file\n",
    "output_file = f\"/mnt/fast10/brandon/mmr_rollout_data/merged_verification_files/AI2D_verification_processed_{model_name}.jsonl\"\n",
    "with open(output_file, 'w') as f:\n",
    "    for item in processed_data:\n",
    "        f.write(json.dumps(item) + '\\n')\n",
    "\n",
    "print(f\"Saved processed data to: {output_file}\")"
   ]
  },
  {
   "cell_type": "code",
   "execution_count": 16,
   "id": "7351cccf",
   "metadata": {},
   "outputs": [
    {
     "name": "stdout",
     "output_type": "stream",
     "text": [
      "Keys in first item:\n",
      "['custom_id', 'method', 'url', 'body', 'verification_response', 'o4-mini_isVerified']\n"
     ]
    }
   ],
   "source": [
    "# Print first line of merged file\n",
    "with open(output_file, 'r') as f:\n",
    "    first_line = f.readline().strip()\n",
    "    if first_line:\n",
    "        first_item = json.loads(first_line)\n",
    "        print(\"Keys in first item:\")\n",
    "        print(list(first_item.keys()))\n",
    "    else:\n",
    "        print(\"File is empty\")"
   ]
  },
  {
   "cell_type": "markdown",
   "id": "a9c46e89",
   "metadata": {},
   "source": [
    "# Now extract the Solution as the unique key to match with rollouts"
   ]
  },
  {
   "cell_type": "code",
   "execution_count": 4,
   "id": "1568ee71",
   "metadata": {},
   "outputs": [
    {
     "name": "stdout",
     "output_type": "stream",
     "text": [
      "Extracted 746 valid solutions\n"
     ]
    }
   ],
   "source": [
    "import re\n",
    "\n",
    "merged_verification_file = \"/mnt/fast10/brandon/mmr_rollout_data/merged_verification_files/AI2D_verification_merged.jsonl\"\n",
    "# Extract solutions from merged file\n",
    "solutions = []\n",
    "solution_pattern = re.compile(r'<solution>(.*?)</solution>', re.DOTALL)\n",
    "\n",
    "with open(output_path, 'r') as f:\n",
    "    for line_num, line in enumerate(f, 1):\n",
    "        item = json.loads(line)\n",
    "        try:\n",
    "            text = item[\"body\"][\"messages\"][0][\"content\"][0][\"text\"]\n",
    "            # Find all matches and get the second one\n",
    "            matches = solution_pattern.findall(text)\n",
    "            if len(matches) >= 2:\n",
    "                solution_text = matches[1].strip()  # Get second occurrence\n",
    "                if solution_text:  # Only add non-empty solutions\n",
    "                    solutions.append({\n",
    "                        \"custom_id\": item.get(\"custom_id\", \"ERROR: custom_id not found\"),\n",
    "                        \"unique_key\": solution_text\n",
    "                    })\n",
    "            elif len(matches) == 1:\n",
    "                print(f\"Warning: Only one <solution> tag found in line {line_num}\")\n",
    "            else:\n",
    "                print(f\"Warning: No <solution> tags found in line {line_num}\")\n",
    "        except (KeyError, IndexError, TypeError) as e:\n",
    "            print(f\"Error accessing text in line {line_num}: {e}\")\n",
    "\n",
    "print(f\"Extracted {len(solutions)} valid solutions\")"
   ]
  },
  {
   "cell_type": "code",
   "execution_count": 5,
   "id": "564110ba",
   "metadata": {},
   "outputs": [
    {
     "name": "stdout",
     "output_type": "stream",
     "text": [
      "Loaded 25557 items from flattened file\n"
     ]
    }
   ],
   "source": [
    "# Load flattened file once into memory\n",
    "full_raw_rollout_data_file = \"/mnt/fast10/brandon/mmr_rollout_data/flattened_rollout_files/AI2D_flattened.jsonl\"\n",
    "full_raw_rollout_data_array = []\n",
    "\n",
    "with open(full_raw_rollout_data_file, 'r') as f:\n",
    "    for line in f:\n",
    "        item = json.loads(line)\n",
    "        full_raw_rollout_data_array.append({\n",
    "            \"response\": item.get(\"response\", \"\"),\n",
    "            \"uid\": item.get(\"uid\")\n",
    "        })\n",
    "\n",
    "print(f\"Loaded {len(full_raw_rollout_data_array)} items from flattened file\")"
   ]
  },
  {
   "cell_type": "code",
   "execution_count": 6,
   "id": "0b7834c0",
   "metadata": {},
   "outputs": [
    {
     "data": {
      "text/plain": [
       "{'response': '[Visual Elements]\\n<step_1>\\nIdentify all organisms in the food web: short-eared owl, vole, meadow pippit, emperor moth larvae, red grouse, heather, fox, brown hare, red kite or hen harrier.\\n</step_1>\\n<step_2>\\nNote the arrows indicating feeding relationships: arrows point from food to consumer.\\n</step_2>\\n<step_3>\\nObserve that the fox eats: red grouse, brown hare, and vole (arrows pointing from each of these to fox).\\n</step_3>\\n<step_4>\\nDetermine what eats fox: no arrows point to fox, indicating it is a top predator.\\n</step_4>\\n<step_5>\\nDetermine what else eats red grouse: Arrow from red grouse to fox, and red kite or hen harrier. So red grouse is eaten by fox and red kite/hen harrier.\\n</step_5>\\n<step_6>\\nDetermine who eats meadow pippit: Arrow from meadow pippit to fox only.\\n</step_6>\\n<step_7>\\nNote which options are present: more grouse, more pippit, less grouse, less owl.\\n</step_7>\\n\\n[Reasoning]\\n<step_1>\\nThe question asks what would happen if the fox population decreased. Fox is a predator of red grouse and meadow pippit, among others.\\n</step_1>\\n<step_2>\\nIf the fox population decreases, there will be less predation pressure on its prey, particularly red grouse and meadow pippit.\\n</step_2>\\n<step_3>\\nWith fewer foxes, more red grouse and meadow pippit are likely to survive (their populations would potentially increase).\\n</step_3>\\n<step_4>\\nFrom the answer choices, \"more grouse\" and \"more pippit\" both could apply, but typically food webs consider primary prey affected, and grouse is more directly linked as a primary food for fox.\\n</step_4>\\n<step_5>\\nTherefore, the best answer from the available options is \"more grouse\".\\n</step_5>\\n\\n<correct_answer>\\n$\\\\boxed{more\\\\ grouse}$\\n</correct_answer>',\n",
       " 'uid': 'b6c24365-7b04-4a00-96fb-4ed28c9fcdfc'}"
      ]
     },
     "execution_count": 6,
     "metadata": {},
     "output_type": "execute_result"
    }
   ],
   "source": [
    "full_raw_rollout_data_array[0]"
   ]
  },
  {
   "cell_type": "code",
   "execution_count": 7,
   "id": "2430bbc8",
   "metadata": {},
   "outputs": [
    {
     "name": "stdout",
     "output_type": "stream",
     "text": [
      "{'custom_id': 'd8086fbb-f598-450c-8e53-15074142e4ab', 'unique_key': '[Visual Elements]\\n<step_1>\\nThe image shows four different flies, each labeled with a blue box. The labels are A, B, C, and D, positioned above each respective fly.\\n</step_1>\\n<step_2>\\nFly A is on the far left. Its body is robust and the wings are broad. The thorax and abdomen are relatively compact compared to other examples.\\n</step_2>\\n<step_3>\\nFly B is second from the right, smaller and slender compared to A.\\n</step_3>\\n<step_4>\\nFly C appears to have the largest and most robust body, with a pronounced head and broader thorax.\\n</step_4>\\n<step_5>\\nFly D is second from the left, slightly larger than A but not as large as C.\\n</step_5>\\n<step_6>\\nNo direct text is visible associating each fly with its species in the image; identification must be based on morphology.\\n</step_6>\\n\\n[Reasoning]\\n<step_1>\\nThe question asks to identify the type of fly depicted at letter A, with the options: Stable, Horn, Face, House.\\n</step_1>\\n<step_2>\\nThe house fly (Musca domestica) typically has a compact, grayish body and is frequently depicted in standard scientific diagrams.\\n</step_2>\\n<step_3>\\nThe face fly tends to be slightly smaller and more slender, while the stable fly has a similar size to the house fly but with a more pointed proboscis or distinctive mouthpart region. The horn fly is much smaller, and also has a more compact form.\\n</step_3>\\n<step_4>\\nConsidering fly A’s morphology: its size, body robustness, wing shape, and general appearance match the commonly depicted house fly in scientific illustrations.\\n</step_4>\\n<step_5>\\nBased on standard arrangement in entomological diagrams, house flies are typically placed leftmost when four common pest flies are illustrated, followed by stable, horn, and face or vice versa.\\n</step_5>\\n<step_6>\\nComparing the options and visual features, fly A most closely matches the house fly, not the stable, horn, or face fly.\\n</step_6>\\n\\n<correct_answer>\\n$\\\\boxed{House}$\\n</correct_answer>'}\n"
     ]
    }
   ],
   "source": [
    "print(solutions[0])"
   ]
  },
  {
   "cell_type": "code",
   "execution_count": 12,
   "id": "1dbd5987",
   "metadata": {},
   "outputs": [
    {
     "name": "stdout",
     "output_type": "stream",
     "text": [
      "\n",
      "✅ No collisions found! All 746 solutions have at most one match.\n",
      "\n",
      "✅ No no matches found! All 746 solutions have at least one match.\n"
     ]
    }
   ],
   "source": [
    "collision_errors = []\n",
    "no_matches_array = []\n",
    "for sol in solutions:\n",
    "    unique_key = sol[\"unique_key\"]\n",
    "    \n",
    "    # Find all matches\n",
    "    matches = [item for item in full_raw_rollout_data_array if item[\"response\"].strip() == unique_key]\n",
    "    \n",
    "    if len(matches) > 1:\n",
    "        collision_errors.append({\n",
    "            \"solution_unique_key\": unique_key,\n",
    "            \"solution_custom_id\": sol[\"custom_id\"],\n",
    "            \"matches\": matches\n",
    "        })\n",
    "    elif len(matches) == 0:\n",
    "        no_matches_array.append({\n",
    "            \"solution_unique_key\": unique_key,\n",
    "            \"solution_custom_id\": sol[\"custom_id\"],\n",
    "        })\n",
    "\n",
    "# Report collision errors\n",
    "if collision_errors:\n",
    "    print(f\"\\n🚨 COLLISION ERRORS FOUND: {len(collision_errors)} unique_keys have multiple matches!\")\n",
    "    for error in collision_errors:\n",
    "        print(f\"\\nCollision for rollout_uid: {error['rollout_uid']}\")\n",
    "        print(f\"solution_unique_key: {error['solution_unique_key'][:100]}...\")\n",
    "        print(f\"Found {len(error['matches'])} matches:\")\n",
    "        for match in error['matches']:\n",
    "            print(f\"  - uid: {match['uid']}, response: {match['response'][:50]}...\")\n",
    "    \n",
    "    raise ValueError(f\"{len(collision_errors)} collision errors found. See details above.\")\n",
    "else:\n",
    "    print(f\"\\n✅ No collisions found! All {len(solutions)} solutions have at most one match.\")\n",
    "\n",
    "if no_matches_array:\n",
    "    print(f\"\\n🚨 NO MATCHES FOUND: {len(no_matches_array)} unique_keys have no matches!\")\n",
    "    for error in no_matches_array:\n",
    "        print(f\"\\nNo match found for solution_custom_id: {error['solution_custom_id']}\")\n",
    "        print(f\"solution_unique_key: {error['solution_unique_key'][:100]}...\")\n",
    "    \n",
    "    raise ValueError(f\"{len(no_matches_array)} no matches found. See details above.\")\n",
    "else:\n",
    "    print(f\"\\n✅ No no matches found! All {len(solutions)} solutions have at least one match.\")"
   ]
  },
  {
   "cell_type": "code",
   "execution_count": null,
   "id": "216f3930",
   "metadata": {},
   "outputs": [],
   "source": []
  }
 ],
 "metadata": {
  "kernelspec": {
   "display_name": "mmr_processing",
   "language": "python",
   "name": "python3"
  },
  "language_info": {
   "codemirror_mode": {
    "name": "ipython",
    "version": 3
   },
   "file_extension": ".py",
   "mimetype": "text/x-python",
   "name": "python",
   "nbconvert_exporter": "python",
   "pygments_lexer": "ipython3",
   "version": "3.12.9"
  }
 },
 "nbformat": 4,
 "nbformat_minor": 5
}

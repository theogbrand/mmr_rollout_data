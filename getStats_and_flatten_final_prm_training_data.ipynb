{
 "cells": [
  {
   "cell_type": "code",
   "execution_count": 2,
   "id": "9ace7f92",
   "metadata": {},
   "outputs": [
    {
     "name": "stdout",
     "output_type": "stream",
     "text": [
      "['prompt_uid', 'rollout_question', 'rollout_response', 'rollout_ground_truth_answer', 'rollout_steps_with_score', 'rollout_image_path', 'rollout_uuid', 'o4_mini_verification_custom_id', 'o4_mini_verification_solution', 'o4_mini_isVerified', 'gpt_4.1_mini_verification_custom_id', 'gpt_4.1_mini_verification_solution', 'gpt_4.1_mini_isVerified', 'gpt_4.1_nano_verification_custom_id', 'gpt_4.1_nano_verification_solution', 'gpt_4.1_nano_isVerified']\n"
     ]
    }
   ],
   "source": [
    "# load all JSONL files in the directory\n",
    "import os\n",
    "import json\n",
    "\n",
    "dir_path = \"/mnt/fast10/brandon/mmr_rollout_data/final_combined_MC_and_verification_files_updated_rollouts\"\n",
    "\n",
    "first_jsonl = next((f for f in os.listdir(dir_path) if f.endswith(\".jsonl\")), None)\n",
    "if first_jsonl:\n",
    "    with open(os.path.join(dir_path, first_jsonl), \"r\") as f:\n",
    "        first_line = f.readline()\n",
    "        if first_line:\n",
    "            columns = list(json.loads(first_line).keys())\n",
    "        else:\n",
    "            columns = []\n",
    "else:\n",
    "    columns = []\n",
    "\n",
    "print(columns)"
   ]
  },
  {
   "cell_type": "code",
   "execution_count": null,
   "id": "701e5d03",
   "metadata": {},
   "outputs": [],
   "source": [
    "for file in os.listdir(dir_path):\n",
    "    if file.endswith(\".jsonl\"):\n",
    "        with open(os.path.join(dir_path, file), \"r\") as f:\n",
    "            for line in f:\n",
    "                item = json.loads(line)"
   ]
  }
 ],
 "metadata": {
  "kernelspec": {
   "display_name": "mmr_processing",
   "language": "python",
   "name": "python3"
  },
  "language_info": {
   "codemirror_mode": {
    "name": "ipython",
    "version": 3
   },
   "file_extension": ".py",
   "mimetype": "text/x-python",
   "name": "python",
   "nbconvert_exporter": "python",
   "pygments_lexer": "ipython3",
   "version": "3.12.9"
  }
 },
 "nbformat": 4,
 "nbformat_minor": 5
}

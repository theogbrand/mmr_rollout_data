{
 "cells": [
  {
   "cell_type": "code",
   "execution_count": 12,
   "id": "34d21fa9",
   "metadata": {},
   "outputs": [
    {
     "name": "stdout",
     "output_type": "stream",
     "text": [
      "updating o4_mini_isVerified for target uuid 8f767ba9-906c-45fb-9a18-1ca1b7758643, from False to None\n",
      "\n",
      "\n",
      "dataframe value of o4_mini_isVerified for target uuid 8f767ba9-906c-45fb-9a18-1ca1b7758643 is now updated to:\n",
      "-------------START-------------------\n",
      "None\n",
      "---------------END-----------------\n",
      "-------------START-------------------\n",
      "<analysis_1>\n",
      "Step 1 correctly notes that the scene contains only spheres and one cylinder, with no cubes present. This matches the image.\n",
      "</analysis_1>\n",
      "\n",
      "<analysis_2>\n",
      "Step 2 correctly identifies metallic objects as the shiny, reflective gold spheres and classifies the matte-coloured spheres and the blue cylinder as non-metal. This matches the visual materials.\n",
      "</analysis_2>\n",
      "\n",
      "<analysis_3>\n",
      "Step 3 claims there are two large gold (metallic) spheres, but the image shows only one truly large reflective gold sphere (front left). The only other reflective gold sphere (middle‐right) is much smaller in diameter. Thus there is only one large metal object, not two. This miscounts the key quantity.\n",
      "</analysis_3>\n",
      "\n",
      "<conclusion>\n",
      "Incorrect\n",
      "</conclusion>\n",
      "---------------END-----------------\n"
     ]
    }
   ],
   "source": [
    "import json\n",
    "\n",
    "jsonl_path = \"/mnt/fast10/brandon/mmr_rollout_data/final_combined_MC_and_verification_files/CLEVR_final_mc_rollouts_with_all_models_verification_merged.jsonl\"\n",
    "target_rollout_uuid = \"8f767ba9-906c-45fb-9a18-1ca1b7758643\"\n",
    "target_field = \"o4_mini_isVerified\"\n",
    "target_value = None\n",
    "\n",
    "# Load all lines\n",
    "with open(jsonl_path, \"r\") as f:\n",
    "    lines = f.readlines()\n",
    "\n",
    "data = [json.loads(line) for line in lines]\n",
    "\n",
    "# Find and update the target row\n",
    "matches = [i for i, row in enumerate(data) if row.get(\"rollout_uuid\") == target_rollout_uuid]\n",
    "if len(matches) != 1:\n",
    "    raise ValueError(f\"Expected exactly one match for rollout_uuid={target_rollout_uuid}, found {len(matches)}\")\n",
    "\n",
    "idx = matches[0]\n",
    "print(f\"updating {target_field} for target uuid {target_rollout_uuid}, from {data[idx][target_field]} to {target_value}\")\n",
    "print()\n",
    "data[idx][target_field] = target_value\n",
    "\n",
    "# before saving, load the array into a pandas dataframe and print the updated value where the target uuid is\n",
    "import pandas as pd\n",
    "df = pd.DataFrame(data)\n",
    "print()\n",
    "print(f\"dataframe value of {target_field} for target uuid {target_rollout_uuid} is now updated to:\")\n",
    "print(\"-------------START-------------------\")\n",
    "print(df[df['rollout_uuid'] == target_rollout_uuid][target_field].values[0])\n",
    "print(\"---------------END-----------------\")\n",
    "\n",
    "print(\"-------------START-------------------\")\n",
    "print(df[df['rollout_uuid'] == target_rollout_uuid].o4_mini_verification_solution.values[0])\n",
    "print(\"---------------END-----------------\")\n",
    "\n",
    "# Save back to JSONL (overwrite)\n",
    "with open(jsonl_path, \"w\") as f:\n",
    "    for row in data:\n",
    "        f.write(json.dumps(row, ensure_ascii=False) + \"\\n\")"
   ]
  },
  {
   "cell_type": "code",
   "execution_count": 13,
   "id": "3c1d2573",
   "metadata": {},
   "outputs": [
    {
     "name": "stdout",
     "output_type": "stream",
     "text": [
      "After update, o4_mini_isVerified for 8f767ba9-906c-45fb-9a18-1ca1b7758643 is: None\n"
     ]
    }
   ],
   "source": [
    "# Reload the file and verify the update\n",
    "with open(jsonl_path, \"r\") as f:\n",
    "    updated_data = [json.loads(line) for line in f]\n",
    "\n",
    "updated_row = next((row for row in updated_data if row.get(\"rollout_uuid\") == target_rollout_uuid), None)\n",
    "if updated_row is None:\n",
    "    raise ValueError(f\"Could not find row with rollout_uuid={target_rollout_uuid} after update\")\n",
    "\n",
    "print(f\"After update, {target_field} for {target_rollout_uuid} is:\", updated_row[target_field])"
   ]
  },
  {
   "cell_type": "code",
   "execution_count": null,
   "id": "ffb71dff",
   "metadata": {},
   "outputs": [],
   "source": []
  }
 ],
 "metadata": {
  "kernelspec": {
   "display_name": "mmr_processing",
   "language": "python",
   "name": "python3"
  },
  "language_info": {
   "codemirror_mode": {
    "name": "ipython",
    "version": 3
   },
   "file_extension": ".py",
   "mimetype": "text/x-python",
   "name": "python",
   "nbconvert_exporter": "python",
   "pygments_lexer": "ipython3",
   "version": "3.12.9"
  }
 },
 "nbformat": 4,
 "nbformat_minor": 5
}
